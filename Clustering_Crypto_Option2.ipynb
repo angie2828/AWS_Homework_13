{
 "cells": [
  {
   "cell_type": "code",
   "execution_count": 4,
   "id": "2c07a4e2-5183-49f3-b2e5-16890f8b5262",
   "metadata": {},
   "outputs": [],
   "source": [
    "# Initial imports\n",
    "import requests\n",
    "import pandas as pd\n",
    "import matplotlib.pyplot as plt\n",
    "import hvplot.pandas\n",
    "import plotly.express as px\n",
    "from sklearn.preprocessing import StandardScaler, MinMaxScaler\n",
    "from sklearn.decomposition import PCA\n",
    "from sklearn.cluster import KMeans"
   ]
  },
  {
   "cell_type": "code",
   "execution_count": 2,
   "id": "5866524b-7138-4637-872f-909d5f143e36",
   "metadata": {},
   "outputs": [
    {
     "name": "stdout",
     "output_type": "stream",
     "text": [
      "Requirement already satisfied: pandas in c:\\users\\afuen\\anaconda3\\envs\\pyvizenv2\\lib\\site-packages (1.3.0)\n",
      "Requirement already satisfied: python-dateutil>=2.7.3 in c:\\users\\afuen\\anaconda3\\envs\\pyvizenv2\\lib\\site-packages (from pandas) (2.8.1)\n",
      "Requirement already satisfied: numpy>=1.17.3 in c:\\users\\afuen\\anaconda3\\envs\\pyvizenv2\\lib\\site-packages (from pandas) (1.19.5)\n",
      "Requirement already satisfied: pytz>=2017.3 in c:\\users\\afuen\\anaconda3\\envs\\pyvizenv2\\lib\\site-packages (from pandas) (2021.1)\n",
      "Requirement already satisfied: six>=1.5 in c:\\users\\afuen\\anaconda3\\envs\\pyvizenv2\\lib\\site-packages (from python-dateutil>=2.7.3->pandas) (1.15.0)\n",
      "Note: you may need to restart the kernel to use updated packages.\n"
     ]
    }
   ],
   "source": [
    "pip install pandas"
   ]
  },
  {
   "cell_type": "code",
   "execution_count": 5,
   "id": "1f86ab8b-ae5d-42e4-8ea3-59f3a290aeb4",
   "metadata": {},
   "outputs": [],
   "source": [
    "# Use the following endpoint to fetch json data\n",
    "url = \"https://min-api.cryptocompare.com/data/all/coinlist\""
   ]
  },
  {
   "cell_type": "code",
   "execution_count": 6,
   "id": "878869b1-3984-461b-b57a-f64e3a33ea9a",
   "metadata": {},
   "outputs": [],
   "source": [
    "# Create a DataFrame \n",
    "# HINT: You will need to use the 'Data' key from the json response, then transpose the DataFrame.\n",
    "r = requests.get(url)\n",
    "data = r.json()"
   ]
  },
  {
   "cell_type": "code",
   "execution_count": 15,
   "id": "ded1d4f4-baf8-477a-a9a5-66bccfa7efbd",
   "metadata": {},
   "outputs": [
    {
     "data": {
      "text/html": [
       "<div>\n",
       "<style scoped>\n",
       "    .dataframe tbody tr th:only-of-type {\n",
       "        vertical-align: middle;\n",
       "    }\n",
       "\n",
       "    .dataframe tbody tr th {\n",
       "        vertical-align: top;\n",
       "    }\n",
       "\n",
       "    .dataframe thead th {\n",
       "        text-align: right;\n",
       "    }\n",
       "</style>\n",
       "<table border=\"1\" class=\"dataframe\">\n",
       "  <thead>\n",
       "    <tr style=\"text-align: right;\">\n",
       "      <th></th>\n",
       "      <th>Id</th>\n",
       "      <th>Url</th>\n",
       "      <th>ImageUrl</th>\n",
       "      <th>ContentCreatedOn</th>\n",
       "      <th>Name</th>\n",
       "      <th>Symbol</th>\n",
       "      <th>CoinName</th>\n",
       "      <th>FullName</th>\n",
       "      <th>Description</th>\n",
       "      <th>AssetTokenStatus</th>\n",
       "      <th>...</th>\n",
       "      <th>MaxSupply</th>\n",
       "      <th>MktCapPenalty</th>\n",
       "      <th>IsUsedInDefi</th>\n",
       "      <th>IsUsedInNft</th>\n",
       "      <th>PlatformType</th>\n",
       "      <th>BuiltOn</th>\n",
       "      <th>SmartContractAddress</th>\n",
       "      <th>DecimalPoints</th>\n",
       "      <th>Difficulty</th>\n",
       "      <th>AlgorithmType</th>\n",
       "    </tr>\n",
       "  </thead>\n",
       "  <tbody>\n",
       "    <tr>\n",
       "      <th>42</th>\n",
       "      <td>4321</td>\n",
       "      <td>/coins/42/overview</td>\n",
       "      <td>/media/35650717/42.jpg</td>\n",
       "      <td>1427211129</td>\n",
       "      <td>42</td>\n",
       "      <td>42</td>\n",
       "      <td>42 Coin</td>\n",
       "      <td>42 Coin (42)</td>\n",
       "      <td>Everything about 42 coin is 42 - apart from th...</td>\n",
       "      <td>N/A</td>\n",
       "      <td>...</td>\n",
       "      <td>0</td>\n",
       "      <td>0</td>\n",
       "      <td>0</td>\n",
       "      <td>0</td>\n",
       "      <td>NaN</td>\n",
       "      <td>NaN</td>\n",
       "      <td>NaN</td>\n",
       "      <td>NaN</td>\n",
       "      <td>NaN</td>\n",
       "      <td>NaN</td>\n",
       "    </tr>\n",
       "    <tr>\n",
       "      <th>300</th>\n",
       "      <td>749869</td>\n",
       "      <td>/coins/300/overview</td>\n",
       "      <td>/media/27010595/300.png</td>\n",
       "      <td>1517935016</td>\n",
       "      <td>300</td>\n",
       "      <td>300</td>\n",
       "      <td>300 token</td>\n",
       "      <td>300 token (300)</td>\n",
       "      <td>300 token is an ERC20 token. This Token was cr...</td>\n",
       "      <td>N/A</td>\n",
       "      <td>...</td>\n",
       "      <td>300</td>\n",
       "      <td>0</td>\n",
       "      <td>0</td>\n",
       "      <td>0</td>\n",
       "      <td>token</td>\n",
       "      <td>ETH</td>\n",
       "      <td>0xaec98a708810414878c3bcdf46aad31ded4a4557</td>\n",
       "      <td>18</td>\n",
       "      <td>NaN</td>\n",
       "      <td>NaN</td>\n",
       "    </tr>\n",
       "    <tr>\n",
       "      <th>365</th>\n",
       "      <td>33639</td>\n",
       "      <td>/coins/365/overview</td>\n",
       "      <td>/media/352070/365.png</td>\n",
       "      <td>1480032918</td>\n",
       "      <td>365</td>\n",
       "      <td>365</td>\n",
       "      <td>365Coin</td>\n",
       "      <td>365Coin (365)</td>\n",
       "      <td>365Coin is a Proof of Work and Proof of Stake ...</td>\n",
       "      <td>N/A</td>\n",
       "      <td>...</td>\n",
       "      <td>0</td>\n",
       "      <td>0</td>\n",
       "      <td>0</td>\n",
       "      <td>0</td>\n",
       "      <td>NaN</td>\n",
       "      <td>NaN</td>\n",
       "      <td>NaN</td>\n",
       "      <td>NaN</td>\n",
       "      <td>NaN</td>\n",
       "      <td>NaN</td>\n",
       "    </tr>\n",
       "    <tr>\n",
       "      <th>404</th>\n",
       "      <td>21227</td>\n",
       "      <td>/coins/404/overview</td>\n",
       "      <td>/media/35650851/404-300x300.jpg</td>\n",
       "      <td>1466100361</td>\n",
       "      <td>404</td>\n",
       "      <td>404</td>\n",
       "      <td>404Coin</td>\n",
       "      <td>404Coin (404)</td>\n",
       "      <td>404 is a PoW/PoS hybrid cryptocurrency that al...</td>\n",
       "      <td>N/A</td>\n",
       "      <td>...</td>\n",
       "      <td>0</td>\n",
       "      <td>0</td>\n",
       "      <td>0</td>\n",
       "      <td>0</td>\n",
       "      <td>NaN</td>\n",
       "      <td>NaN</td>\n",
       "      <td>NaN</td>\n",
       "      <td>NaN</td>\n",
       "      <td>NaN</td>\n",
       "      <td>NaN</td>\n",
       "    </tr>\n",
       "    <tr>\n",
       "      <th>433</th>\n",
       "      <td>926547</td>\n",
       "      <td>/coins/433/overview</td>\n",
       "      <td>/media/34836095/433.png</td>\n",
       "      <td>1541597321</td>\n",
       "      <td>433</td>\n",
       "      <td>433</td>\n",
       "      <td>433 Token</td>\n",
       "      <td>433 Token (433)</td>\n",
       "      <td>433 Token is a decentralised soccer platform t...</td>\n",
       "      <td>Finished</td>\n",
       "      <td>...</td>\n",
       "      <td>NaN</td>\n",
       "      <td>NaN</td>\n",
       "      <td>NaN</td>\n",
       "      <td>NaN</td>\n",
       "      <td>NaN</td>\n",
       "      <td>NaN</td>\n",
       "      <td>NaN</td>\n",
       "      <td>NaN</td>\n",
       "      <td>NaN</td>\n",
       "      <td>NaN</td>\n",
       "    </tr>\n",
       "  </tbody>\n",
       "</table>\n",
       "<p>5 rows × 36 columns</p>\n",
       "</div>"
      ],
      "text/plain": [
       "         Id                  Url                         ImageUrl  \\\n",
       "42     4321   /coins/42/overview           /media/35650717/42.jpg   \n",
       "300  749869  /coins/300/overview          /media/27010595/300.png   \n",
       "365   33639  /coins/365/overview            /media/352070/365.png   \n",
       "404   21227  /coins/404/overview  /media/35650851/404-300x300.jpg   \n",
       "433  926547  /coins/433/overview          /media/34836095/433.png   \n",
       "\n",
       "    ContentCreatedOn Name Symbol   CoinName         FullName  \\\n",
       "42        1427211129   42     42    42 Coin     42 Coin (42)   \n",
       "300       1517935016  300    300  300 token  300 token (300)   \n",
       "365       1480032918  365    365    365Coin    365Coin (365)   \n",
       "404       1466100361  404    404    404Coin    404Coin (404)   \n",
       "433       1541597321  433    433  433 Token  433 Token (433)   \n",
       "\n",
       "                                           Description AssetTokenStatus  ...  \\\n",
       "42   Everything about 42 coin is 42 - apart from th...              N/A  ...   \n",
       "300  300 token is an ERC20 token. This Token was cr...              N/A  ...   \n",
       "365  365Coin is a Proof of Work and Proof of Stake ...              N/A  ...   \n",
       "404  404 is a PoW/PoS hybrid cryptocurrency that al...              N/A  ...   \n",
       "433  433 Token is a decentralised soccer platform t...         Finished  ...   \n",
       "\n",
       "    MaxSupply MktCapPenalty IsUsedInDefi IsUsedInNft PlatformType BuiltOn  \\\n",
       "42          0             0            0           0          NaN     NaN   \n",
       "300       300             0            0           0        token     ETH   \n",
       "365         0             0            0           0          NaN     NaN   \n",
       "404         0             0            0           0          NaN     NaN   \n",
       "433       NaN           NaN          NaN         NaN          NaN     NaN   \n",
       "\n",
       "                           SmartContractAddress DecimalPoints Difficulty  \\\n",
       "42                                          NaN           NaN        NaN   \n",
       "300  0xaec98a708810414878c3bcdf46aad31ded4a4557            18        NaN   \n",
       "365                                         NaN           NaN        NaN   \n",
       "404                                         NaN           NaN        NaN   \n",
       "433                                         NaN           NaN        NaN   \n",
       "\n",
       "    AlgorithmType  \n",
       "42            NaN  \n",
       "300           NaN  \n",
       "365           NaN  \n",
       "404           NaN  \n",
       "433           NaN  \n",
       "\n",
       "[5 rows x 36 columns]"
      ]
     },
     "execution_count": 15,
     "metadata": {},
     "output_type": "execute_result"
    }
   ],
   "source": [
    "# Create a DataFrame \n",
    "# HINT: You will need to use the 'Data' key from the json response, then transpose the DataFrame.\n",
    "data = data['Data']\n",
    "crypto_df = pd.DataFrame.from_dict(data)\n",
    "crypto_df = crypto_df.T\n",
    "crypto_df.head()"
   ]
  },
  {
   "cell_type": "code",
   "execution_count": 18,
   "id": "361f29e0-f0fa-4596-b5ba-7276b1697c50",
   "metadata": {},
   "outputs": [
    {
     "data": {
      "text/html": [
       "<div>\n",
       "<style scoped>\n",
       "    .dataframe tbody tr th:only-of-type {\n",
       "        vertical-align: middle;\n",
       "    }\n",
       "\n",
       "    .dataframe tbody tr th {\n",
       "        vertical-align: top;\n",
       "    }\n",
       "\n",
       "    .dataframe thead th {\n",
       "        text-align: right;\n",
       "    }\n",
       "</style>\n",
       "<table border=\"1\" class=\"dataframe\">\n",
       "  <thead>\n",
       "    <tr style=\"text-align: right;\">\n",
       "      <th></th>\n",
       "      <th>CoinName</th>\n",
       "      <th>Algorithm</th>\n",
       "      <th>IsTrading</th>\n",
       "      <th>ProofType</th>\n",
       "      <th>TotalCoinsMined</th>\n",
       "      <th>TotalCoinSupply</th>\n",
       "    </tr>\n",
       "  </thead>\n",
       "  <tbody>\n",
       "    <tr>\n",
       "      <th>42</th>\n",
       "      <td>42 Coin</td>\n",
       "      <td>Scrypt</td>\n",
       "      <td>True</td>\n",
       "      <td>PoW/PoS</td>\n",
       "      <td>4.199995e+01</td>\n",
       "      <td>42</td>\n",
       "    </tr>\n",
       "    <tr>\n",
       "      <th>365</th>\n",
       "      <td>365Coin</td>\n",
       "      <td>X11</td>\n",
       "      <td>True</td>\n",
       "      <td>PoW/PoS</td>\n",
       "      <td>NaN</td>\n",
       "      <td>2300000000</td>\n",
       "    </tr>\n",
       "    <tr>\n",
       "      <th>404</th>\n",
       "      <td>404Coin</td>\n",
       "      <td>Scrypt</td>\n",
       "      <td>True</td>\n",
       "      <td>PoW/PoS</td>\n",
       "      <td>1.055185e+09</td>\n",
       "      <td>532000000</td>\n",
       "    </tr>\n",
       "    <tr>\n",
       "      <th>611</th>\n",
       "      <td>SixEleven</td>\n",
       "      <td>SHA-256</td>\n",
       "      <td>True</td>\n",
       "      <td>PoW</td>\n",
       "      <td>NaN</td>\n",
       "      <td>611000</td>\n",
       "    </tr>\n",
       "    <tr>\n",
       "      <th>808</th>\n",
       "      <td>808</td>\n",
       "      <td>SHA-256</td>\n",
       "      <td>True</td>\n",
       "      <td>PoW/PoS</td>\n",
       "      <td>0.000000e+00</td>\n",
       "      <td>0</td>\n",
       "    </tr>\n",
       "    <tr>\n",
       "      <th>...</th>\n",
       "      <td>...</td>\n",
       "      <td>...</td>\n",
       "      <td>...</td>\n",
       "      <td>...</td>\n",
       "      <td>...</td>\n",
       "      <td>...</td>\n",
       "    </tr>\n",
       "    <tr>\n",
       "      <th>XBC</th>\n",
       "      <td>BitcoinPlus</td>\n",
       "      <td>Scrypt</td>\n",
       "      <td>True</td>\n",
       "      <td>PoS</td>\n",
       "      <td>1.283270e+05</td>\n",
       "      <td>1000000</td>\n",
       "    </tr>\n",
       "    <tr>\n",
       "      <th>DVTC</th>\n",
       "      <td>DivotyCoin</td>\n",
       "      <td>Scrypt</td>\n",
       "      <td>False</td>\n",
       "      <td>PoW/PoS</td>\n",
       "      <td>2.149121e+07</td>\n",
       "      <td>100000000</td>\n",
       "    </tr>\n",
       "    <tr>\n",
       "      <th>GIOT</th>\n",
       "      <td>Giotto Coin</td>\n",
       "      <td>Scrypt</td>\n",
       "      <td>False</td>\n",
       "      <td>PoW/PoS</td>\n",
       "      <td>NaN</td>\n",
       "      <td>233100000</td>\n",
       "    </tr>\n",
       "    <tr>\n",
       "      <th>OPSC</th>\n",
       "      <td>OpenSourceCoin</td>\n",
       "      <td>SHA-256</td>\n",
       "      <td>False</td>\n",
       "      <td>PoW/PoS</td>\n",
       "      <td>NaN</td>\n",
       "      <td>21000000</td>\n",
       "    </tr>\n",
       "    <tr>\n",
       "      <th>PUNK</th>\n",
       "      <td>SteamPunk</td>\n",
       "      <td>PoS</td>\n",
       "      <td>False</td>\n",
       "      <td>PoS</td>\n",
       "      <td>NaN</td>\n",
       "      <td>40000000</td>\n",
       "    </tr>\n",
       "  </tbody>\n",
       "</table>\n",
       "<p>1252 rows × 6 columns</p>\n",
       "</div>"
      ],
      "text/plain": [
       "            CoinName Algorithm  IsTrading ProofType  TotalCoinsMined  \\\n",
       "42           42 Coin    Scrypt       True   PoW/PoS     4.199995e+01   \n",
       "365          365Coin       X11       True   PoW/PoS              NaN   \n",
       "404          404Coin    Scrypt       True   PoW/PoS     1.055185e+09   \n",
       "611        SixEleven   SHA-256       True       PoW              NaN   \n",
       "808              808   SHA-256       True   PoW/PoS     0.000000e+00   \n",
       "...              ...       ...        ...       ...              ...   \n",
       "XBC      BitcoinPlus    Scrypt       True       PoS     1.283270e+05   \n",
       "DVTC      DivotyCoin    Scrypt      False   PoW/PoS     2.149121e+07   \n",
       "GIOT     Giotto Coin    Scrypt      False   PoW/PoS              NaN   \n",
       "OPSC  OpenSourceCoin   SHA-256      False   PoW/PoS              NaN   \n",
       "PUNK       SteamPunk       PoS      False       PoS              NaN   \n",
       "\n",
       "     TotalCoinSupply  \n",
       "42                42  \n",
       "365       2300000000  \n",
       "404        532000000  \n",
       "611           611000  \n",
       "808                0  \n",
       "...              ...  \n",
       "XBC          1000000  \n",
       "DVTC       100000000  \n",
       "GIOT       233100000  \n",
       "OPSC        21000000  \n",
       "PUNK        40000000  \n",
       "\n",
       "[1252 rows x 6 columns]"
      ]
     },
     "execution_count": 18,
     "metadata": {},
     "output_type": "execute_result"
    }
   ],
   "source": [
    "# Alternatively, use the provided csv file:\n",
    "# Create a DataFrame\n",
    "from pathlib import Path\n",
    "file_path = Path('crypto_data.csv')\n",
    "crypto_df = pd.read_csv(file_path, index_col=0)\n",
    "crypto_df"
   ]
  },
  {
   "cell_type": "code",
   "execution_count": 20,
   "id": "c68bc9e2-8aab-4ccf-a9d8-6ad6d104ab66",
   "metadata": {},
   "outputs": [
    {
     "data": {
      "text/html": [
       "<div>\n",
       "<style scoped>\n",
       "    .dataframe tbody tr th:only-of-type {\n",
       "        vertical-align: middle;\n",
       "    }\n",
       "\n",
       "    .dataframe tbody tr th {\n",
       "        vertical-align: top;\n",
       "    }\n",
       "\n",
       "    .dataframe thead th {\n",
       "        text-align: right;\n",
       "    }\n",
       "</style>\n",
       "<table border=\"1\" class=\"dataframe\">\n",
       "  <thead>\n",
       "    <tr style=\"text-align: right;\">\n",
       "      <th></th>\n",
       "      <th>CoinName</th>\n",
       "      <th>Algorithm</th>\n",
       "      <th>IsTrading</th>\n",
       "      <th>ProofType</th>\n",
       "      <th>TotalCoinsMined</th>\n",
       "      <th>TotalCoinSupply</th>\n",
       "    </tr>\n",
       "  </thead>\n",
       "  <tbody>\n",
       "    <tr>\n",
       "      <th>42</th>\n",
       "      <td>42 Coin</td>\n",
       "      <td>Scrypt</td>\n",
       "      <td>True</td>\n",
       "      <td>PoW/PoS</td>\n",
       "      <td>4.199995e+01</td>\n",
       "      <td>42</td>\n",
       "    </tr>\n",
       "    <tr>\n",
       "      <th>365</th>\n",
       "      <td>365Coin</td>\n",
       "      <td>X11</td>\n",
       "      <td>True</td>\n",
       "      <td>PoW/PoS</td>\n",
       "      <td>NaN</td>\n",
       "      <td>2300000000</td>\n",
       "    </tr>\n",
       "    <tr>\n",
       "      <th>404</th>\n",
       "      <td>404Coin</td>\n",
       "      <td>Scrypt</td>\n",
       "      <td>True</td>\n",
       "      <td>PoW/PoS</td>\n",
       "      <td>1.055185e+09</td>\n",
       "      <td>532000000</td>\n",
       "    </tr>\n",
       "    <tr>\n",
       "      <th>611</th>\n",
       "      <td>SixEleven</td>\n",
       "      <td>SHA-256</td>\n",
       "      <td>True</td>\n",
       "      <td>PoW</td>\n",
       "      <td>NaN</td>\n",
       "      <td>611000</td>\n",
       "    </tr>\n",
       "    <tr>\n",
       "      <th>808</th>\n",
       "      <td>808</td>\n",
       "      <td>SHA-256</td>\n",
       "      <td>True</td>\n",
       "      <td>PoW/PoS</td>\n",
       "      <td>0.000000e+00</td>\n",
       "      <td>0</td>\n",
       "    </tr>\n",
       "    <tr>\n",
       "      <th>...</th>\n",
       "      <td>...</td>\n",
       "      <td>...</td>\n",
       "      <td>...</td>\n",
       "      <td>...</td>\n",
       "      <td>...</td>\n",
       "      <td>...</td>\n",
       "    </tr>\n",
       "    <tr>\n",
       "      <th>SERO</th>\n",
       "      <td>Super Zero</td>\n",
       "      <td>Ethash</td>\n",
       "      <td>True</td>\n",
       "      <td>PoW</td>\n",
       "      <td>NaN</td>\n",
       "      <td>1000000000</td>\n",
       "    </tr>\n",
       "    <tr>\n",
       "      <th>UOS</th>\n",
       "      <td>UOS</td>\n",
       "      <td>SHA-256</td>\n",
       "      <td>True</td>\n",
       "      <td>DPoI</td>\n",
       "      <td>NaN</td>\n",
       "      <td>1000000000</td>\n",
       "    </tr>\n",
       "    <tr>\n",
       "      <th>BDX</th>\n",
       "      <td>Beldex</td>\n",
       "      <td>CryptoNight</td>\n",
       "      <td>True</td>\n",
       "      <td>PoW</td>\n",
       "      <td>9.802226e+08</td>\n",
       "      <td>1400222610</td>\n",
       "    </tr>\n",
       "    <tr>\n",
       "      <th>ZEN</th>\n",
       "      <td>Horizen</td>\n",
       "      <td>Equihash</td>\n",
       "      <td>True</td>\n",
       "      <td>PoW</td>\n",
       "      <td>7.296538e+06</td>\n",
       "      <td>21000000</td>\n",
       "    </tr>\n",
       "    <tr>\n",
       "      <th>XBC</th>\n",
       "      <td>BitcoinPlus</td>\n",
       "      <td>Scrypt</td>\n",
       "      <td>True</td>\n",
       "      <td>PoS</td>\n",
       "      <td>1.283270e+05</td>\n",
       "      <td>1000000</td>\n",
       "    </tr>\n",
       "  </tbody>\n",
       "</table>\n",
       "<p>1144 rows × 6 columns</p>\n",
       "</div>"
      ],
      "text/plain": [
       "         CoinName    Algorithm  IsTrading ProofType  TotalCoinsMined  \\\n",
       "42        42 Coin       Scrypt       True   PoW/PoS     4.199995e+01   \n",
       "365       365Coin          X11       True   PoW/PoS              NaN   \n",
       "404       404Coin       Scrypt       True   PoW/PoS     1.055185e+09   \n",
       "611     SixEleven      SHA-256       True       PoW              NaN   \n",
       "808           808      SHA-256       True   PoW/PoS     0.000000e+00   \n",
       "...           ...          ...        ...       ...              ...   \n",
       "SERO   Super Zero       Ethash       True       PoW              NaN   \n",
       "UOS           UOS      SHA-256       True      DPoI              NaN   \n",
       "BDX        Beldex  CryptoNight       True       PoW     9.802226e+08   \n",
       "ZEN       Horizen     Equihash       True       PoW     7.296538e+06   \n",
       "XBC   BitcoinPlus       Scrypt       True       PoS     1.283270e+05   \n",
       "\n",
       "     TotalCoinSupply  \n",
       "42                42  \n",
       "365       2300000000  \n",
       "404        532000000  \n",
       "611           611000  \n",
       "808                0  \n",
       "...              ...  \n",
       "SERO      1000000000  \n",
       "UOS       1000000000  \n",
       "BDX       1400222610  \n",
       "ZEN         21000000  \n",
       "XBC          1000000  \n",
       "\n",
       "[1144 rows x 6 columns]"
      ]
     },
     "execution_count": 20,
     "metadata": {},
     "output_type": "execute_result"
    }
   ],
   "source": [
    "# Keep only necessary columns:\n",
    "# 'CoinName','Algorithm','IsTrading','ProofType','TotalCoinsMined','TotalCoinSupply'\n",
    "# Keep only cryptocurrencies that are trading\n",
    "crypto_df = crypto_df[crypto_df['IsTrading'] == True]\n",
    "crypto_df"
   ]
  },
  {
   "cell_type": "code",
   "execution_count": 21,
   "id": "2826fd98-e120-4b2f-8c57-c327e36b68f9",
   "metadata": {},
   "outputs": [
    {
     "data": {
      "text/html": [
       "<div>\n",
       "<style scoped>\n",
       "    .dataframe tbody tr th:only-of-type {\n",
       "        vertical-align: middle;\n",
       "    }\n",
       "\n",
       "    .dataframe tbody tr th {\n",
       "        vertical-align: top;\n",
       "    }\n",
       "\n",
       "    .dataframe thead th {\n",
       "        text-align: right;\n",
       "    }\n",
       "</style>\n",
       "<table border=\"1\" class=\"dataframe\">\n",
       "  <thead>\n",
       "    <tr style=\"text-align: right;\">\n",
       "      <th></th>\n",
       "      <th>CoinName</th>\n",
       "      <th>Algorithm</th>\n",
       "      <th>IsTrading</th>\n",
       "      <th>ProofType</th>\n",
       "      <th>TotalCoinsMined</th>\n",
       "      <th>TotalCoinSupply</th>\n",
       "    </tr>\n",
       "  </thead>\n",
       "  <tbody>\n",
       "    <tr>\n",
       "      <th>42</th>\n",
       "      <td>42 Coin</td>\n",
       "      <td>Scrypt</td>\n",
       "      <td>True</td>\n",
       "      <td>PoW/PoS</td>\n",
       "      <td>4.199995e+01</td>\n",
       "      <td>42</td>\n",
       "    </tr>\n",
       "    <tr>\n",
       "      <th>365</th>\n",
       "      <td>365Coin</td>\n",
       "      <td>X11</td>\n",
       "      <td>True</td>\n",
       "      <td>PoW/PoS</td>\n",
       "      <td>NaN</td>\n",
       "      <td>2300000000</td>\n",
       "    </tr>\n",
       "    <tr>\n",
       "      <th>404</th>\n",
       "      <td>404Coin</td>\n",
       "      <td>Scrypt</td>\n",
       "      <td>True</td>\n",
       "      <td>PoW/PoS</td>\n",
       "      <td>1.055185e+09</td>\n",
       "      <td>532000000</td>\n",
       "    </tr>\n",
       "    <tr>\n",
       "      <th>611</th>\n",
       "      <td>SixEleven</td>\n",
       "      <td>SHA-256</td>\n",
       "      <td>True</td>\n",
       "      <td>PoW</td>\n",
       "      <td>NaN</td>\n",
       "      <td>611000</td>\n",
       "    </tr>\n",
       "    <tr>\n",
       "      <th>808</th>\n",
       "      <td>808</td>\n",
       "      <td>SHA-256</td>\n",
       "      <td>True</td>\n",
       "      <td>PoW/PoS</td>\n",
       "      <td>0.000000e+00</td>\n",
       "      <td>0</td>\n",
       "    </tr>\n",
       "    <tr>\n",
       "      <th>...</th>\n",
       "      <td>...</td>\n",
       "      <td>...</td>\n",
       "      <td>...</td>\n",
       "      <td>...</td>\n",
       "      <td>...</td>\n",
       "      <td>...</td>\n",
       "    </tr>\n",
       "    <tr>\n",
       "      <th>SERO</th>\n",
       "      <td>Super Zero</td>\n",
       "      <td>Ethash</td>\n",
       "      <td>True</td>\n",
       "      <td>PoW</td>\n",
       "      <td>NaN</td>\n",
       "      <td>1000000000</td>\n",
       "    </tr>\n",
       "    <tr>\n",
       "      <th>UOS</th>\n",
       "      <td>UOS</td>\n",
       "      <td>SHA-256</td>\n",
       "      <td>True</td>\n",
       "      <td>DPoI</td>\n",
       "      <td>NaN</td>\n",
       "      <td>1000000000</td>\n",
       "    </tr>\n",
       "    <tr>\n",
       "      <th>BDX</th>\n",
       "      <td>Beldex</td>\n",
       "      <td>CryptoNight</td>\n",
       "      <td>True</td>\n",
       "      <td>PoW</td>\n",
       "      <td>9.802226e+08</td>\n",
       "      <td>1400222610</td>\n",
       "    </tr>\n",
       "    <tr>\n",
       "      <th>ZEN</th>\n",
       "      <td>Horizen</td>\n",
       "      <td>Equihash</td>\n",
       "      <td>True</td>\n",
       "      <td>PoW</td>\n",
       "      <td>7.296538e+06</td>\n",
       "      <td>21000000</td>\n",
       "    </tr>\n",
       "    <tr>\n",
       "      <th>XBC</th>\n",
       "      <td>BitcoinPlus</td>\n",
       "      <td>Scrypt</td>\n",
       "      <td>True</td>\n",
       "      <td>PoS</td>\n",
       "      <td>1.283270e+05</td>\n",
       "      <td>1000000</td>\n",
       "    </tr>\n",
       "  </tbody>\n",
       "</table>\n",
       "<p>1144 rows × 6 columns</p>\n",
       "</div>"
      ],
      "text/plain": [
       "         CoinName    Algorithm  IsTrading ProofType  TotalCoinsMined  \\\n",
       "42        42 Coin       Scrypt       True   PoW/PoS     4.199995e+01   \n",
       "365       365Coin          X11       True   PoW/PoS              NaN   \n",
       "404       404Coin       Scrypt       True   PoW/PoS     1.055185e+09   \n",
       "611     SixEleven      SHA-256       True       PoW              NaN   \n",
       "808           808      SHA-256       True   PoW/PoS     0.000000e+00   \n",
       "...           ...          ...        ...       ...              ...   \n",
       "SERO   Super Zero       Ethash       True       PoW              NaN   \n",
       "UOS           UOS      SHA-256       True      DPoI              NaN   \n",
       "BDX        Beldex  CryptoNight       True       PoW     9.802226e+08   \n",
       "ZEN       Horizen     Equihash       True       PoW     7.296538e+06   \n",
       "XBC   BitcoinPlus       Scrypt       True       PoS     1.283270e+05   \n",
       "\n",
       "     TotalCoinSupply  \n",
       "42                42  \n",
       "365       2300000000  \n",
       "404        532000000  \n",
       "611           611000  \n",
       "808                0  \n",
       "...              ...  \n",
       "SERO      1000000000  \n",
       "UOS       1000000000  \n",
       "BDX       1400222610  \n",
       "ZEN         21000000  \n",
       "XBC          1000000  \n",
       "\n",
       "[1144 rows x 6 columns]"
      ]
     },
     "execution_count": 21,
     "metadata": {},
     "output_type": "execute_result"
    }
   ],
   "source": [
    "# Keep only cryptocurrencies with a working algorithm\n",
    "crypto_df = crypto_df[crypto_df[\"Algorithm\"] != \"N/A\"]\n",
    "crypto_df"
   ]
  },
  {
   "cell_type": "code",
   "execution_count": 22,
   "id": "d9265aa2-76f4-4bac-8814-1967747498af",
   "metadata": {},
   "outputs": [
    {
     "data": {
      "text/html": [
       "<div>\n",
       "<style scoped>\n",
       "    .dataframe tbody tr th:only-of-type {\n",
       "        vertical-align: middle;\n",
       "    }\n",
       "\n",
       "    .dataframe tbody tr th {\n",
       "        vertical-align: top;\n",
       "    }\n",
       "\n",
       "    .dataframe thead th {\n",
       "        text-align: right;\n",
       "    }\n",
       "</style>\n",
       "<table border=\"1\" class=\"dataframe\">\n",
       "  <thead>\n",
       "    <tr style=\"text-align: right;\">\n",
       "      <th></th>\n",
       "      <th>CoinName</th>\n",
       "      <th>Algorithm</th>\n",
       "      <th>ProofType</th>\n",
       "      <th>TotalCoinsMined</th>\n",
       "      <th>TotalCoinSupply</th>\n",
       "    </tr>\n",
       "  </thead>\n",
       "  <tbody>\n",
       "    <tr>\n",
       "      <th>42</th>\n",
       "      <td>42 Coin</td>\n",
       "      <td>Scrypt</td>\n",
       "      <td>PoW/PoS</td>\n",
       "      <td>4.199995e+01</td>\n",
       "      <td>42</td>\n",
       "    </tr>\n",
       "    <tr>\n",
       "      <th>365</th>\n",
       "      <td>365Coin</td>\n",
       "      <td>X11</td>\n",
       "      <td>PoW/PoS</td>\n",
       "      <td>NaN</td>\n",
       "      <td>2300000000</td>\n",
       "    </tr>\n",
       "    <tr>\n",
       "      <th>404</th>\n",
       "      <td>404Coin</td>\n",
       "      <td>Scrypt</td>\n",
       "      <td>PoW/PoS</td>\n",
       "      <td>1.055185e+09</td>\n",
       "      <td>532000000</td>\n",
       "    </tr>\n",
       "    <tr>\n",
       "      <th>611</th>\n",
       "      <td>SixEleven</td>\n",
       "      <td>SHA-256</td>\n",
       "      <td>PoW</td>\n",
       "      <td>NaN</td>\n",
       "      <td>611000</td>\n",
       "    </tr>\n",
       "    <tr>\n",
       "      <th>808</th>\n",
       "      <td>808</td>\n",
       "      <td>SHA-256</td>\n",
       "      <td>PoW/PoS</td>\n",
       "      <td>0.000000e+00</td>\n",
       "      <td>0</td>\n",
       "    </tr>\n",
       "    <tr>\n",
       "      <th>...</th>\n",
       "      <td>...</td>\n",
       "      <td>...</td>\n",
       "      <td>...</td>\n",
       "      <td>...</td>\n",
       "      <td>...</td>\n",
       "    </tr>\n",
       "    <tr>\n",
       "      <th>SERO</th>\n",
       "      <td>Super Zero</td>\n",
       "      <td>Ethash</td>\n",
       "      <td>PoW</td>\n",
       "      <td>NaN</td>\n",
       "      <td>1000000000</td>\n",
       "    </tr>\n",
       "    <tr>\n",
       "      <th>UOS</th>\n",
       "      <td>UOS</td>\n",
       "      <td>SHA-256</td>\n",
       "      <td>DPoI</td>\n",
       "      <td>NaN</td>\n",
       "      <td>1000000000</td>\n",
       "    </tr>\n",
       "    <tr>\n",
       "      <th>BDX</th>\n",
       "      <td>Beldex</td>\n",
       "      <td>CryptoNight</td>\n",
       "      <td>PoW</td>\n",
       "      <td>9.802226e+08</td>\n",
       "      <td>1400222610</td>\n",
       "    </tr>\n",
       "    <tr>\n",
       "      <th>ZEN</th>\n",
       "      <td>Horizen</td>\n",
       "      <td>Equihash</td>\n",
       "      <td>PoW</td>\n",
       "      <td>7.296538e+06</td>\n",
       "      <td>21000000</td>\n",
       "    </tr>\n",
       "    <tr>\n",
       "      <th>XBC</th>\n",
       "      <td>BitcoinPlus</td>\n",
       "      <td>Scrypt</td>\n",
       "      <td>PoS</td>\n",
       "      <td>1.283270e+05</td>\n",
       "      <td>1000000</td>\n",
       "    </tr>\n",
       "  </tbody>\n",
       "</table>\n",
       "<p>1144 rows × 5 columns</p>\n",
       "</div>"
      ],
      "text/plain": [
       "         CoinName    Algorithm ProofType  TotalCoinsMined TotalCoinSupply\n",
       "42        42 Coin       Scrypt   PoW/PoS     4.199995e+01              42\n",
       "365       365Coin          X11   PoW/PoS              NaN      2300000000\n",
       "404       404Coin       Scrypt   PoW/PoS     1.055185e+09       532000000\n",
       "611     SixEleven      SHA-256       PoW              NaN          611000\n",
       "808           808      SHA-256   PoW/PoS     0.000000e+00               0\n",
       "...           ...          ...       ...              ...             ...\n",
       "SERO   Super Zero       Ethash       PoW              NaN      1000000000\n",
       "UOS           UOS      SHA-256      DPoI              NaN      1000000000\n",
       "BDX        Beldex  CryptoNight       PoW     9.802226e+08      1400222610\n",
       "ZEN       Horizen     Equihash       PoW     7.296538e+06        21000000\n",
       "XBC   BitcoinPlus       Scrypt       PoS     1.283270e+05         1000000\n",
       "\n",
       "[1144 rows x 5 columns]"
      ]
     },
     "execution_count": 22,
     "metadata": {},
     "output_type": "execute_result"
    }
   ],
   "source": [
    "# Remove the \"IsTrading\" column\n",
    "crypto_df = crypto_df.drop(columns='IsTrading')\n",
    "crypto_df"
   ]
  },
  {
   "cell_type": "code",
   "execution_count": 23,
   "id": "1a1a766e-770a-4d44-96af-ccdf71267a23",
   "metadata": {},
   "outputs": [
    {
     "data": {
      "text/html": [
       "<div>\n",
       "<style scoped>\n",
       "    .dataframe tbody tr th:only-of-type {\n",
       "        vertical-align: middle;\n",
       "    }\n",
       "\n",
       "    .dataframe tbody tr th {\n",
       "        vertical-align: top;\n",
       "    }\n",
       "\n",
       "    .dataframe thead th {\n",
       "        text-align: right;\n",
       "    }\n",
       "</style>\n",
       "<table border=\"1\" class=\"dataframe\">\n",
       "  <thead>\n",
       "    <tr style=\"text-align: right;\">\n",
       "      <th></th>\n",
       "      <th>CoinName</th>\n",
       "      <th>Algorithm</th>\n",
       "      <th>ProofType</th>\n",
       "      <th>TotalCoinsMined</th>\n",
       "      <th>TotalCoinSupply</th>\n",
       "    </tr>\n",
       "  </thead>\n",
       "  <tbody>\n",
       "    <tr>\n",
       "      <th>42</th>\n",
       "      <td>42 Coin</td>\n",
       "      <td>Scrypt</td>\n",
       "      <td>PoW/PoS</td>\n",
       "      <td>4.199995e+01</td>\n",
       "      <td>42</td>\n",
       "    </tr>\n",
       "    <tr>\n",
       "      <th>404</th>\n",
       "      <td>404Coin</td>\n",
       "      <td>Scrypt</td>\n",
       "      <td>PoW/PoS</td>\n",
       "      <td>1.055185e+09</td>\n",
       "      <td>532000000</td>\n",
       "    </tr>\n",
       "    <tr>\n",
       "      <th>808</th>\n",
       "      <td>808</td>\n",
       "      <td>SHA-256</td>\n",
       "      <td>PoW/PoS</td>\n",
       "      <td>0.000000e+00</td>\n",
       "      <td>0</td>\n",
       "    </tr>\n",
       "    <tr>\n",
       "      <th>1337</th>\n",
       "      <td>EliteCoin</td>\n",
       "      <td>X13</td>\n",
       "      <td>PoW/PoS</td>\n",
       "      <td>2.927942e+10</td>\n",
       "      <td>314159265359</td>\n",
       "    </tr>\n",
       "    <tr>\n",
       "      <th>BTC</th>\n",
       "      <td>Bitcoin</td>\n",
       "      <td>SHA-256</td>\n",
       "      <td>PoW</td>\n",
       "      <td>1.792718e+07</td>\n",
       "      <td>21000000</td>\n",
       "    </tr>\n",
       "    <tr>\n",
       "      <th>...</th>\n",
       "      <td>...</td>\n",
       "      <td>...</td>\n",
       "      <td>...</td>\n",
       "      <td>...</td>\n",
       "      <td>...</td>\n",
       "    </tr>\n",
       "    <tr>\n",
       "      <th>ZEPH</th>\n",
       "      <td>ZEPHYR</td>\n",
       "      <td>SHA-256</td>\n",
       "      <td>DPoS</td>\n",
       "      <td>2.000000e+09</td>\n",
       "      <td>2000000000</td>\n",
       "    </tr>\n",
       "    <tr>\n",
       "      <th>GAP</th>\n",
       "      <td>Gapcoin</td>\n",
       "      <td>Scrypt</td>\n",
       "      <td>PoW/PoS</td>\n",
       "      <td>1.493105e+07</td>\n",
       "      <td>250000000</td>\n",
       "    </tr>\n",
       "    <tr>\n",
       "      <th>BDX</th>\n",
       "      <td>Beldex</td>\n",
       "      <td>CryptoNight</td>\n",
       "      <td>PoW</td>\n",
       "      <td>9.802226e+08</td>\n",
       "      <td>1400222610</td>\n",
       "    </tr>\n",
       "    <tr>\n",
       "      <th>ZEN</th>\n",
       "      <td>Horizen</td>\n",
       "      <td>Equihash</td>\n",
       "      <td>PoW</td>\n",
       "      <td>7.296538e+06</td>\n",
       "      <td>21000000</td>\n",
       "    </tr>\n",
       "    <tr>\n",
       "      <th>XBC</th>\n",
       "      <td>BitcoinPlus</td>\n",
       "      <td>Scrypt</td>\n",
       "      <td>PoS</td>\n",
       "      <td>1.283270e+05</td>\n",
       "      <td>1000000</td>\n",
       "    </tr>\n",
       "  </tbody>\n",
       "</table>\n",
       "<p>685 rows × 5 columns</p>\n",
       "</div>"
      ],
      "text/plain": [
       "         CoinName    Algorithm ProofType  TotalCoinsMined TotalCoinSupply\n",
       "42        42 Coin       Scrypt   PoW/PoS     4.199995e+01              42\n",
       "404       404Coin       Scrypt   PoW/PoS     1.055185e+09       532000000\n",
       "808           808      SHA-256   PoW/PoS     0.000000e+00               0\n",
       "1337    EliteCoin          X13   PoW/PoS     2.927942e+10    314159265359\n",
       "BTC       Bitcoin      SHA-256       PoW     1.792718e+07        21000000\n",
       "...           ...          ...       ...              ...             ...\n",
       "ZEPH       ZEPHYR      SHA-256      DPoS     2.000000e+09      2000000000\n",
       "GAP       Gapcoin       Scrypt   PoW/PoS     1.493105e+07       250000000\n",
       "BDX        Beldex  CryptoNight       PoW     9.802226e+08      1400222610\n",
       "ZEN       Horizen     Equihash       PoW     7.296538e+06        21000000\n",
       "XBC   BitcoinPlus       Scrypt       PoS     1.283270e+05         1000000\n",
       "\n",
       "[685 rows x 5 columns]"
      ]
     },
     "execution_count": 23,
     "metadata": {},
     "output_type": "execute_result"
    }
   ],
   "source": [
    "# Remove rows with at least 1 null value\n",
    "crypto_df = crypto_df.dropna()\n",
    "crypto_df"
   ]
  },
  {
   "cell_type": "code",
   "execution_count": 24,
   "id": "1091ce47-8c53-4322-9d4f-5b9ae6dfcc0b",
   "metadata": {},
   "outputs": [
    {
     "data": {
      "text/html": [
       "<div>\n",
       "<style scoped>\n",
       "    .dataframe tbody tr th:only-of-type {\n",
       "        vertical-align: middle;\n",
       "    }\n",
       "\n",
       "    .dataframe tbody tr th {\n",
       "        vertical-align: top;\n",
       "    }\n",
       "\n",
       "    .dataframe thead th {\n",
       "        text-align: right;\n",
       "    }\n",
       "</style>\n",
       "<table border=\"1\" class=\"dataframe\">\n",
       "  <thead>\n",
       "    <tr style=\"text-align: right;\">\n",
       "      <th></th>\n",
       "      <th>CoinName</th>\n",
       "      <th>Algorithm</th>\n",
       "      <th>ProofType</th>\n",
       "      <th>TotalCoinsMined</th>\n",
       "      <th>TotalCoinSupply</th>\n",
       "    </tr>\n",
       "  </thead>\n",
       "  <tbody>\n",
       "    <tr>\n",
       "      <th>42</th>\n",
       "      <td>42 Coin</td>\n",
       "      <td>Scrypt</td>\n",
       "      <td>PoW/PoS</td>\n",
       "      <td>4.199995e+01</td>\n",
       "      <td>42</td>\n",
       "    </tr>\n",
       "    <tr>\n",
       "      <th>404</th>\n",
       "      <td>404Coin</td>\n",
       "      <td>Scrypt</td>\n",
       "      <td>PoW/PoS</td>\n",
       "      <td>1.055185e+09</td>\n",
       "      <td>532000000</td>\n",
       "    </tr>\n",
       "    <tr>\n",
       "      <th>1337</th>\n",
       "      <td>EliteCoin</td>\n",
       "      <td>X13</td>\n",
       "      <td>PoW/PoS</td>\n",
       "      <td>2.927942e+10</td>\n",
       "      <td>314159265359</td>\n",
       "    </tr>\n",
       "    <tr>\n",
       "      <th>BTC</th>\n",
       "      <td>Bitcoin</td>\n",
       "      <td>SHA-256</td>\n",
       "      <td>PoW</td>\n",
       "      <td>1.792718e+07</td>\n",
       "      <td>21000000</td>\n",
       "    </tr>\n",
       "    <tr>\n",
       "      <th>ETH</th>\n",
       "      <td>Ethereum</td>\n",
       "      <td>Ethash</td>\n",
       "      <td>PoW</td>\n",
       "      <td>1.076842e+08</td>\n",
       "      <td>0</td>\n",
       "    </tr>\n",
       "    <tr>\n",
       "      <th>...</th>\n",
       "      <td>...</td>\n",
       "      <td>...</td>\n",
       "      <td>...</td>\n",
       "      <td>...</td>\n",
       "      <td>...</td>\n",
       "    </tr>\n",
       "    <tr>\n",
       "      <th>ZEPH</th>\n",
       "      <td>ZEPHYR</td>\n",
       "      <td>SHA-256</td>\n",
       "      <td>DPoS</td>\n",
       "      <td>2.000000e+09</td>\n",
       "      <td>2000000000</td>\n",
       "    </tr>\n",
       "    <tr>\n",
       "      <th>GAP</th>\n",
       "      <td>Gapcoin</td>\n",
       "      <td>Scrypt</td>\n",
       "      <td>PoW/PoS</td>\n",
       "      <td>1.493105e+07</td>\n",
       "      <td>250000000</td>\n",
       "    </tr>\n",
       "    <tr>\n",
       "      <th>BDX</th>\n",
       "      <td>Beldex</td>\n",
       "      <td>CryptoNight</td>\n",
       "      <td>PoW</td>\n",
       "      <td>9.802226e+08</td>\n",
       "      <td>1400222610</td>\n",
       "    </tr>\n",
       "    <tr>\n",
       "      <th>ZEN</th>\n",
       "      <td>Horizen</td>\n",
       "      <td>Equihash</td>\n",
       "      <td>PoW</td>\n",
       "      <td>7.296538e+06</td>\n",
       "      <td>21000000</td>\n",
       "    </tr>\n",
       "    <tr>\n",
       "      <th>XBC</th>\n",
       "      <td>BitcoinPlus</td>\n",
       "      <td>Scrypt</td>\n",
       "      <td>PoS</td>\n",
       "      <td>1.283270e+05</td>\n",
       "      <td>1000000</td>\n",
       "    </tr>\n",
       "  </tbody>\n",
       "</table>\n",
       "<p>532 rows × 5 columns</p>\n",
       "</div>"
      ],
      "text/plain": [
       "         CoinName    Algorithm ProofType  TotalCoinsMined TotalCoinSupply\n",
       "42        42 Coin       Scrypt   PoW/PoS     4.199995e+01              42\n",
       "404       404Coin       Scrypt   PoW/PoS     1.055185e+09       532000000\n",
       "1337    EliteCoin          X13   PoW/PoS     2.927942e+10    314159265359\n",
       "BTC       Bitcoin      SHA-256       PoW     1.792718e+07        21000000\n",
       "ETH      Ethereum       Ethash       PoW     1.076842e+08               0\n",
       "...           ...          ...       ...              ...             ...\n",
       "ZEPH       ZEPHYR      SHA-256      DPoS     2.000000e+09      2000000000\n",
       "GAP       Gapcoin       Scrypt   PoW/PoS     1.493105e+07       250000000\n",
       "BDX        Beldex  CryptoNight       PoW     9.802226e+08      1400222610\n",
       "ZEN       Horizen     Equihash       PoW     7.296538e+06        21000000\n",
       "XBC   BitcoinPlus       Scrypt       PoS     1.283270e+05         1000000\n",
       "\n",
       "[532 rows x 5 columns]"
      ]
     },
     "execution_count": 24,
     "metadata": {},
     "output_type": "execute_result"
    }
   ],
   "source": [
    "# Remove rows with cryptocurrencies having no coins mined\n",
    "crypto_df = crypto_df[crypto_df[\"TotalCoinsMined\"]> 0]\n",
    "crypto_df"
   ]
  },
  {
   "cell_type": "code",
   "execution_count": 25,
   "id": "00baea48-f7a7-4a68-b4ae-b9f719c8581d",
   "metadata": {},
   "outputs": [
    {
     "data": {
      "text/html": [
       "<div>\n",
       "<style scoped>\n",
       "    .dataframe tbody tr th:only-of-type {\n",
       "        vertical-align: middle;\n",
       "    }\n",
       "\n",
       "    .dataframe tbody tr th {\n",
       "        vertical-align: top;\n",
       "    }\n",
       "\n",
       "    .dataframe thead th {\n",
       "        text-align: right;\n",
       "    }\n",
       "</style>\n",
       "<table border=\"1\" class=\"dataframe\">\n",
       "  <thead>\n",
       "    <tr style=\"text-align: right;\">\n",
       "      <th></th>\n",
       "      <th>CoinName</th>\n",
       "      <th>Algorithm</th>\n",
       "      <th>ProofType</th>\n",
       "      <th>TotalCoinsMined</th>\n",
       "      <th>TotalCoinSupply</th>\n",
       "    </tr>\n",
       "  </thead>\n",
       "  <tbody>\n",
       "    <tr>\n",
       "      <th>42</th>\n",
       "      <td>42 Coin</td>\n",
       "      <td>Scrypt</td>\n",
       "      <td>PoW/PoS</td>\n",
       "      <td>4.199995e+01</td>\n",
       "      <td>42</td>\n",
       "    </tr>\n",
       "    <tr>\n",
       "      <th>404</th>\n",
       "      <td>404Coin</td>\n",
       "      <td>Scrypt</td>\n",
       "      <td>PoW/PoS</td>\n",
       "      <td>1.055185e+09</td>\n",
       "      <td>532000000</td>\n",
       "    </tr>\n",
       "    <tr>\n",
       "      <th>1337</th>\n",
       "      <td>EliteCoin</td>\n",
       "      <td>X13</td>\n",
       "      <td>PoW/PoS</td>\n",
       "      <td>2.927942e+10</td>\n",
       "      <td>314159265359</td>\n",
       "    </tr>\n",
       "    <tr>\n",
       "      <th>BTC</th>\n",
       "      <td>Bitcoin</td>\n",
       "      <td>SHA-256</td>\n",
       "      <td>PoW</td>\n",
       "      <td>1.792718e+07</td>\n",
       "      <td>21000000</td>\n",
       "    </tr>\n",
       "    <tr>\n",
       "      <th>ETH</th>\n",
       "      <td>Ethereum</td>\n",
       "      <td>Ethash</td>\n",
       "      <td>PoW</td>\n",
       "      <td>1.076842e+08</td>\n",
       "      <td>0</td>\n",
       "    </tr>\n",
       "    <tr>\n",
       "      <th>...</th>\n",
       "      <td>...</td>\n",
       "      <td>...</td>\n",
       "      <td>...</td>\n",
       "      <td>...</td>\n",
       "      <td>...</td>\n",
       "    </tr>\n",
       "    <tr>\n",
       "      <th>ZEPH</th>\n",
       "      <td>ZEPHYR</td>\n",
       "      <td>SHA-256</td>\n",
       "      <td>DPoS</td>\n",
       "      <td>2.000000e+09</td>\n",
       "      <td>2000000000</td>\n",
       "    </tr>\n",
       "    <tr>\n",
       "      <th>GAP</th>\n",
       "      <td>Gapcoin</td>\n",
       "      <td>Scrypt</td>\n",
       "      <td>PoW/PoS</td>\n",
       "      <td>1.493105e+07</td>\n",
       "      <td>250000000</td>\n",
       "    </tr>\n",
       "    <tr>\n",
       "      <th>BDX</th>\n",
       "      <td>Beldex</td>\n",
       "      <td>CryptoNight</td>\n",
       "      <td>PoW</td>\n",
       "      <td>9.802226e+08</td>\n",
       "      <td>1400222610</td>\n",
       "    </tr>\n",
       "    <tr>\n",
       "      <th>ZEN</th>\n",
       "      <td>Horizen</td>\n",
       "      <td>Equihash</td>\n",
       "      <td>PoW</td>\n",
       "      <td>7.296538e+06</td>\n",
       "      <td>21000000</td>\n",
       "    </tr>\n",
       "    <tr>\n",
       "      <th>XBC</th>\n",
       "      <td>BitcoinPlus</td>\n",
       "      <td>Scrypt</td>\n",
       "      <td>PoS</td>\n",
       "      <td>1.283270e+05</td>\n",
       "      <td>1000000</td>\n",
       "    </tr>\n",
       "  </tbody>\n",
       "</table>\n",
       "<p>532 rows × 5 columns</p>\n",
       "</div>"
      ],
      "text/plain": [
       "         CoinName    Algorithm ProofType  TotalCoinsMined TotalCoinSupply\n",
       "42        42 Coin       Scrypt   PoW/PoS     4.199995e+01              42\n",
       "404       404Coin       Scrypt   PoW/PoS     1.055185e+09       532000000\n",
       "1337    EliteCoin          X13   PoW/PoS     2.927942e+10    314159265359\n",
       "BTC       Bitcoin      SHA-256       PoW     1.792718e+07        21000000\n",
       "ETH      Ethereum       Ethash       PoW     1.076842e+08               0\n",
       "...           ...          ...       ...              ...             ...\n",
       "ZEPH       ZEPHYR      SHA-256      DPoS     2.000000e+09      2000000000\n",
       "GAP       Gapcoin       Scrypt   PoW/PoS     1.493105e+07       250000000\n",
       "BDX        Beldex  CryptoNight       PoW     9.802226e+08      1400222610\n",
       "ZEN       Horizen     Equihash       PoW     7.296538e+06        21000000\n",
       "XBC   BitcoinPlus       Scrypt       PoS     1.283270e+05         1000000\n",
       "\n",
       "[532 rows x 5 columns]"
      ]
     },
     "execution_count": 25,
     "metadata": {},
     "output_type": "execute_result"
    }
   ],
   "source": [
    "# Drop rows where there are 'N/A' text values\n",
    "crypto_df = crypto_df[crypto_df!='N/A']\n",
    "crypto_df"
   ]
  },
  {
   "cell_type": "code",
   "execution_count": 30,
   "id": "7dd3ccfb-7e2c-45f3-a27b-bd0ba151c74c",
   "metadata": {},
   "outputs": [],
   "source": [
    "# Store the 'CoinName'column in its own DataFrame prior to dropping it from crypto_df \n",
    "coinname_df = pd.DataFrame(\n",
    "    data = crypto_df, columns = ['CoinName'])"
   ]
  },
  {
   "cell_type": "code",
   "execution_count": 31,
   "id": "d6bcaf38-b3ee-4b63-80ce-b8312dc072bf",
   "metadata": {},
   "outputs": [
    {
     "data": {
      "text/html": [
       "<div>\n",
       "<style scoped>\n",
       "    .dataframe tbody tr th:only-of-type {\n",
       "        vertical-align: middle;\n",
       "    }\n",
       "\n",
       "    .dataframe tbody tr th {\n",
       "        vertical-align: top;\n",
       "    }\n",
       "\n",
       "    .dataframe thead th {\n",
       "        text-align: right;\n",
       "    }\n",
       "</style>\n",
       "<table border=\"1\" class=\"dataframe\">\n",
       "  <thead>\n",
       "    <tr style=\"text-align: right;\">\n",
       "      <th></th>\n",
       "      <th>Algorithm</th>\n",
       "      <th>ProofType</th>\n",
       "      <th>TotalCoinsMined</th>\n",
       "      <th>TotalCoinSupply</th>\n",
       "    </tr>\n",
       "  </thead>\n",
       "  <tbody>\n",
       "    <tr>\n",
       "      <th>42</th>\n",
       "      <td>Scrypt</td>\n",
       "      <td>PoW/PoS</td>\n",
       "      <td>4.199995e+01</td>\n",
       "      <td>42</td>\n",
       "    </tr>\n",
       "    <tr>\n",
       "      <th>404</th>\n",
       "      <td>Scrypt</td>\n",
       "      <td>PoW/PoS</td>\n",
       "      <td>1.055185e+09</td>\n",
       "      <td>532000000</td>\n",
       "    </tr>\n",
       "    <tr>\n",
       "      <th>1337</th>\n",
       "      <td>X13</td>\n",
       "      <td>PoW/PoS</td>\n",
       "      <td>2.927942e+10</td>\n",
       "      <td>314159265359</td>\n",
       "    </tr>\n",
       "    <tr>\n",
       "      <th>BTC</th>\n",
       "      <td>SHA-256</td>\n",
       "      <td>PoW</td>\n",
       "      <td>1.792718e+07</td>\n",
       "      <td>21000000</td>\n",
       "    </tr>\n",
       "    <tr>\n",
       "      <th>ETH</th>\n",
       "      <td>Ethash</td>\n",
       "      <td>PoW</td>\n",
       "      <td>1.076842e+08</td>\n",
       "      <td>0</td>\n",
       "    </tr>\n",
       "  </tbody>\n",
       "</table>\n",
       "</div>"
      ],
      "text/plain": [
       "     Algorithm ProofType  TotalCoinsMined TotalCoinSupply\n",
       "42      Scrypt   PoW/PoS     4.199995e+01              42\n",
       "404     Scrypt   PoW/PoS     1.055185e+09       532000000\n",
       "1337       X13   PoW/PoS     2.927942e+10    314159265359\n",
       "BTC    SHA-256       PoW     1.792718e+07        21000000\n",
       "ETH     Ethash       PoW     1.076842e+08               0"
      ]
     },
     "execution_count": 31,
     "metadata": {},
     "output_type": "execute_result"
    }
   ],
   "source": [
    "# Drop the 'CoinName' column since it's not going to be used on the clustering algorithm\n",
    "crypto_df = crypto_df.drop(columns = 'CoinName')\n",
    "crypto_df.head()"
   ]
  },
  {
   "cell_type": "code",
   "execution_count": 32,
   "id": "49855ef3-72f4-45f1-baa8-d5dc4e3a0201",
   "metadata": {},
   "outputs": [
    {
     "data": {
      "text/html": [
       "<div>\n",
       "<style scoped>\n",
       "    .dataframe tbody tr th:only-of-type {\n",
       "        vertical-align: middle;\n",
       "    }\n",
       "\n",
       "    .dataframe tbody tr th {\n",
       "        vertical-align: top;\n",
       "    }\n",
       "\n",
       "    .dataframe thead th {\n",
       "        text-align: right;\n",
       "    }\n",
       "</style>\n",
       "<table border=\"1\" class=\"dataframe\">\n",
       "  <thead>\n",
       "    <tr style=\"text-align: right;\">\n",
       "      <th></th>\n",
       "      <th>TotalCoinsMined</th>\n",
       "      <th>TotalCoinSupply</th>\n",
       "      <th>Algorithm_1GB AES Pattern Search</th>\n",
       "      <th>Algorithm_536</th>\n",
       "      <th>Algorithm_Argon2d</th>\n",
       "      <th>Algorithm_BLAKE256</th>\n",
       "      <th>Algorithm_Blake</th>\n",
       "      <th>Algorithm_Blake2S</th>\n",
       "      <th>Algorithm_Blake2b</th>\n",
       "      <th>Algorithm_C11</th>\n",
       "      <th>...</th>\n",
       "      <th>ProofType_PoW/PoS</th>\n",
       "      <th>ProofType_PoW/PoS</th>\n",
       "      <th>ProofType_PoW/PoW</th>\n",
       "      <th>ProofType_PoW/nPoS</th>\n",
       "      <th>ProofType_Pos</th>\n",
       "      <th>ProofType_Proof of Authority</th>\n",
       "      <th>ProofType_Proof of Trust</th>\n",
       "      <th>ProofType_TPoS</th>\n",
       "      <th>ProofType_Zero-Knowledge Proof</th>\n",
       "      <th>ProofType_dPoW/PoW</th>\n",
       "    </tr>\n",
       "  </thead>\n",
       "  <tbody>\n",
       "    <tr>\n",
       "      <th>42</th>\n",
       "      <td>4.199995e+01</td>\n",
       "      <td>42</td>\n",
       "      <td>0</td>\n",
       "      <td>0</td>\n",
       "      <td>0</td>\n",
       "      <td>0</td>\n",
       "      <td>0</td>\n",
       "      <td>0</td>\n",
       "      <td>0</td>\n",
       "      <td>0</td>\n",
       "      <td>...</td>\n",
       "      <td>1</td>\n",
       "      <td>0</td>\n",
       "      <td>0</td>\n",
       "      <td>0</td>\n",
       "      <td>0</td>\n",
       "      <td>0</td>\n",
       "      <td>0</td>\n",
       "      <td>0</td>\n",
       "      <td>0</td>\n",
       "      <td>0</td>\n",
       "    </tr>\n",
       "    <tr>\n",
       "      <th>404</th>\n",
       "      <td>1.055185e+09</td>\n",
       "      <td>532000000</td>\n",
       "      <td>0</td>\n",
       "      <td>0</td>\n",
       "      <td>0</td>\n",
       "      <td>0</td>\n",
       "      <td>0</td>\n",
       "      <td>0</td>\n",
       "      <td>0</td>\n",
       "      <td>0</td>\n",
       "      <td>...</td>\n",
       "      <td>1</td>\n",
       "      <td>0</td>\n",
       "      <td>0</td>\n",
       "      <td>0</td>\n",
       "      <td>0</td>\n",
       "      <td>0</td>\n",
       "      <td>0</td>\n",
       "      <td>0</td>\n",
       "      <td>0</td>\n",
       "      <td>0</td>\n",
       "    </tr>\n",
       "    <tr>\n",
       "      <th>1337</th>\n",
       "      <td>2.927942e+10</td>\n",
       "      <td>314159265359</td>\n",
       "      <td>0</td>\n",
       "      <td>0</td>\n",
       "      <td>0</td>\n",
       "      <td>0</td>\n",
       "      <td>0</td>\n",
       "      <td>0</td>\n",
       "      <td>0</td>\n",
       "      <td>0</td>\n",
       "      <td>...</td>\n",
       "      <td>1</td>\n",
       "      <td>0</td>\n",
       "      <td>0</td>\n",
       "      <td>0</td>\n",
       "      <td>0</td>\n",
       "      <td>0</td>\n",
       "      <td>0</td>\n",
       "      <td>0</td>\n",
       "      <td>0</td>\n",
       "      <td>0</td>\n",
       "    </tr>\n",
       "    <tr>\n",
       "      <th>BTC</th>\n",
       "      <td>1.792718e+07</td>\n",
       "      <td>21000000</td>\n",
       "      <td>0</td>\n",
       "      <td>0</td>\n",
       "      <td>0</td>\n",
       "      <td>0</td>\n",
       "      <td>0</td>\n",
       "      <td>0</td>\n",
       "      <td>0</td>\n",
       "      <td>0</td>\n",
       "      <td>...</td>\n",
       "      <td>0</td>\n",
       "      <td>0</td>\n",
       "      <td>0</td>\n",
       "      <td>0</td>\n",
       "      <td>0</td>\n",
       "      <td>0</td>\n",
       "      <td>0</td>\n",
       "      <td>0</td>\n",
       "      <td>0</td>\n",
       "      <td>0</td>\n",
       "    </tr>\n",
       "    <tr>\n",
       "      <th>ETH</th>\n",
       "      <td>1.076842e+08</td>\n",
       "      <td>0</td>\n",
       "      <td>0</td>\n",
       "      <td>0</td>\n",
       "      <td>0</td>\n",
       "      <td>0</td>\n",
       "      <td>0</td>\n",
       "      <td>0</td>\n",
       "      <td>0</td>\n",
       "      <td>0</td>\n",
       "      <td>...</td>\n",
       "      <td>0</td>\n",
       "      <td>0</td>\n",
       "      <td>0</td>\n",
       "      <td>0</td>\n",
       "      <td>0</td>\n",
       "      <td>0</td>\n",
       "      <td>0</td>\n",
       "      <td>0</td>\n",
       "      <td>0</td>\n",
       "      <td>0</td>\n",
       "    </tr>\n",
       "  </tbody>\n",
       "</table>\n",
       "<p>5 rows × 98 columns</p>\n",
       "</div>"
      ],
      "text/plain": [
       "      TotalCoinsMined TotalCoinSupply  Algorithm_1GB AES Pattern Search  \\\n",
       "42       4.199995e+01              42                                 0   \n",
       "404      1.055185e+09       532000000                                 0   \n",
       "1337     2.927942e+10    314159265359                                 0   \n",
       "BTC      1.792718e+07        21000000                                 0   \n",
       "ETH      1.076842e+08               0                                 0   \n",
       "\n",
       "      Algorithm_536  Algorithm_Argon2d  Algorithm_BLAKE256  Algorithm_Blake  \\\n",
       "42                0                  0                   0                0   \n",
       "404               0                  0                   0                0   \n",
       "1337              0                  0                   0                0   \n",
       "BTC               0                  0                   0                0   \n",
       "ETH               0                  0                   0                0   \n",
       "\n",
       "      Algorithm_Blake2S  Algorithm_Blake2b  Algorithm_C11  ...  \\\n",
       "42                    0                  0              0  ...   \n",
       "404                   0                  0              0  ...   \n",
       "1337                  0                  0              0  ...   \n",
       "BTC                   0                  0              0  ...   \n",
       "ETH                   0                  0              0  ...   \n",
       "\n",
       "      ProofType_PoW/PoS  ProofType_PoW/PoS   ProofType_PoW/PoW  \\\n",
       "42                    1                   0                  0   \n",
       "404                   1                   0                  0   \n",
       "1337                  1                   0                  0   \n",
       "BTC                   0                   0                  0   \n",
       "ETH                   0                   0                  0   \n",
       "\n",
       "      ProofType_PoW/nPoS  ProofType_Pos  ProofType_Proof of Authority  \\\n",
       "42                     0              0                             0   \n",
       "404                    0              0                             0   \n",
       "1337                   0              0                             0   \n",
       "BTC                    0              0                             0   \n",
       "ETH                    0              0                             0   \n",
       "\n",
       "      ProofType_Proof of Trust  ProofType_TPoS  \\\n",
       "42                           0               0   \n",
       "404                          0               0   \n",
       "1337                         0               0   \n",
       "BTC                          0               0   \n",
       "ETH                          0               0   \n",
       "\n",
       "      ProofType_Zero-Knowledge Proof  ProofType_dPoW/PoW  \n",
       "42                                 0                   0  \n",
       "404                                0                   0  \n",
       "1337                               0                   0  \n",
       "BTC                                0                   0  \n",
       "ETH                                0                   0  \n",
       "\n",
       "[5 rows x 98 columns]"
      ]
     },
     "execution_count": 32,
     "metadata": {},
     "output_type": "execute_result"
    }
   ],
   "source": [
    "# Create dummy variables for text features\n",
    "crypto_dummies= pd.get_dummies(crypto_df, columns=['Algorithm', 'ProofType'])\n",
    "crypto_dummies.head()"
   ]
  },
  {
   "cell_type": "code",
   "execution_count": 33,
   "id": "202b4145-479b-49ae-92bf-e53a5727ce1b",
   "metadata": {},
   "outputs": [
    {
     "name": "stdout",
     "output_type": "stream",
     "text": [
      "[[-0.11710817 -0.1528703  -0.0433963  -0.0433963  -0.0433963  -0.06142951\n",
      "  -0.07530656 -0.0433963  -0.06142951 -0.06142951 -0.0433963  -0.0433963\n",
      "  -0.19245009 -0.06142951 -0.09740465 -0.0433963  -0.11547005 -0.07530656\n",
      "  -0.0433963  -0.0433963  -0.15191091 -0.0433963  -0.13118084 -0.0433963\n",
      "  -0.0433963  -0.08703883 -0.0433963  -0.0433963  -0.0433963  -0.0433963\n",
      "  -0.06142951 -0.0433963  -0.08703883 -0.08703883 -0.08703883 -0.0433963\n",
      "  -0.13118084 -0.13840913 -0.13840913 -0.0433963  -0.06142951 -0.0433963\n",
      "  -0.07530656 -0.18168574 -0.0433963  -0.0433963  -0.0433963  -0.07530656\n",
      "  -0.15826614 -0.31491833 -0.0433963  -0.08703883 -0.07530656 -0.06142951\n",
      "   1.38675049 -0.0433963  -0.0433963  -0.06142951 -0.0433963  -0.0433963\n",
      "  -0.0433963  -0.0433963  -0.0433963  -0.0433963  -0.0433963  -0.0433963\n",
      "  -0.39879994 -0.0433963  -0.18168574 -0.0433963  -0.08703883 -0.08703883\n",
      "  -0.10680283 -0.0433963  -0.13118084 -0.0433963  -0.0433963  -0.0433963\n",
      "  -0.0433963  -0.07530656 -0.43911856 -0.0433963  -0.06142951 -0.0433963\n",
      "  -0.0433963  -0.89632016 -0.0433963  -0.0433963   1.42222617 -0.0433963\n",
      "  -0.0433963  -0.0433963  -0.0433963  -0.0433963  -0.0433963  -0.0433963\n",
      "  -0.0433963  -0.0433963 ]]\n"
     ]
    }
   ],
   "source": [
    "# Standardize data\n",
    "crypto_scaled = StandardScaler().fit_transform(crypto_dummies)\n",
    "print(crypto_scaled[0:1])"
   ]
  },
  {
   "cell_type": "code",
   "execution_count": 34,
   "id": "f0365e74-8b43-4ede-bb38-42988ca498d0",
   "metadata": {},
   "outputs": [
    {
     "data": {
      "text/html": [
       "<div>\n",
       "<style scoped>\n",
       "    .dataframe tbody tr th:only-of-type {\n",
       "        vertical-align: middle;\n",
       "    }\n",
       "\n",
       "    .dataframe tbody tr th {\n",
       "        vertical-align: top;\n",
       "    }\n",
       "\n",
       "    .dataframe thead th {\n",
       "        text-align: right;\n",
       "    }\n",
       "</style>\n",
       "<table border=\"1\" class=\"dataframe\">\n",
       "  <thead>\n",
       "    <tr style=\"text-align: right;\">\n",
       "      <th></th>\n",
       "      <th>Algorithm</th>\n",
       "      <th>ProofType</th>\n",
       "      <th>TotalCoinsMined</th>\n",
       "      <th>TotalCoinSupply</th>\n",
       "    </tr>\n",
       "  </thead>\n",
       "  <tbody>\n",
       "    <tr>\n",
       "      <th>42</th>\n",
       "      <td>Scrypt</td>\n",
       "      <td>PoW/PoS</td>\n",
       "      <td>4.199995e+01</td>\n",
       "      <td>42</td>\n",
       "    </tr>\n",
       "    <tr>\n",
       "      <th>404</th>\n",
       "      <td>Scrypt</td>\n",
       "      <td>PoW/PoS</td>\n",
       "      <td>1.055185e+09</td>\n",
       "      <td>532000000</td>\n",
       "    </tr>\n",
       "    <tr>\n",
       "      <th>1337</th>\n",
       "      <td>X13</td>\n",
       "      <td>PoW/PoS</td>\n",
       "      <td>2.927942e+10</td>\n",
       "      <td>314159265359</td>\n",
       "    </tr>\n",
       "    <tr>\n",
       "      <th>BTC</th>\n",
       "      <td>SHA-256</td>\n",
       "      <td>PoW</td>\n",
       "      <td>1.792718e+07</td>\n",
       "      <td>21000000</td>\n",
       "    </tr>\n",
       "    <tr>\n",
       "      <th>ETH</th>\n",
       "      <td>Ethash</td>\n",
       "      <td>PoW</td>\n",
       "      <td>1.076842e+08</td>\n",
       "      <td>0</td>\n",
       "    </tr>\n",
       "  </tbody>\n",
       "</table>\n",
       "</div>"
      ],
      "text/plain": [
       "     Algorithm ProofType  TotalCoinsMined TotalCoinSupply\n",
       "42      Scrypt   PoW/PoS     4.199995e+01              42\n",
       "404     Scrypt   PoW/PoS     1.055185e+09       532000000\n",
       "1337       X13   PoW/PoS     2.927942e+10    314159265359\n",
       "BTC    SHA-256       PoW     1.792718e+07        21000000\n",
       "ETH     Ethash       PoW     1.076842e+08               0"
      ]
     },
     "execution_count": 34,
     "metadata": {},
     "output_type": "execute_result"
    }
   ],
   "source": [
    "crypto_df.head()"
   ]
  },
  {
   "cell_type": "code",
   "execution_count": 36,
   "id": "0481667a-5cf4-4361-b3b1-8e17e1b8d484",
   "metadata": {},
   "outputs": [
    {
     "data": {
      "text/plain": [
       "0"
      ]
     },
     "execution_count": 36,
     "metadata": {},
     "output_type": "execute_result"
    }
   ],
   "source": [
    "import numpy as np \n",
    "crypto_scaled = crypto_scaled[~np.isnan(crypto_scaled).any(axis=1)]\n",
    "np.isnan(crypto_scaled).sum()"
   ]
  },
  {
   "cell_type": "code",
   "execution_count": 37,
   "id": "37779d0d-f318-4d19-8f13-be2320398710",
   "metadata": {},
   "outputs": [],
   "source": [
    "# Use PCA to reduce dimensions to 3 principal components\n",
    "pca = PCA(n_components=3)\n",
    "\n",
    "crypto_pca = pca.fit_transform(crypto_scaled)"
   ]
  },
  {
   "cell_type": "code",
   "execution_count": 123,
   "id": "51c99ac7-8a0e-4ffd-bde8-c56e23e4eb49",
   "metadata": {},
   "outputs": [
    {
     "data": {
      "text/html": [
       "<div>\n",
       "<style scoped>\n",
       "    .dataframe tbody tr th:only-of-type {\n",
       "        vertical-align: middle;\n",
       "    }\n",
       "\n",
       "    .dataframe tbody tr th {\n",
       "        vertical-align: top;\n",
       "    }\n",
       "\n",
       "    .dataframe thead th {\n",
       "        text-align: right;\n",
       "    }\n",
       "</style>\n",
       "<table border=\"1\" class=\"dataframe\">\n",
       "  <thead>\n",
       "    <tr style=\"text-align: right;\">\n",
       "      <th></th>\n",
       "      <th>PC 1</th>\n",
       "      <th>PC 2</th>\n",
       "      <th>PC 3</th>\n",
       "    </tr>\n",
       "  </thead>\n",
       "  <tbody>\n",
       "    <tr>\n",
       "      <th>42</th>\n",
       "      <td>-0.343931</td>\n",
       "      <td>0.963310</td>\n",
       "      <td>-0.551941</td>\n",
       "    </tr>\n",
       "    <tr>\n",
       "      <th>404</th>\n",
       "      <td>-0.327299</td>\n",
       "      <td>0.963359</td>\n",
       "      <td>-0.552290</td>\n",
       "    </tr>\n",
       "    <tr>\n",
       "      <th>1337</th>\n",
       "      <td>2.290041</td>\n",
       "      <td>1.569194</td>\n",
       "      <td>-0.654054</td>\n",
       "    </tr>\n",
       "    <tr>\n",
       "      <th>BTC</th>\n",
       "      <td>-0.143561</td>\n",
       "      <td>-1.329054</td>\n",
       "      <td>0.209930</td>\n",
       "    </tr>\n",
       "    <tr>\n",
       "      <th>ETH</th>\n",
       "      <td>-0.133779</td>\n",
       "      <td>-1.908018</td>\n",
       "      <td>0.344314</td>\n",
       "    </tr>\n",
       "  </tbody>\n",
       "</table>\n",
       "</div>"
      ],
      "text/plain": [
       "          PC 1      PC 2      PC 3\n",
       "42   -0.343931  0.963310 -0.551941\n",
       "404  -0.327299  0.963359 -0.552290\n",
       "1337  2.290041  1.569194 -0.654054\n",
       "BTC  -0.143561 -1.329054  0.209930\n",
       "ETH  -0.133779 -1.908018  0.344314"
      ]
     },
     "execution_count": 123,
     "metadata": {},
     "output_type": "execute_result"
    }
   ],
   "source": [
    "# Create a DataFrame with the principal components data\n",
    "pca_df = pd.DataFrame(\n",
    "    data=crypto_pca, columns=[\"PC 1\", \"PC 2\", \"PC 3\"], index=crypto_df.index)\n",
    "\n",
    "pca_df.head()"
   ]
  },
  {
   "cell_type": "code",
   "execution_count": 124,
   "id": "fd0516c2-8592-41fb-9751-bfd17eaa3baf",
   "metadata": {},
   "outputs": [
    {
     "data": {},
     "metadata": {},
     "output_type": "display_data"
    },
    {
     "data": {
      "application/vnd.holoviews_exec.v0+json": "",
      "text/html": [
       "<div id='2082'>\n",
       "\n",
       "\n",
       "\n",
       "\n",
       "\n",
       "  <div class=\"bk-root\" id=\"ac68d8bd-9bdb-488a-9aec-976a813565b0\" data-root-id=\"2082\"></div>\n",
       "</div>\n",
       "<script type=\"application/javascript\">(function(root) {\n",
       "  function embed_document(root) {\n",
       "    var docs_json = {\"fa396000-37a2-4999-8272-df2fcbdad4b8\":{\"defs\":[],\"roots\":{\"references\":[{\"attributes\":{\"line_alpha\":0.1,\"line_color\":\"#30a2da\",\"line_width\":2,\"x\":{\"field\":\"k\"},\"y\":{\"field\":\"inertia\"}},\"id\":\"2121\",\"type\":\"Line\"},{\"attributes\":{\"axis_label\":\"k\",\"formatter\":{\"id\":\"2127\"},\"major_label_policy\":{\"id\":\"2128\"},\"ticker\":{\"id\":\"2126\"}},\"id\":\"2096\",\"type\":\"LinearAxis\"},{\"attributes\":{\"below\":[{\"id\":\"2096\"}],\"center\":[{\"id\":\"2099\"},{\"id\":\"2103\"}],\"height\":300,\"left\":[{\"id\":\"2100\"}],\"margin\":[5,5,5,5],\"min_border_bottom\":10,\"min_border_left\":10,\"min_border_right\":10,\"min_border_top\":10,\"renderers\":[{\"id\":\"2123\"}],\"sizing_mode\":\"fixed\",\"title\":{\"id\":\"2088\"},\"toolbar\":{\"id\":\"2110\"},\"width\":700,\"x_range\":{\"id\":\"2084\"},\"x_scale\":{\"id\":\"2092\"},\"y_range\":{\"id\":\"2085\"},\"y_scale\":{\"id\":\"2094\"}},\"id\":\"2087\",\"subtype\":\"Figure\",\"type\":\"Plot\"},{\"attributes\":{\"axis\":{\"id\":\"2100\"},\"dimension\":1,\"grid_line_color\":null,\"ticker\":null},\"id\":\"2103\",\"type\":\"Grid\"},{\"attributes\":{\"source\":{\"id\":\"2117\"}},\"id\":\"2124\",\"type\":\"CDSView\"},{\"attributes\":{\"end\":10.0,\"reset_end\":10.0,\"reset_start\":1.0,\"start\":1.0,\"tags\":[[[\"k\",\"k\",null]]]},\"id\":\"2084\",\"type\":\"Range1d\"},{\"attributes\":{},\"id\":\"2132\",\"type\":\"BasicTickFormatter\"},{\"attributes\":{\"margin\":[5,5,5,5],\"name\":\"HSpacer03393\",\"sizing_mode\":\"stretch_width\"},\"id\":\"2153\",\"type\":\"Spacer\"},{\"attributes\":{\"end\":3993.116299545185,\"reset_end\":3993.116299545185,\"reset_start\":-257.69969114876034,\"start\":-257.69969114876034,\"tags\":[[[\"inertia\",\"inertia\",null]]]},\"id\":\"2085\",\"type\":\"Range1d\"},{\"attributes\":{},\"id\":\"2133\",\"type\":\"AllLabels\"},{\"attributes\":{},\"id\":\"2127\",\"type\":\"BasicTickFormatter\"},{\"attributes\":{},\"id\":\"2108\",\"type\":\"ResetTool\"},{\"attributes\":{\"text\":\"Elbow Curve\",\"text_color\":\"black\",\"text_font_size\":\"12pt\"},\"id\":\"2088\",\"type\":\"Title\"},{\"attributes\":{\"overlay\":{\"id\":\"2109\"}},\"id\":\"2107\",\"type\":\"BoxZoomTool\"},{\"attributes\":{\"data\":{\"inertia\":{\"__ndarray__\":\"Kn58ZcNtrEApWKkG61ajQBNpRD0ugZdAMSpUG/nCgUAzivC2smd3QOTh+A7zcHBAEv8MJ3dsaUAtjCxi9TJjQA1bFJlLmF5AUbOzBj0iWEA=\",\"dtype\":\"float64\",\"order\":\"little\",\"shape\":[10]},\"k\":[1,2,3,4,5,6,7,8,9,10]},\"selected\":{\"id\":\"2118\"},\"selection_policy\":{\"id\":\"2142\"}},\"id\":\"2117\",\"type\":\"ColumnDataSource\"},{\"attributes\":{\"bottom_units\":\"screen\",\"fill_alpha\":0.5,\"fill_color\":\"lightgrey\",\"left_units\":\"screen\",\"level\":\"overlay\",\"line_alpha\":1.0,\"line_color\":\"black\",\"line_dash\":[4,4],\"line_width\":2,\"right_units\":\"screen\",\"syncable\":false,\"top_units\":\"screen\"},\"id\":\"2109\",\"type\":\"BoxAnnotation\"},{\"attributes\":{\"active_multi\":null,\"tools\":[{\"id\":\"2086\"},{\"id\":\"2104\"},{\"id\":\"2105\"},{\"id\":\"2106\"},{\"id\":\"2107\"},{\"id\":\"2108\"}]},\"id\":\"2110\",\"type\":\"Toolbar\"},{\"attributes\":{},\"id\":\"2101\",\"type\":\"BasicTicker\"},{\"attributes\":{\"callback\":null,\"renderers\":[{\"id\":\"2123\"}],\"tags\":[\"hv_created\"],\"tooltips\":[[\"k\",\"@{k}\"],[\"inertia\",\"@{inertia}\"]]},\"id\":\"2086\",\"type\":\"HoverTool\"},{\"attributes\":{\"line_alpha\":0.2,\"line_color\":\"#30a2da\",\"line_width\":2,\"x\":{\"field\":\"k\"},\"y\":{\"field\":\"inertia\"}},\"id\":\"2122\",\"type\":\"Line\"},{\"attributes\":{},\"id\":\"2106\",\"type\":\"WheelZoomTool\"},{\"attributes\":{},\"id\":\"2118\",\"type\":\"Selection\"},{\"attributes\":{},\"id\":\"2104\",\"type\":\"SaveTool\"},{\"attributes\":{},\"id\":\"2128\",\"type\":\"AllLabels\"},{\"attributes\":{\"line_color\":\"#30a2da\",\"line_width\":2,\"x\":{\"field\":\"k\"},\"y\":{\"field\":\"inertia\"}},\"id\":\"2125\",\"type\":\"Line\"},{\"attributes\":{\"axis\":{\"id\":\"2096\"},\"grid_line_color\":null,\"ticker\":null},\"id\":\"2099\",\"type\":\"Grid\"},{\"attributes\":{},\"id\":\"2142\",\"type\":\"UnionRenderers\"},{\"attributes\":{\"margin\":[5,5,5,5],\"name\":\"HSpacer03392\",\"sizing_mode\":\"stretch_width\"},\"id\":\"2083\",\"type\":\"Spacer\"},{\"attributes\":{\"axis_label\":\"inertia\",\"formatter\":{\"id\":\"2132\"},\"major_label_policy\":{\"id\":\"2133\"},\"ticker\":{\"id\":\"2101\"}},\"id\":\"2100\",\"type\":\"LinearAxis\"},{\"attributes\":{\"ticks\":[1,2,3,4,5,6,7,8,9,10]},\"id\":\"2126\",\"type\":\"FixedTicker\"},{\"attributes\":{\"data_source\":{\"id\":\"2117\"},\"glyph\":{\"id\":\"2120\"},\"hover_glyph\":null,\"muted_glyph\":{\"id\":\"2122\"},\"nonselection_glyph\":{\"id\":\"2121\"},\"selection_glyph\":{\"id\":\"2125\"},\"view\":{\"id\":\"2124\"}},\"id\":\"2123\",\"type\":\"GlyphRenderer\"},{\"attributes\":{},\"id\":\"2092\",\"type\":\"LinearScale\"},{\"attributes\":{},\"id\":\"2105\",\"type\":\"PanTool\"},{\"attributes\":{\"children\":[{\"id\":\"2083\"},{\"id\":\"2087\"},{\"id\":\"2153\"}],\"margin\":[0,0,0,0],\"name\":\"Row03388\",\"tags\":[\"embedded\"]},\"id\":\"2082\",\"type\":\"Row\"},{\"attributes\":{},\"id\":\"2094\",\"type\":\"LinearScale\"},{\"attributes\":{\"line_color\":\"#30a2da\",\"line_width\":2,\"x\":{\"field\":\"k\"},\"y\":{\"field\":\"inertia\"}},\"id\":\"2120\",\"type\":\"Line\"}],\"root_ids\":[\"2082\"]},\"title\":\"Bokeh Application\",\"version\":\"2.3.3\"}};\n",
       "    var render_items = [{\"docid\":\"fa396000-37a2-4999-8272-df2fcbdad4b8\",\"root_ids\":[\"2082\"],\"roots\":{\"2082\":\"ac68d8bd-9bdb-488a-9aec-976a813565b0\"}}];\n",
       "    root.Bokeh.embed.embed_items_notebook(docs_json, render_items);\n",
       "  }\n",
       "  if (root.Bokeh !== undefined && root.Bokeh.Panel !== undefined) {\n",
       "    embed_document(root);\n",
       "  } else {\n",
       "    var attempts = 0;\n",
       "    var timer = setInterval(function(root) {\n",
       "      if (root.Bokeh !== undefined && root.Bokeh.Panel !== undefined) {\n",
       "        clearInterval(timer);\n",
       "        embed_document(root);\n",
       "      } else if (document.readyState == \"complete\") {\n",
       "        attempts++;\n",
       "        if (attempts > 100) {\n",
       "          clearInterval(timer);\n",
       "          console.log(\"Bokeh: ERROR: Unable to run BokehJS code because BokehJS library is missing\");\n",
       "        }\n",
       "      }\n",
       "    }, 10, root)\n",
       "  }\n",
       "})(window);</script>"
      ],
      "text/plain": [
       ":Curve   [k]   (inertia)"
      ]
     },
     "execution_count": 124,
     "metadata": {
      "application/vnd.holoviews_exec.v0+json": {
       "id": "2082"
      }
     },
     "output_type": "execute_result"
    }
   ],
   "source": [
    "inertia = []\n",
    "k = list(range(1, 11))\n",
    "\n",
    "# Calculate the inertia for the range of k values\n",
    "for i in k:\n",
    "    km = KMeans(n_clusters=i, random_state=0)\n",
    "    km.fit(crypto_pca)\n",
    "    inertia.append(km.inertia_)\n",
    "\n",
    "# Create the Elbow Curve using hvPlot\n",
    "elbow_data = {\"k\": k, \"inertia\": inertia}\n",
    "df_elbow = pd.DataFrame(elbow_data)\n",
    "df_elbow.hvplot.line(x=\"k\", y=\"inertia\", xticks=k, title=\"Elbow Curve\")"
   ]
  },
  {
   "cell_type": "code",
   "execution_count": 134,
   "id": "6de044b0-97b2-4002-9e77-2aad074715a1",
   "metadata": {},
   "outputs": [
    {
     "data": {
      "text/html": [
       "<div>\n",
       "<style scoped>\n",
       "    .dataframe tbody tr th:only-of-type {\n",
       "        vertical-align: middle;\n",
       "    }\n",
       "\n",
       "    .dataframe tbody tr th {\n",
       "        vertical-align: top;\n",
       "    }\n",
       "\n",
       "    .dataframe thead th {\n",
       "        text-align: right;\n",
       "    }\n",
       "</style>\n",
       "<table border=\"1\" class=\"dataframe\">\n",
       "  <thead>\n",
       "    <tr style=\"text-align: right;\">\n",
       "      <th></th>\n",
       "      <th>Algorithm</th>\n",
       "      <th>ProofType</th>\n",
       "      <th>TotalCoinsMined</th>\n",
       "      <th>TotalCoinSupply</th>\n",
       "      <th>PC 1</th>\n",
       "      <th>PC 2</th>\n",
       "      <th>PC 3</th>\n",
       "      <th>CoinName</th>\n",
       "      <th>Class</th>\n",
       "    </tr>\n",
       "  </thead>\n",
       "  <tbody>\n",
       "    <tr>\n",
       "      <th>42</th>\n",
       "      <td>Scrypt</td>\n",
       "      <td>PoW/PoS</td>\n",
       "      <td>4.199995e+01</td>\n",
       "      <td>42</td>\n",
       "      <td>-0.343931</td>\n",
       "      <td>0.963310</td>\n",
       "      <td>-0.551941</td>\n",
       "      <td>42 Coin</td>\n",
       "      <td>0</td>\n",
       "    </tr>\n",
       "    <tr>\n",
       "      <th>404</th>\n",
       "      <td>Scrypt</td>\n",
       "      <td>PoW/PoS</td>\n",
       "      <td>1.055185e+09</td>\n",
       "      <td>532000000</td>\n",
       "      <td>-0.327299</td>\n",
       "      <td>0.963359</td>\n",
       "      <td>-0.552290</td>\n",
       "      <td>404Coin</td>\n",
       "      <td>0</td>\n",
       "    </tr>\n",
       "    <tr>\n",
       "      <th>1337</th>\n",
       "      <td>X13</td>\n",
       "      <td>PoW/PoS</td>\n",
       "      <td>2.927942e+10</td>\n",
       "      <td>314159265359</td>\n",
       "      <td>2.290041</td>\n",
       "      <td>1.569194</td>\n",
       "      <td>-0.654054</td>\n",
       "      <td>EliteCoin</td>\n",
       "      <td>4</td>\n",
       "    </tr>\n",
       "    <tr>\n",
       "      <th>BTC</th>\n",
       "      <td>SHA-256</td>\n",
       "      <td>PoW</td>\n",
       "      <td>1.792718e+07</td>\n",
       "      <td>21000000</td>\n",
       "      <td>-0.143561</td>\n",
       "      <td>-1.329054</td>\n",
       "      <td>0.209930</td>\n",
       "      <td>Bitcoin</td>\n",
       "      <td>1</td>\n",
       "    </tr>\n",
       "    <tr>\n",
       "      <th>ETH</th>\n",
       "      <td>Ethash</td>\n",
       "      <td>PoW</td>\n",
       "      <td>1.076842e+08</td>\n",
       "      <td>0</td>\n",
       "      <td>-0.133779</td>\n",
       "      <td>-1.908018</td>\n",
       "      <td>0.344314</td>\n",
       "      <td>Ethereum</td>\n",
       "      <td>1</td>\n",
       "    </tr>\n",
       "    <tr>\n",
       "      <th>LTC</th>\n",
       "      <td>Scrypt</td>\n",
       "      <td>PoW</td>\n",
       "      <td>6.303924e+07</td>\n",
       "      <td>84000000</td>\n",
       "      <td>-0.166368</td>\n",
       "      <td>-1.144262</td>\n",
       "      <td>0.012017</td>\n",
       "      <td>Litecoin</td>\n",
       "      <td>1</td>\n",
       "    </tr>\n",
       "    <tr>\n",
       "      <th>DASH</th>\n",
       "      <td>X11</td>\n",
       "      <td>PoW/PoS</td>\n",
       "      <td>9.031294e+06</td>\n",
       "      <td>22000000</td>\n",
       "      <td>-0.394791</td>\n",
       "      <td>1.269417</td>\n",
       "      <td>-0.523604</td>\n",
       "      <td>Dash</td>\n",
       "      <td>0</td>\n",
       "    </tr>\n",
       "    <tr>\n",
       "      <th>XMR</th>\n",
       "      <td>CryptoNight-V7</td>\n",
       "      <td>PoW</td>\n",
       "      <td>1.720114e+07</td>\n",
       "      <td>0</td>\n",
       "      <td>-0.129302</td>\n",
       "      <td>-2.098020</td>\n",
       "      <td>0.430594</td>\n",
       "      <td>Monero</td>\n",
       "      <td>1</td>\n",
       "    </tr>\n",
       "    <tr>\n",
       "      <th>ETC</th>\n",
       "      <td>Ethash</td>\n",
       "      <td>PoW</td>\n",
       "      <td>1.133597e+08</td>\n",
       "      <td>210000000</td>\n",
       "      <td>-0.132224</td>\n",
       "      <td>-1.908130</td>\n",
       "      <td>0.344300</td>\n",
       "      <td>Ethereum Classic</td>\n",
       "      <td>1</td>\n",
       "    </tr>\n",
       "    <tr>\n",
       "      <th>ZEC</th>\n",
       "      <td>Equihash</td>\n",
       "      <td>PoW</td>\n",
       "      <td>7.383056e+06</td>\n",
       "      <td>21000000</td>\n",
       "      <td>-0.137841</td>\n",
       "      <td>-1.921481</td>\n",
       "      <td>0.357217</td>\n",
       "      <td>ZCash</td>\n",
       "      <td>1</td>\n",
       "    </tr>\n",
       "    <tr>\n",
       "      <th>BTS</th>\n",
       "      <td>SHA-512</td>\n",
       "      <td>PoS</td>\n",
       "      <td>2.741570e+09</td>\n",
       "      <td>3600570502</td>\n",
       "      <td>-0.316469</td>\n",
       "      <td>1.529714</td>\n",
       "      <td>-0.100380</td>\n",
       "      <td>Bitshares</td>\n",
       "      <td>0</td>\n",
       "    </tr>\n",
       "    <tr>\n",
       "      <th>DGB</th>\n",
       "      <td>Multiple</td>\n",
       "      <td>PoW</td>\n",
       "      <td>1.140622e+10</td>\n",
       "      <td>21000000000</td>\n",
       "      <td>0.167073</td>\n",
       "      <td>-1.835971</td>\n",
       "      <td>0.351836</td>\n",
       "      <td>DigiByte</td>\n",
       "      <td>1</td>\n",
       "    </tr>\n",
       "    <tr>\n",
       "      <th>BTCD</th>\n",
       "      <td>SHA-256</td>\n",
       "      <td>PoW/PoS</td>\n",
       "      <td>1.288862e+06</td>\n",
       "      <td>22000000</td>\n",
       "      <td>-0.319957</td>\n",
       "      <td>0.778486</td>\n",
       "      <td>-0.354047</td>\n",
       "      <td>BitcoinDark</td>\n",
       "      <td>0</td>\n",
       "    </tr>\n",
       "    <tr>\n",
       "      <th>XPY</th>\n",
       "      <td>SHA-256</td>\n",
       "      <td>PoS</td>\n",
       "      <td>1.199533e+07</td>\n",
       "      <td>12500000</td>\n",
       "      <td>-0.274265</td>\n",
       "      <td>0.567185</td>\n",
       "      <td>-0.052230</td>\n",
       "      <td>PayCoin</td>\n",
       "      <td>0</td>\n",
       "    </tr>\n",
       "    <tr>\n",
       "      <th>PRC</th>\n",
       "      <td>Scrypt</td>\n",
       "      <td>PoW</td>\n",
       "      <td>5.768310e+06</td>\n",
       "      <td>21000000</td>\n",
       "      <td>-0.167512</td>\n",
       "      <td>-1.144246</td>\n",
       "      <td>0.012038</td>\n",
       "      <td>ProsperCoin</td>\n",
       "      <td>1</td>\n",
       "    </tr>\n",
       "    <tr>\n",
       "      <th>KOBO</th>\n",
       "      <td>X15</td>\n",
       "      <td>PoW/PoS</td>\n",
       "      <td>2.554254e+07</td>\n",
       "      <td>350000000</td>\n",
       "      <td>-0.249007</td>\n",
       "      <td>1.899966</td>\n",
       "      <td>-0.690472</td>\n",
       "      <td>KoboCoin</td>\n",
       "      <td>0</td>\n",
       "    </tr>\n",
       "    <tr>\n",
       "      <th>SPR</th>\n",
       "      <td>X11</td>\n",
       "      <td>PoW</td>\n",
       "      <td>1.114973e+07</td>\n",
       "      <td>20000000</td>\n",
       "      <td>-0.218580</td>\n",
       "      <td>-0.838128</td>\n",
       "      <td>0.040378</td>\n",
       "      <td>Spreadcoin</td>\n",
       "      <td>1</td>\n",
       "    </tr>\n",
       "    <tr>\n",
       "      <th>ARG</th>\n",
       "      <td>Scrypt</td>\n",
       "      <td>PoW</td>\n",
       "      <td>1.220580e+07</td>\n",
       "      <td>64000000</td>\n",
       "      <td>-0.167129</td>\n",
       "      <td>-1.144267</td>\n",
       "      <td>0.012034</td>\n",
       "      <td>Argentum</td>\n",
       "      <td>1</td>\n",
       "    </tr>\n",
       "    <tr>\n",
       "      <th>AUR</th>\n",
       "      <td>Scrypt</td>\n",
       "      <td>PoW/PoS</td>\n",
       "      <td>1.813510e+07</td>\n",
       "      <td>16768584</td>\n",
       "      <td>-0.343591</td>\n",
       "      <td>0.963307</td>\n",
       "      <td>-0.551947</td>\n",
       "      <td>Aurora Coin</td>\n",
       "      <td>0</td>\n",
       "    </tr>\n",
       "    <tr>\n",
       "      <th>BLU</th>\n",
       "      <td>Scrypt</td>\n",
       "      <td>PoW/PoS</td>\n",
       "      <td>6.354239e+08</td>\n",
       "      <td>0</td>\n",
       "      <td>-0.336182</td>\n",
       "      <td>0.963514</td>\n",
       "      <td>-0.552133</td>\n",
       "      <td>BlueCoin</td>\n",
       "      <td>0</td>\n",
       "    </tr>\n",
       "  </tbody>\n",
       "</table>\n",
       "</div>"
      ],
      "text/plain": [
       "           Algorithm ProofType  TotalCoinsMined TotalCoinSupply      PC 1  \\\n",
       "42            Scrypt   PoW/PoS     4.199995e+01              42 -0.343931   \n",
       "404           Scrypt   PoW/PoS     1.055185e+09       532000000 -0.327299   \n",
       "1337             X13   PoW/PoS     2.927942e+10    314159265359  2.290041   \n",
       "BTC          SHA-256       PoW     1.792718e+07        21000000 -0.143561   \n",
       "ETH           Ethash       PoW     1.076842e+08               0 -0.133779   \n",
       "LTC           Scrypt       PoW     6.303924e+07        84000000 -0.166368   \n",
       "DASH             X11   PoW/PoS     9.031294e+06        22000000 -0.394791   \n",
       "XMR   CryptoNight-V7       PoW     1.720114e+07               0 -0.129302   \n",
       "ETC           Ethash       PoW     1.133597e+08       210000000 -0.132224   \n",
       "ZEC         Equihash       PoW     7.383056e+06        21000000 -0.137841   \n",
       "BTS          SHA-512       PoS     2.741570e+09      3600570502 -0.316469   \n",
       "DGB         Multiple       PoW     1.140622e+10     21000000000  0.167073   \n",
       "BTCD         SHA-256   PoW/PoS     1.288862e+06        22000000 -0.319957   \n",
       "XPY          SHA-256       PoS     1.199533e+07        12500000 -0.274265   \n",
       "PRC           Scrypt       PoW     5.768310e+06        21000000 -0.167512   \n",
       "KOBO             X15   PoW/PoS     2.554254e+07       350000000 -0.249007   \n",
       "SPR              X11       PoW     1.114973e+07        20000000 -0.218580   \n",
       "ARG           Scrypt       PoW     1.220580e+07        64000000 -0.167129   \n",
       "AUR           Scrypt   PoW/PoS     1.813510e+07        16768584 -0.343591   \n",
       "BLU           Scrypt   PoW/PoS     6.354239e+08               0 -0.336182   \n",
       "\n",
       "          PC 2      PC 3          CoinName  Class  \n",
       "42    0.963310 -0.551941           42 Coin      0  \n",
       "404   0.963359 -0.552290           404Coin      0  \n",
       "1337  1.569194 -0.654054         EliteCoin      4  \n",
       "BTC  -1.329054  0.209930           Bitcoin      1  \n",
       "ETH  -1.908018  0.344314          Ethereum      1  \n",
       "LTC  -1.144262  0.012017          Litecoin      1  \n",
       "DASH  1.269417 -0.523604              Dash      0  \n",
       "XMR  -2.098020  0.430594            Monero      1  \n",
       "ETC  -1.908130  0.344300  Ethereum Classic      1  \n",
       "ZEC  -1.921481  0.357217             ZCash      1  \n",
       "BTS   1.529714 -0.100380         Bitshares      0  \n",
       "DGB  -1.835971  0.351836          DigiByte      1  \n",
       "BTCD  0.778486 -0.354047       BitcoinDark      0  \n",
       "XPY   0.567185 -0.052230           PayCoin      0  \n",
       "PRC  -1.144246  0.012038       ProsperCoin      1  \n",
       "KOBO  1.899966 -0.690472          KoboCoin      0  \n",
       "SPR  -0.838128  0.040378        Spreadcoin      1  \n",
       "ARG  -1.144267  0.012034          Argentum      1  \n",
       "AUR   0.963307 -0.551947       Aurora Coin      0  \n",
       "BLU   0.963514 -0.552133          BlueCoin      0  "
      ]
     },
     "execution_count": 134,
     "metadata": {},
     "output_type": "execute_result"
    }
   ],
   "source": [
    "# Initialize the K-Means model\n",
    "model = KMeans(n_clusters=5, random_state=0)\n",
    "\n",
    "# Fit the model\n",
    "model.fit(pca_df)\n",
    "\n",
    "# Predict clusters\n",
    "predictions = model.predict(pca_df)\n",
    "\n",
    "# Create a new DataFrame including predicted clusters and cryptocurrencies features\n",
    "df_merged = crypto_df.join(pca_df)\n",
    "df_merged['CoinName'] =coinname_df['CoinName']\n",
    "df_merged['Class'] = predictions\n",
    "\n",
    "df_merged.head(20)"
   ]
  },
  {
   "cell_type": "code",
   "execution_count": 135,
   "id": "830f730c-0b21-4172-bb38-dc523b7b317d",
   "metadata": {},
   "outputs": [
    {
     "data": {
      "application/vnd.plotly.v1+json": {
       "config": {
        "plotlyServerURL": "https://plot.ly"
       },
       "data": [
        {
         "customdata": [
          [
           "Scrypt"
          ],
          [
           "Scrypt"
          ],
          [
           "X11"
          ],
          [
           "SHA-512"
          ],
          [
           "SHA-256"
          ],
          [
           "SHA-256"
          ],
          [
           "X15"
          ],
          [
           "Scrypt"
          ],
          [
           "Scrypt"
          ],
          [
           "Scrypt"
          ],
          [
           "Scrypt"
          ],
          [
           "Scrypt"
          ],
          [
           "Scrypt"
          ],
          [
           "Groestl"
          ],
          [
           "PoS"
          ],
          [
           "Scrypt"
          ],
          [
           "Scrypt"
          ],
          [
           "X11"
          ],
          [
           "X11"
          ],
          [
           "SHA3"
          ],
          [
           "Scrypt"
          ],
          [
           "SHA-256"
          ],
          [
           "Scrypt"
          ],
          [
           "X13"
          ],
          [
           "X13"
          ],
          [
           "NeoScrypt"
          ],
          [
           "Scrypt"
          ],
          [
           "Scrypt"
          ],
          [
           "Scrypt"
          ],
          [
           "X11"
          ],
          [
           "X11"
          ],
          [
           "Multiple"
          ],
          [
           "PHI1612"
          ],
          [
           "X11"
          ],
          [
           "Scrypt"
          ],
          [
           "Scrypt"
          ],
          [
           "Scrypt"
          ],
          [
           "X11"
          ],
          [
           "Multiple"
          ],
          [
           "X13"
          ],
          [
           "Scrypt"
          ],
          [
           "Shabal256"
          ],
          [
           "Counterparty"
          ],
          [
           "SHA-256"
          ],
          [
           "Groestl"
          ],
          [
           "Scrypt"
          ],
          [
           "X13"
          ],
          [
           "Scrypt"
          ],
          [
           "Scrypt"
          ],
          [
           "X13"
          ],
          [
           "X11"
          ],
          [
           "Scrypt"
          ],
          [
           "X11"
          ],
          [
           "SHA3"
          ],
          [
           "QUAIT"
          ],
          [
           "X11"
          ],
          [
           "Scrypt"
          ],
          [
           "X13"
          ],
          [
           "SHA-256"
          ],
          [
           "X15"
          ],
          [
           "BLAKE256"
          ],
          [
           "SHA-256"
          ],
          [
           "X11"
          ],
          [
           "SHA-256"
          ],
          [
           "NIST5"
          ],
          [
           "Scrypt"
          ],
          [
           "Scrypt"
          ],
          [
           "X11"
          ],
          [
           "Scrypt"
          ],
          [
           "SHA-256"
          ],
          [
           "Scrypt"
          ],
          [
           "PoS"
          ],
          [
           "X11"
          ],
          [
           "SHA-256"
          ],
          [
           "SHA-256"
          ],
          [
           "NIST5"
          ],
          [
           "X11"
          ],
          [
           "POS 3.0"
          ],
          [
           "Scrypt"
          ],
          [
           "Scrypt"
          ],
          [
           "Scrypt"
          ],
          [
           "X13"
          ],
          [
           "X11"
          ],
          [
           "X11"
          ],
          [
           "Scrypt"
          ],
          [
           "SHA-256"
          ],
          [
           "X11"
          ],
          [
           "Scrypt"
          ],
          [
           "Scrypt"
          ],
          [
           "Scrypt"
          ],
          [
           "Scrypt"
          ],
          [
           "SHA-256D"
          ],
          [
           "PoS"
          ],
          [
           "Scrypt"
          ],
          [
           "X11"
          ],
          [
           "PoS"
          ],
          [
           "X13"
          ],
          [
           "X14"
          ],
          [
           "PoS"
          ],
          [
           "SHA-256D"
          ],
          [
           "X11"
          ],
          [
           "X13"
          ],
          [
           "X11"
          ],
          [
           "PoS"
          ],
          [
           "Scrypt"
          ],
          [
           "Scrypt"
          ],
          [
           "PoS"
          ],
          [
           "X11"
          ],
          [
           "SHA-256"
          ],
          [
           "Scrypt"
          ],
          [
           "X11"
          ],
          [
           "Scrypt"
          ],
          [
           "Scrypt"
          ],
          [
           "X11"
          ],
          [
           "Scrypt"
          ],
          [
           "Scrypt"
          ],
          [
           "Scrypt"
          ],
          [
           "Scrypt"
          ],
          [
           "Quark"
          ],
          [
           "QuBit"
          ],
          [
           "Scrypt"
          ],
          [
           "SHA-256"
          ],
          [
           "X11"
          ],
          [
           "Scrypt"
          ],
          [
           "Scrypt"
          ],
          [
           "Scrypt"
          ],
          [
           "Scrypt"
          ],
          [
           "X13"
          ],
          [
           "Scrypt"
          ],
          [
           "Scrypt"
          ],
          [
           "X11"
          ],
          [
           "Blake2S"
          ],
          [
           "X11"
          ],
          [
           "PoS"
          ],
          [
           "X11"
          ],
          [
           "PoS"
          ],
          [
           "X11"
          ],
          [
           "Scrypt"
          ],
          [
           "Scrypt"
          ],
          [
           "Scrypt"
          ],
          [
           "SHA-256"
          ],
          [
           "X11"
          ],
          [
           "Scrypt"
          ],
          [
           "PoS"
          ],
          [
           "Scrypt"
          ],
          [
           "X15"
          ],
          [
           "SHA-256"
          ],
          [
           "POS 3.0"
          ],
          [
           "536"
          ],
          [
           "NIST5"
          ],
          [
           "NIST5"
          ],
          [
           "Skein"
          ],
          [
           "X13"
          ],
          [
           "Scrypt"
          ],
          [
           "X13"
          ],
          [
           "SkunkHash v2 Raptor"
          ],
          [
           "Skein"
          ],
          [
           "X11"
          ],
          [
           "Scrypt"
          ],
          [
           "PoS"
          ],
          [
           "Scrypt"
          ],
          [
           "Scrypt"
          ],
          [
           "SHA-512"
          ],
          [
           "Ouroboros"
          ],
          [
           "X11"
          ],
          [
           "NeoScrypt"
          ],
          [
           "Scrypt"
          ],
          [
           "Lyra2REv2"
          ],
          [
           "Scrypt"
          ],
          [
           "SHA-256"
          ],
          [
           "NIST5"
          ],
          [
           "PHI1612"
          ],
          [
           "Scrypt"
          ],
          [
           "Quark"
          ],
          [
           "POS 2.0"
          ],
          [
           "Scrypt"
          ],
          [
           "SHA-256"
          ],
          [
           "X11"
          ],
          [
           "NIST5"
          ],
          [
           "X13"
          ],
          [
           "Scrypt"
          ],
          [
           "NIST5"
          ],
          [
           "Quark"
          ],
          [
           "Scrypt"
          ],
          [
           "Scrypt"
          ],
          [
           "X11"
          ],
          [
           "Quark"
          ],
          [
           "Scrypt"
          ],
          [
           "Scrypt"
          ],
          [
           "X11"
          ],
          [
           "POS 3.0"
          ],
          [
           "Ethash"
          ],
          [
           "Scrypt"
          ],
          [
           "Scrypt"
          ],
          [
           "X13"
          ],
          [
           "C11"
          ],
          [
           "X11"
          ],
          [
           "XEVAN"
          ],
          [
           "Scrypt"
          ],
          [
           "VBFT"
          ],
          [
           "NIST5"
          ],
          [
           "Scrypt"
          ],
          [
           "Scrypt"
          ],
          [
           "Scrypt"
          ],
          [
           "Green Protocol"
          ],
          [
           "PoS"
          ],
          [
           "Scrypt"
          ],
          [
           "Quark"
          ],
          [
           "PoS"
          ],
          [
           "X16R"
          ],
          [
           "Scrypt"
          ],
          [
           "XEVAN"
          ],
          [
           "Scrypt"
          ],
          [
           "Scrypt"
          ],
          [
           "Scrypt"
          ],
          [
           "SHA-256D"
          ],
          [
           "Scrypt"
          ],
          [
           "X15"
          ],
          [
           "Quark"
          ],
          [
           "SHA-256"
          ],
          [
           "DPoS"
          ],
          [
           "X16R"
          ],
          [
           "Quark"
          ],
          [
           "Quark"
          ],
          [
           "Scrypt"
          ],
          [
           "Lyra2REv2"
          ],
          [
           "Quark"
          ],
          [
           "Scrypt"
          ],
          [
           "X11"
          ],
          [
           "X11"
          ],
          [
           "Scrypt"
          ],
          [
           "PoS"
          ],
          [
           "Keccak"
          ],
          [
           "X11"
          ],
          [
           "Scrypt"
          ],
          [
           "SHA-512"
          ],
          [
           "ECC 256K1"
          ],
          [
           "XEVAN"
          ],
          [
           "XEVAN"
          ],
          [
           "X11"
          ],
          [
           "Quark"
          ],
          [
           "Equihash"
          ],
          [
           "Scrypt"
          ],
          [
           "Quark"
          ],
          [
           "Quark"
          ],
          [
           "Scrypt"
          ],
          [
           "X11"
          ],
          [
           "Scrypt"
          ],
          [
           "XEVAN"
          ],
          [
           "SHA-256D"
          ],
          [
           "X11"
          ],
          [
           "X11"
          ],
          [
           "Scrypt"
          ],
          [
           "X11"
          ],
          [
           "Scrypt"
          ],
          [
           "Scrypt"
          ],
          [
           "SHA-256"
          ],
          [
           "Scrypt"
          ],
          [
           "X11"
          ],
          [
           "Scrypt"
          ],
          [
           "SHA-256"
          ],
          [
           "X11"
          ],
          [
           "Scrypt"
          ],
          [
           "Scrypt"
          ],
          [
           "X11"
          ],
          [
           "Scrypt"
          ],
          [
           "PoS"
          ],
          [
           "X11"
          ],
          [
           "SHA-256"
          ],
          [
           "Scrypt"
          ],
          [
           "Scrypt"
          ],
          [
           "NeoScrypt"
          ],
          [
           "X13"
          ],
          [
           "SHA-256"
          ],
          [
           "PoS"
          ],
          [
           "PoS"
          ],
          [
           "Scrypt"
          ],
          [
           "Scrypt"
          ]
         ],
         "hovertemplate": "<b>%{hovertext}</b><br><br>Class=%{marker.color}<br>PC 1=%{x}<br>PC 2=%{y}<br>PC 3=%{z}<br>Algorithm=%{customdata[0]}<extra></extra>",
         "hovertext": [
          "42 Coin",
          "404Coin",
          "Dash",
          "Bitshares",
          "BitcoinDark",
          "PayCoin",
          "KoboCoin",
          "Aurora Coin",
          "BlueCoin",
          "EnergyCoin",
          "BitBar",
          "CryptoBullion",
          "CasinoCoin",
          "Diamond",
          "Exclusive Coin",
          "FlutterCoin",
          "HoboNickels",
          "HyperStake",
          "IOCoin",
          "MaxCoin",
          "MintCoin",
          "MazaCoin",
          "Nautilus Coin",
          "NavCoin",
          "OpalCoin",
          "Orbitcoin",
          "PotCoin",
          "PhoenixCoin",
          "Reddcoin",
          "SuperCoin",
          "SyncCoin",
          "TeslaCoin",
          "TittieCoin",
          "TorCoin",
          "UnitaryStatus Dollar",
          "UltraCoin",
          "VeriCoin",
          "X11 Coin",
          "Crypti",
          "StealthCoin",
          "ZCC Coin",
          "BurstCoin",
          "StorjCoin",
          "Neutron",
          "FairCoin",
          "RubyCoin",
          "Kore",
          "Dnotes",
          "8BIT Coin",
          "Sativa Coin",
          "Ucoin",
          "Vtorrent",
          "IslaCoin",
          "Nexus",
          "Droidz",
          "Squall Coin",
          "Diggits",
          "Paycon",
          "Emercoin",
          "EverGreenCoin",
          "Decred",
          "EDRCoin",
          "Hitcoin",
          "DubaiCoin",
          "PWR Coin",
          "BillaryCoin",
          "GPU Coin",
          "EuropeCoin",
          "ZeitCoin",
          "SwingCoin",
          "SafeExchangeCoin",
          "Nebuchadnezzar",
          "Ratecoin",
          "Revenu",
          "Clockcoin",
          "VIP Tokens",
          "BitSend",
          "Let it Ride",
          "PutinCoin",
          "iBankCoin",
          "Frankywillcoin",
          "MudraCoin",
          "Lutetium Coin",
          "GoldBlocks",
          "CarterCoin",
          "BitTokens",
          "MustangCoin",
          "ZoneCoin",
          "RootCoin",
          "BitCurrency",
          "Swiscoin",
          "BuzzCoin",
          "Opair",
          "PesoBit",
          "Halloween Coin",
          "CoffeeCoin",
          "RoyalCoin",
          "GanjaCoin V2",
          "TeamUP",
          "LanaCoin",
          "InsaneCoin",
          "EmberCoin",
          "XenixCoin",
          "FreeCoin",
          "PLNCoin",
          "AquariusCoin",
          "Creatio",
          "Eternity",
          "Eurocoin",
          "BitcoinFast",
          "Stakenet",
          "BitConnect Coin",
          "MoneyCoin",
          "Enigma",
          "Russiacoin",
          "PandaCoin",
          "GameUnits",
          "GAKHcoin",
          "Allsafe",
          "LiteCreed",
          "Klingon Empire Darsek",
          "Internet of People",
          "KushCoin",
          "Printerium",
          "Impeach",
          "Zilbercoin",
          "FirstCoin",
          "FindCoin",
          "OpenChat",
          "RenosCoin",
          "VirtacoinPlus",
          "TajCoin",
          "Impact",
          "Atmos",
          "HappyCoin",
          "MacronCoin",
          "Condensate",
          "Independent Money System",
          "ArgusCoin",
          "LomoCoin",
          "ProCurrency",
          "GoldReserve",
          "GrowthCoin",
          "Phreak",
          "Degas Coin",
          "HTML5 Coin",
          "Ultimate Secure Cash",
          "QTUM",
          "Espers",
          "Denarius",
          "Virta Unique Coin",
          "Bitcoin Planet",
          "BritCoin",
          "Linda",
          "DeepOnion",
          "Signatum",
          "Cream",
          "Monoeci",
          "Draftcoin",
          "Stakecoin",
          "CoinonatX",
          "Ethereum Dark",
          "Obsidian",
          "Cardano",
          "Regalcoin",
          "TrezarCoin",
          "TerraNovaCoin",
          "Rupee",
          "WomenCoin",
          "Theresa May Coin",
          "NamoCoin",
          "LUXCoin",
          "Xios",
          "Bitcloud 2.0",
          "KekCoin",
          "BlackholeCoin",
          "Infinity Economics",
          "Magnet",
          "Electra",
          "Bitcoin Diamond",
          "Cash & Back Coin",
          "Bulwark",
          "Kalkulus",
          "GermanCoin",
          "LiteCoin Ultra",
          "PhantomX",
          "Digiwage",
          "Trollcoin",
          "Litecoin Plus",
          "Monkey Project",
          "TokenPay",
          "1717 Masonic Commemorative Token",
          "My Big Coin",
          "Unified Society USDEX",
          "Tokyo Coin",
          "Stipend",
          "Pushi",
          "Ellerium",
          "Velox",
          "Ontology",
          "Bitspace",
          "Briacoin",
          "Ignition",
          "MedicCoin",
          "Bitcoin Green",
          "Deviant Coin",
          "Abjcoin",
          "Carebit",
          "Zealium",
          "Proton",
          "iDealCash",
          "Bitcoin Incognito",
          "HollyWoodCoin",
          "Swisscoin",
          "Xt3ch",
          "TheVig",
          "EmaratCoin",
          "Dekado",
          "Poseidon Quark",
          "BitcoinWSpectrum",
          "Muse",
          "Trivechain",
          "Dystem",
          "Giant",
          "Peony Coin",
          "Absolute Coin",
          "Vitae",
          "TPCash",
          "ARENON",
          "EUNO",
          "MMOCoin",
          "Ketan",
          "XDNA",
          "PAXEX",
          "ThunderStake",
          "Kcash",
          "Acute Angle Cloud",
          "Bettex coin",
          "BitMoney",
          "Junson Ming Chan Coin",
          "HerbCoin",
          "PirateCash",
          "Oduwa",
          "Galilel",
          "Crypto Sports",
          "Credit",
          "Dash Platinum",
          "Nasdacoin",
          "Beetle Coin",
          "Titan Coin",
          "Award",
          "Insane Coin",
          "LiteDoge",
          "TruckCoin",
          "OrangeCoin",
          "BitstarCoin",
          "NeosCoin",
          "HyperCoin",
          "PinkCoin",
          "AudioCoin",
          "IncaKoin",
          "Piggy Coin",
          "Genstake",
          "XiaoMiCoin",
          "CapriCoin",
          " ClubCoin",
          "Radium",
          "Creditbit ",
          "OKCash",
          "HiCoin",
          "WhiteCoin",
          "FriendshipCoin",
          "Triangles Coin",
          "TigerCash",
          "Particl",
          "Nxt",
          "Gapcoin",
          "BitcoinPlus"
         ],
         "legendgroup": "0",
         "marker": {
          "color": [
           0,
           0,
           0,
           0,
           0,
           0,
           0,
           0,
           0,
           0,
           0,
           0,
           0,
           0,
           0,
           0,
           0,
           0,
           0,
           0,
           0,
           0,
           0,
           0,
           0,
           0,
           0,
           0,
           0,
           0,
           0,
           0,
           0,
           0,
           0,
           0,
           0,
           0,
           0,
           0,
           0,
           0,
           0,
           0,
           0,
           0,
           0,
           0,
           0,
           0,
           0,
           0,
           0,
           0,
           0,
           0,
           0,
           0,
           0,
           0,
           0,
           0,
           0,
           0,
           0,
           0,
           0,
           0,
           0,
           0,
           0,
           0,
           0,
           0,
           0,
           0,
           0,
           0,
           0,
           0,
           0,
           0,
           0,
           0,
           0,
           0,
           0,
           0,
           0,
           0,
           0,
           0,
           0,
           0,
           0,
           0,
           0,
           0,
           0,
           0,
           0,
           0,
           0,
           0,
           0,
           0,
           0,
           0,
           0,
           0,
           0,
           0,
           0,
           0,
           0,
           0,
           0,
           0,
           0,
           0,
           0,
           0,
           0,
           0,
           0,
           0,
           0,
           0,
           0,
           0,
           0,
           0,
           0,
           0,
           0,
           0,
           0,
           0,
           0,
           0,
           0,
           0,
           0,
           0,
           0,
           0,
           0,
           0,
           0,
           0,
           0,
           0,
           0,
           0,
           0,
           0,
           0,
           0,
           0,
           0,
           0,
           0,
           0,
           0,
           0,
           0,
           0,
           0,
           0,
           0,
           0,
           0,
           0,
           0,
           0,
           0,
           0,
           0,
           0,
           0,
           0,
           0,
           0,
           0,
           0,
           0,
           0,
           0,
           0,
           0,
           0,
           0,
           0,
           0,
           0,
           0,
           0,
           0,
           0,
           0,
           0,
           0,
           0,
           0,
           0,
           0,
           0,
           0,
           0,
           0,
           0,
           0,
           0,
           0,
           0,
           0,
           0,
           0,
           0,
           0,
           0,
           0,
           0,
           0,
           0,
           0,
           0,
           0,
           0,
           0,
           0,
           0,
           0,
           0,
           0,
           0,
           0,
           0,
           0,
           0,
           0,
           0,
           0,
           0,
           0,
           0,
           0,
           0,
           0,
           0,
           0,
           0,
           0,
           0,
           0,
           0,
           0,
           0,
           0,
           0,
           0,
           0,
           0,
           0,
           0,
           0,
           0,
           0,
           0,
           0,
           0,
           0,
           0,
           0,
           0,
           0,
           0,
           0
          ],
          "coloraxis": "coloraxis",
          "symbol": "circle"
         },
         "mode": "markers",
         "name": "0",
         "scene": "scene",
         "showlegend": true,
         "type": "scatter3d",
         "x": [
          -0.3439305738711416,
          -0.32729884033407564,
          -0.39479139064352564,
          -0.3164690550372665,
          -0.3199568849236752,
          -0.2742653560745148,
          -0.24900720438858517,
          -0.3435907706648597,
          -0.3361821401214713,
          -0.3424299322570834,
          -0.34392651722423995,
          -0.3439108270944254,
          0.5866561117215783,
          -0.3792907156005775,
          -0.36368130361836454,
          -0.3114929272678982,
          -0.34199286618557806,
          -0.3289609289158274,
          -0.3946862819776663,
          -0.3577539661803017,
          -0.03864171758722998,
          -0.2833295684563876,
          -0.29799057713543736,
          -0.2893298274990528,
          -0.28995088289686416,
          -0.34558088968609807,
          -0.33824310298491544,
          -0.3423352120304342,
          0.013546935640927281,
          -0.3488106671467367,
          -0.395057180322504,
          -0.24950664632984967,
          -0.34128516299029416,
          -0.3949689768488577,
          -0.31920745754011004,
          -0.3426103531319731,
          -0.2647845005882355,
          -0.39493352188319913,
          -0.24997358749172902,
          -0.2897321525839134,
          -0.33504948999709266,
          -0.18695526561655934,
          -0.35415493028079903,
          -0.31917002906361075,
          -0.37871335397612504,
          -0.2979708844231369,
          -0.290026121538104,
          -0.29263448279314114,
          -0.34391267565289607,
          -0.2899783970262971,
          -0.34925467303102936,
          -0.34364753583853014,
          -0.3950387434649706,
          -0.2644952071172557,
          -0.4258819592954966,
          -0.2971166865020526,
          -0.2963753160313542,
          -0.2895008934464113,
          -0.31252673350300725,
          -0.2514443487198364,
          -0.10217592313254353,
          -0.31992785280157576,
          -0.07308640368654762,
          -0.31999143710629313,
          -0.2425166526534377,
          -0.3435236310223339,
          -0.29624452023672726,
          -0.3922129281999019,
          0.8531002102911661,
          -0.31979185027232837,
          -0.142784291485633,
          -0.3633651507564689,
          -0.3928856872467904,
          -0.3185375978159346,
          -0.31620994656401014,
          -0.3636502241348255,
          -0.39377618503592615,
          -0.36124650175118556,
          -0.3198626818002791,
          -0.34356165646350756,
          -0.3420035153819121,
          -0.24303123663360884,
          -0.33676822280912205,
          -0.3945135903276546,
          -0.342767326771222,
          -0.3199724172022265,
          -0.3950279530332995,
          -0.3437504838746728,
          -0.34390691944347934,
          -0.29623426964903515,
          -0.2265575291605659,
          0.019839333921405737,
          -0.36232412649115125,
          -0.34352179175852515,
          -0.38121496997459264,
          -0.36165403384285777,
          -0.24445932318232466,
          -0.44114852321618475,
          -0.36140326077421653,
          -0.2941119788185662,
          -0.3946212330856541,
          0.8400895393434615,
          -0.39498294585949295,
          -0.36278703296689013,
          -0.34344945475388705,
          -0.3436034923288064,
          -0.3633651507564689,
          -0.3945586013176865,
          -0.31983534547312514,
          -0.3434501930037905,
          -0.35639708831402483,
          -0.34359731375915414,
          -0.3391931054930269,
          -0.3950118851857935,
          -0.3428094016263499,
          0.3441100875919489,
          -0.34379623054930925,
          -0.34386667746026184,
          -0.35987525901522965,
          -0.3404779663270923,
          -0.3401001010198034,
          -0.3199488746330606,
          -0.3949220007115208,
          -0.34364488964157425,
          -0.34377160604554363,
          -0.2978775305506287,
          -0.30358532061896176,
          -0.2442275995532384,
          -0.32465998169454763,
          -0.29761915520259524,
          -0.39418904621143,
          -0.40019245298591616,
          -0.3929297494986278,
          -0.36161489446791695,
          -0.3940871207797466,
          -0.3560249926890711,
          -0.39003536170756453,
          -0.34371499823564644,
          -0.3437141847209851,
          -0.33684800348875066,
          0.25746154214912254,
          -0.3945647529131735,
          -0.2805505101105506,
          -0.36339937462291816,
          -0.34292709358983076,
          0.8808881552121933,
          -0.27295806872561595,
          -0.36002707304943227,
          0.5523380478733529,
          -0.3651830798700853,
          -0.36368801089997677,
          -0.4194127036123742,
          -0.28966406153929314,
          0.12018809488080226,
          -0.2897347101460381,
          -0.3596059571578677,
          -0.4189185071863589,
          -0.3948366527128896,
          -0.2979516205250698,
          -0.36326587558189855,
          -0.34335085259225206,
          -0.343849638189967,
          -0.3744278649981579,
          0.6595552474499609,
          -0.3947775783562121,
          -0.3405891365614988,
          -0.34380532789936236,
          -0.3013903749093698,
          0.423901845316035,
          -0.31829815808199574,
          -0.34997736745085034,
          -0.4224462248299785,
          -0.34375575517275897,
          -0.4039480653248284,
          -0.3330529058409944,
          -0.34362639900961583,
          -0.10106474778873885,
          -0.3935723912709501,
          0.19329212600905918,
          -0.28641160612392014,
          -0.34109124866158674,
          -0.3193188415016908,
          -0.35976137100295497,
          0.06978454997085079,
          -0.34276643636807974,
          -0.3941525183088887,
          -0.35892758865960595,
          -0.3303547463270997,
          -0.3438717287812508,
          -0.34922665388941304,
          -0.3615279012291045,
          -0.26563235267629365,
          -0.2682233921577953,
          -0.33942508940452876,
          -0.2360380302851652,
          -0.37395778801481877,
          -0.3948538551568362,
          -0.24531635115226882,
          -0.29711308875828646,
          -0.32847850187553895,
          -0.3647827564946164,
          -0.34389903345010653,
          -0.34388077698956426,
          -0.2915046786295311,
          -0.3453193010977417,
          -0.36286106719234534,
          -0.3435977964362831,
          -0.4026185643738023,
          -0.3630493917208575,
          -0.29953949483008946,
          -0.2905627555616606,
          -0.14752796897592646,
          -0.2976463915674299,
          -0.14737052622371075,
          -0.2978979693410867,
          -0.35931105567650923,
          -0.3430727659382623,
          -0.20516106793730682,
          -0.35547683045438144,
          -0.27308562742305736,
          1.0420264641642356,
          -0.3445054524310567,
          -0.35987469160845914,
          -0.4056292265685882,
          -0.17883878555251695,
          -0.3469469740718359,
          -0.3585965448503285,
          -0.3367882059382808,
          -0.34880482162916004,
          -0.39432815127742693,
          -0.29514840664202924,
          -0.3621507668971403,
          -0.3597462105110323,
          -0.3486664248843061,
          -0.20362883426234746,
          -0.4282754822999724,
          -0.2963174481157083,
          -0.19968126281137594,
          0.7590609755237938,
          -0.13956914699578038,
          -0.4049251298555432,
          -0.26774431012219446,
          -0.34360176953005234,
          -0.40538042697609455,
          -0.35999145665674803,
          0.5612820619057182,
          -0.349280869024192,
          -0.3430856040464192,
          -0.23978193985097154,
          -0.3141113081725101,
          -0.39189704644315826,
          -0.39455498064147543,
          0.09054634972229453,
          -0.3920992242815434,
          -0.3424721474265389,
          -0.3432957199810804,
          -0.2742979188645702,
          -0.3438131306830892,
          -0.3861980167260434,
          -0.25766842726903527,
          -0.10002461440161625,
          -0.3819538981952757,
          -0.34309278043730546,
          -0.3361697018702939,
          -0.3911298345903989,
          -0.3415347613455181,
          -0.36364027762425627,
          -0.3861282844379083,
          -0.31847464529559794,
          -0.1055309366988677,
          -0.3387346466392689,
          -0.3452074001416719,
          -0.2901331355673485,
          -0.25522949155448205,
          -0.3635762636651323,
          -0.3921251069059377,
          -0.34197938519600657,
          -0.2982937340211726
         ],
         "y": [
          0.9633104254214062,
          0.9633589809109023,
          1.2694165362443666,
          1.5297138828557633,
          0.7784862116745068,
          0.5671847004810555,
          1.89996630893411,
          0.9633071134270909,
          0.9635138752663985,
          0.9633498276419122,
          0.9633101671716687,
          0.9633102143504382,
          0.03683028070137233,
          0.8203964434215334,
          1.4441000354882738,
          0.09631554826137818,
          0.9632737527613768,
          1.0586529307878452,
          1.2694192960716089,
          2.4784635878507943,
          0.7588182030157923,
          0.777698956572008,
          0.7519967023658644,
          1.730674915001729,
          1.7306586080151212,
          0.5910797014980191,
          0.963153332704825,
          0.963280814816763,
          0.9726966750214432,
          1.0581317382877162,
          1.2694256076973989,
          0.06800379713225033,
          1.4055598629367148,
          1.2694206284698155,
          0.9627922326824387,
          0.9632721312843332,
          0.442226219079082,
          1.2694248425650896,
          0.06806449577255454,
          1.7306643511940658,
          0.9628140244867984,
          -0.1256564821592935,
          1.3927989594070491,
          0.7784733108963574,
          0.8204147987523762,
          0.7520090242121559,
          1.730647877394124,
          0.7517843462237708,
          0.9633108954036872,
          1.7306505896729485,
          1.058105488258554,
          0.9633032653389467,
          1.269426092521629,
          3.4043238017401993,
          1.9045939037762878,
          1.125723772618011,
          0.7519779598189548,
          1.7306339438082743,
          0.7779677647220438,
          1.9001384870447096,
          0.6914303916584356,
          0.7784869739678996,
          1.2585089295243765,
          0.7784936947339998,
          1.4561375427269527,
          0.9632904677003234,
          0.7518930752413294,
          1.2692201268457373,
          0.7100031026388562,
          0.7784774123402842,
          0.045294282560841385,
          1.4440937448677857,
          1.2694279057943494,
          0.7783770306633048,
          0.7782176105433495,
          1.4528912880540845,
          1.2693578302851136,
          1.4924771838374176,
          0.9624831922654172,
          0.9632877668923399,
          0.9632880649596517,
          1.5192364941298209,
          1.0579685944282442,
          1.2694034018798455,
          0.9632753055504633,
          0.7784865334357491,
          1.2694241870728988,
          0.9632998326524765,
          0.9633110465438756,
          0.7520546223246016,
          0.47311213798273555,
          1.873130133003205,
          1.4440816810376198,
          0.9633211588012089,
          1.2686946759128457,
          1.4441240817468861,
          1.5193430910746888,
          1.7110055385428304,
          1.4439402430336312,
          1.8740022518777586,
          1.2694151673283185,
          1.7597098091044945,
          1.26942474624231,
          1.4440870367264442,
          0.9632949397225122,
          0.9632883707903547,
          1.4440937448677857,
          1.2693949241244344,
          0.7784908621044553,
          0.9632989622705926,
          0.9812153509901187,
          0.9632987472895872,
          0.9629601013296175,
          1.2694231497833792,
          0.9632348029000014,
          0.7451454975918221,
          0.9633044682120694,
          0.9633096840047491,
          1.4592280058106004,
          0.6627259679982629,
          0.9630462064492611,
          0.7784871515905246,
          1.2694223332329027,
          0.9633033348198635,
          0.9632985970988104,
          0.7519713479089718,
          0.30630529086902897,
          1.5193404022889703,
          0.96308682071939,
          0.7519931423329829,
          1.2693754438679812,
          1.9345771253295612,
          1.269401213183473,
          1.4440738264018838,
          1.269378120113378,
          1.4440092301812029,
          1.2691926704652887,
          0.9633006096336885,
          0.9632952408665758,
          0.9627668011062012,
          0.5264360187471212,
          1.269409354415744,
          0.751007247847188,
          1.4440855503487504,
          0.96326016670999,
          1.864226050927451,
          0.5670821661087881,
          1.492460684470682,
          1.7144277449926837,
          1.4529094072738387,
          1.4528684081712824,
          1.9316890045846604,
          1.730644251333838,
          0.9390172080121311,
          1.7306504960993312,
          1.4194702432694535,
          1.9317019806485183,
          1.2694244623812847,
          0.7519968308467454,
          1.4440660005799284,
          0.9632904429247094,
          0.9633094862910039,
          1.5307523305174753,
          1.5110261536616254,
          1.2694132509588718,
          0.5909216837321968,
          0.9633022351296859,
          0.7257195030734246,
          0.9652315545695507,
          0.7784728566205366,
          1.4524404491941174,
          1.6175712684924841,
          0.9632996942445539,
          1.670443976472401,
          1.6674965462221683,
          0.9633076227515878,
          0.5651752147176587,
          1.269359533323403,
          1.4456928085730705,
          1.7305983243974448,
          0.963231763279393,
          1.2415925742686083,
          1.4592273482029474,
          0.9376937674064464,
          0.9632315534903603,
          1.2694128825100683,
          1.459176281673167,
          0.9630102529457389,
          0.9633090521787904,
          1.0581054943635686,
          1.4924759966813361,
          -0.011816236126875525,
          0.3626802777593549,
          0.9632594604542796,
          1.5189823596240577,
          0.8410251168249279,
          1.269412707348208,
          1.5930995878512642,
          0.7519410780219165,
          1.384800515577679,
          1.452890734896611,
          0.9633090648336121,
          0.9633080850102758,
          0.7518140113734989,
          1.5063954379924973,
          1.4440573683726246,
          0.9632972754346736,
          1.6704788850397856,
          1.4440582602804246,
          0.7648134185853268,
          0.9609747709266289,
          1.449422212098325,
          0.7519985750300799,
          0.961029657374495,
          0.7519788367469988,
          1.877693674931621,
          0.9632716632101408,
          1.6887991059247083,
          1.458880204822984,
          0.5671516460081716,
          1.764589935892515,
          0.9761135185161236,
          1.4592236431650079,
          1.670541994407118,
          0.7428215730055561,
          0.9370106948790902,
          1.4591995656689434,
          0.9627683712042283,
          1.058091764286811,
          1.269408270933587,
          0.7518934401455684,
          1.4439870085932063,
          0.8048333816020385,
          1.0580625665761692,
          0.9538616817535506,
          1.7286354833495448,
          5.041593166118405,
          1.381796959500621,
          1.5496812107391267,
          1.0636257709923138,
          1.6705248420269265,
          -0.025288572352168352,
          0.963303737429465,
          1.6705383967464693,
          1.4592261440540517,
          0.9325051179043605,
          1.0581050193102992,
          0.9632713261212781,
          1.592923884421429,
          1.875305485761649,
          1.2692021556563822,
          1.2694169069118135,
          0.9491827676418354,
          1.2695032751693078,
          0.9632028010715398,
          0.9632875099867968,
          0.5671776439627132,
          0.9633135091455453,
          1.2692934272310215,
          0.9579146997290443,
          0.7841383790630646,
          1.2690400692795696,
          0.9633214794467575,
          0.9632223655940894,
          1.2693769734766867,
          0.9632565975460208,
          1.4440945463876103,
          0.8915774194894581,
          0.7784645746609553,
          0.7497595468363075,
          0.9632279771731669,
          0.5910483606143391,
          1.7306537350749398,
          0.5669640524120734,
          1.444096494123476,
          1.2778479442571047,
          0.9631792599451051,
          0.7519998175933801
         ],
         "z": [
          -0.5519409899719394,
          -0.5522895555046939,
          -0.5236039388197213,
          -0.1003801017914219,
          -0.35404697079865854,
          -0.0522302976770546,
          -0.6904721057426285,
          -0.5519474173741942,
          -0.5521325442399654,
          -0.5519780883515731,
          -0.5519410314305392,
          -0.5519413604833858,
          -0.2339378459729945,
          -0.3649911643385117,
          -0.06238045139167464,
          -0.20129871739991803,
          -0.5519747733296917,
          -0.22228660469340822,
          -0.5236065372820289,
          -0.796588101003685,
          -0.256540879852116,
          -0.3546703883424995,
          -0.25012743771182505,
          -0.627253827720909,
          -0.6272384741910337,
          -0.35902115376339216,
          -0.5520321736894722,
          -0.5519688986385675,
          -0.5607784328868619,
          -0.22179588591047478,
          -0.5235999566076047,
          0.09428466426412624,
          -0.22435861616370475,
          -0.5236009605939576,
          -0.5523639197990269,
          -0.5519618613558096,
          -0.3143012881265444,
          -0.5236023666011325,
          0.09428444114242453,
          -0.6272438815708044,
          -0.552042878353738,
          -0.00406293373034247,
          -0.07564639858721392,
          -0.3540610105165619,
          -0.3650059530661098,
          -0.25012982839902215,
          -0.6272352021630386,
          -0.2502029197398774,
          -0.5519414324508187,
          -0.6272366173267119,
          -0.22178255600328514,
          -0.5519456338133166,
          -0.5236004125152769,
          -0.87129509413688,
          -0.7277787733243165,
          -0.3389670477376199,
          -0.25015750683320964,
          -0.6272437153393665,
          -0.3541155783662379,
          -0.6904499444610446,
          -0.32622664051307393,
          -0.3540476885213539,
          -0.5284355576576992,
          -0.35404746978011004,
          -0.5792159424769594,
          -0.551946108276263,
          -0.2501464964370568,
          -0.5236250873150545,
          -0.26693721164052403,
          -0.35404893272761273,
          -0.2203588452488704,
          -0.06238591388216928,
          -0.5236448146548514,
          -0.3540584392662047,
          -0.35408041494399123,
          -0.5762107276367835,
          -0.5236152693764033,
          -0.12473864999111672,
          -0.5523006547997084,
          -0.551944893667605,
          -0.5519768634016144,
          -0.32542751097488415,
          -0.2220162881590754,
          -0.5236075118358694,
          -0.5519591573734205,
          -0.3540467044816068,
          -0.5236003262721405,
          -0.551942971098502,
          -0.5519415747539587,
          -0.2501727604255535,
          -0.43885476324311157,
          -0.7642973569923572,
          -0.0624052957336949,
          -0.5519510957555274,
          -0.5237656590124357,
          -0.06242586223297925,
          -0.3254154454800894,
          -0.6905146667558575,
          -0.06240135069180415,
          -0.7580060847688662,
          -0.5236072040644562,
          -0.6550749497021013,
          -0.5236013385165645,
          -0.06239667591559257,
          -0.5519483491653407,
          -0.5519441339709767,
          -0.06238591388216928,
          -0.5236052224198418,
          -0.35405021079127824,
          -0.5519489827891638,
          -0.2839033015285932,
          -0.5519459340520967,
          -0.551981547009646,
          -0.5236004881624593,
          -0.5519517632001952,
          -0.2621772163861862,
          -0.551942781499225,
          -0.5519421794446049,
          -0.18108692109814375,
          -0.2990809557551271,
          -0.5519768522354741,
          -0.35404728649335687,
          -0.5236021979355848,
          -0.5519456992317389,
          -0.5519423391006566,
          -0.25012566458392993,
          -0.4218643827359529,
          -0.3254197591640584,
          -0.5522997244043102,
          -0.2501344728843049,
          -0.5236096517653844,
          -0.6141428788861957,
          -0.5236396070208511,
          -0.06241855900232791,
          -0.523612171532809,
          -0.06252266146638649,
          -0.5236652710469802,
          -0.5519438234033278,
          -0.5519429742059916,
          -0.551998416087211,
          -0.056551931118067535,
          -0.5236074236799917,
          -0.25032515544641465,
          -0.06238389114190813,
          -0.5519534426665883,
          -0.7078561748032954,
          -0.052240543560062476,
          -0.12476097146300444,
          -0.6549013169511246,
          -0.5761822462266301,
          -0.5762062634778012,
          -0.7345226030306261,
          -0.6272420348886547,
          -0.5575314362566611,
          -0.6272415946525287,
          -0.24988677783169908,
          -0.7345348203941949,
          -0.5236042898461702,
          -0.2501282565376864,
          -0.062383473192093135,
          -0.5519496439950806,
          -0.5519424966415493,
          -0.09936017740897844,
          -0.09709065362436459,
          -0.5236036919481302,
          -0.3590979351094855,
          -0.5519422349746844,
          0.03272399323120435,
          -0.5679814213431201,
          -0.35407879928722147,
          -0.576418133306635,
          -0.5255631146882618,
          -0.5519428407831825,
          -0.4829229612127006,
          -0.27898436846403046,
          -0.5519467695985185,
          -0.055454575656271654,
          -0.5236197191652109,
          -0.5864598587428993,
          -0.6273012609942299,
          -0.5519864728048137,
          -0.2743666403372317,
          -0.18108914826612746,
          -0.5562853761864472,
          -0.5519521193719898,
          -0.52361643814107,
          -0.18109799407299282,
          -0.5521707069717503,
          -0.5519419740585039,
          -0.22178313101651068,
          -0.12473269349320622,
          0.08218292426409107,
          -0.1944496126798709,
          -0.5520250743812455,
          -0.32552979461450987,
          -0.3939012227901111,
          -0.5236020415916234,
          -0.44650422232653386,
          -0.2501364438499487,
          -0.19989053279524172,
          -0.5761874362153332,
          -0.5519414167082414,
          -0.5519416327047413,
          -0.25023085039153986,
          -0.08566018474289848,
          -0.062390374323508115,
          -0.5519456867857198,
          -0.482955828703496,
          -0.06238665996082602,
          -0.09111039607578933,
          -0.5526576477561023,
          -0.26187214189310803,
          -0.25013479106676645,
          -0.5556000813207584,
          -0.250126453638632,
          -0.757265695385189,
          -0.5519523124068845,
          -0.38863928698654954,
          -0.18112093914256355,
          -0.052249135839550404,
          -0.04728466691562478,
          -0.3929417063820876,
          -0.18108622912402084,
          -0.4829043273671257,
          -0.25108875627834526,
          -0.26909377990729844,
          -0.18110853136844518,
          -0.5519998943828363,
          -0.22178955874224765,
          -0.5236120961998533,
          -0.250169011385561,
          -0.062393578775591256,
          -0.4081733438784246,
          -0.22178768513136762,
          -0.5532914799181363,
          -0.03225076691692563,
          4.859071561449827,
          -0.1446862127344587,
          0.028086162069541613,
          -0.2269686868266949,
          -0.4829159859072868,
          0.09504804807087329,
          -0.5519466475662391,
          -0.4829088443051445,
          -0.18108424029482045,
          -0.5655178790860899,
          -0.22178194369451695,
          -0.5519519950273433,
          -0.44658926881187366,
          -0.757806541081153,
          -0.5236286604330584,
          -0.5236088419358677,
          -0.558563646080243,
          -0.5236730823540083,
          -0.5519535113429005,
          -0.5519503004795521,
          -0.05222849250172684,
          -0.5519438933692378,
          -0.52376013664355,
          -0.5528380323586318,
          -0.3594642969357227,
          -0.523806224916313,
          -0.5519599366306795,
          -0.552085784976449,
          -0.5236725725770524,
          -0.5519813917729995,
          -0.062380406620925546,
          -0.3020653693426393,
          -0.35407384789316176,
          -0.2537095576877081,
          -0.5520341419342405,
          -0.3590237508560347,
          -0.6272339544796676,
          -0.05258470007976597,
          -0.062382032202846736,
          0.21430842339645817,
          -0.5519598099060131,
          -0.25012172934920035
         ]
        },
        {
         "customdata": [
          [
           "X13"
          ],
          [
           "Scrypt"
          ],
          [
           "CryptoNight"
          ],
          [
           "DPoS"
          ],
          [
           "Scrypt"
          ],
          [
           "VeChainThor Authority"
          ],
          [
           "DPoS"
          ],
          [
           "CryptoNight"
          ],
          [
           "Semux BFT consensus"
          ],
          [
           "Scrypt"
          ],
          [
           "CryptoNight Heavy"
          ],
          [
           "DPoS"
          ],
          [
           "DPoS"
          ],
          [
           "DPoS"
          ],
          [
           "DPoS"
          ],
          [
           "SHA-256"
          ]
         ],
         "hovertemplate": "<b>%{hovertext}</b><br><br>Class=%{marker.color}<br>PC 1=%{x}<br>PC 2=%{y}<br>PC 3=%{z}<br>Algorithm=%{customdata[0]}<extra></extra>",
         "hovertext": [
          "EliteCoin",
          "MoonCoin",
          "ByteCoin",
          "ARK",
          "gCn Coin",
          "Vechain",
          "Lamden Tau",
          "TurtleCoin",
          "Semux",
          "Lynx",
          "Qwertycoin",
          "ALAX",
          "Lisk",
          "EOS",
          "Oxycoin",
          "ZEPHYR"
         ],
         "legendgroup": "4",
         "marker": {
          "color": [
           4,
           4,
           4,
           4,
           4,
           4,
           4,
           4,
           4,
           4,
           4,
           4,
           4,
           4,
           4,
           4
          ],
          "coloraxis": "coloraxis",
          "symbol": "diamond"
         },
         "mode": "markers",
         "name": "4",
         "scene": "scene",
         "showlegend": true,
         "type": "scatter3d",
         "x": [
          2.2900409971527944,
          2.549635233785132,
          3.853923449603082,
          3.769204795791611,
          3.235877230968376,
          4.332590556483327,
          3.7740520551393573,
          8.028479188205743,
          3.951765172731041,
          2.214034447971467,
          3.1473814738183656,
          3.7862714004385234,
          3.7695959081724846,
          3.7794454486623246,
          3.780687270415185,
          2.4893652713071037
         ],
         "y": [
          1.5691935205810092,
          -1.353049259604272,
          -2.3318581683741972,
          2.082747888930138,
          -1.2007859946784425,
          2.0284401276896578,
          2.0826015664159465,
          -2.817252229503137,
          2.1577634520967024,
          0.13819067999674936,
          -2.0769925999427272,
          2.0825576131594175,
          2.0827326821886625,
          2.0831079755131543,
          2.0831405818970032,
          0.8849277227223901
         ],
         "z": [
          -0.6540540504442058,
          -0.009952680666760352,
          0.3540290023647575,
          -0.0029012619542587597,
          -0.04856844112910468,
          3.3922170524086583,
          -0.0029769692402992027,
          0.3467881748210162,
          -0.1313801536246524,
          -0.3680110563080534,
          0.38869294152661116,
          -0.0032202184795115125,
          -0.0029068221678378698,
          -0.0031691364110331883,
          -0.0031998363251623447,
          -0.00852677231298623
         ]
        },
        {
         "customdata": [
          [
           "SHA-256"
          ],
          [
           "Ethash"
          ],
          [
           "Scrypt"
          ],
          [
           "CryptoNight-V7"
          ],
          [
           "Ethash"
          ],
          [
           "Equihash"
          ],
          [
           "Multiple"
          ],
          [
           "Scrypt"
          ],
          [
           "X11"
          ],
          [
           "Scrypt"
          ],
          [
           "Multiple"
          ],
          [
           "SHA-256"
          ],
          [
           "Scrypt"
          ],
          [
           "Scrypt"
          ],
          [
           "Quark"
          ],
          [
           "Groestl"
          ],
          [
           "Scrypt"
          ],
          [
           "Scrypt"
          ],
          [
           "Scrypt"
          ],
          [
           "X11"
          ],
          [
           "Multiple"
          ],
          [
           "SHA-256"
          ],
          [
           "Scrypt"
          ],
          [
           "Scrypt"
          ],
          [
           "Scrypt"
          ],
          [
           "Scrypt"
          ],
          [
           "Scrypt"
          ],
          [
           "NeoScrypt"
          ],
          [
           "Scrypt"
          ],
          [
           "Scrypt"
          ],
          [
           "Scrypt"
          ],
          [
           "Scrypt"
          ],
          [
           "SHA-256"
          ],
          [
           "Scrypt"
          ],
          [
           "Scrypt"
          ],
          [
           "Scrypt"
          ],
          [
           "Scrypt"
          ],
          [
           "HybridScryptHash256"
          ],
          [
           "Scrypt"
          ],
          [
           "Scrypt"
          ],
          [
           "SHA-256"
          ],
          [
           "Scrypt"
          ],
          [
           "Scrypt"
          ],
          [
           "Scrypt"
          ],
          [
           "Scrypt"
          ],
          [
           "SHA-256"
          ],
          [
           "SHA-256"
          ],
          [
           "SHA-256"
          ],
          [
           "SHA-256"
          ],
          [
           "SHA-256"
          ],
          [
           "X11"
          ],
          [
           "Scrypt"
          ],
          [
           "Lyra2REv2"
          ],
          [
           "Scrypt"
          ],
          [
           "SHA-256"
          ],
          [
           "CryptoNight"
          ],
          [
           "Scrypt"
          ],
          [
           "Scrypt"
          ],
          [
           "Scrypt"
          ],
          [
           "Scrypt"
          ],
          [
           "Scrypt"
          ],
          [
           "Scrypt"
          ],
          [
           "Stanford Folding"
          ],
          [
           "Multiple"
          ],
          [
           "QuBit"
          ],
          [
           "Scrypt"
          ],
          [
           "Scrypt"
          ],
          [
           "M7 POW"
          ],
          [
           "Scrypt"
          ],
          [
           "SHA-256"
          ],
          [
           "Scrypt"
          ],
          [
           "X11"
          ],
          [
           "Lyra2RE"
          ],
          [
           "SHA-256"
          ],
          [
           "X11"
          ],
          [
           "Scrypt"
          ],
          [
           "Scrypt"
          ],
          [
           "Ethash"
          ],
          [
           "Blake2b"
          ],
          [
           "X11"
          ],
          [
           "SHA-256"
          ],
          [
           "Scrypt"
          ],
          [
           "1GB AES Pattern Search"
          ],
          [
           "Scrypt"
          ],
          [
           "SHA-256"
          ],
          [
           "X11"
          ],
          [
           "Dagger"
          ],
          [
           "Scrypt"
          ],
          [
           "X11GOST"
          ],
          [
           "Scrypt"
          ],
          [
           "X11"
          ],
          [
           "Scrypt"
          ],
          [
           "X11"
          ],
          [
           "Equihash"
          ],
          [
           "CryptoNight"
          ],
          [
           "SHA-256"
          ],
          [
           "Multiple"
          ],
          [
           "Scrypt"
          ],
          [
           "SHA-256"
          ],
          [
           "Scrypt"
          ],
          [
           "Lyra2Z"
          ],
          [
           "Ethash"
          ],
          [
           "Equihash"
          ],
          [
           "Scrypt"
          ],
          [
           "X11"
          ],
          [
           "X11"
          ],
          [
           "CryptoNight"
          ],
          [
           "Scrypt"
          ],
          [
           "CryptoNight"
          ],
          [
           "Lyra2RE"
          ],
          [
           "X11"
          ],
          [
           "CryptoNight-V7"
          ],
          [
           "Scrypt"
          ],
          [
           "X11"
          ],
          [
           "Equihash"
          ],
          [
           "Scrypt"
          ],
          [
           "Lyra2RE"
          ],
          [
           "Dagger-Hashimoto"
          ],
          [
           "Scrypt"
          ],
          [
           "NIST5"
          ],
          [
           "Scrypt"
          ],
          [
           "SHA-256"
          ],
          [
           "Scrypt"
          ],
          [
           "CryptoNight-V7"
          ],
          [
           "Argon2d"
          ],
          [
           "Blake2b"
          ],
          [
           "Cloverhash"
          ],
          [
           "CryptoNight"
          ],
          [
           "X11"
          ],
          [
           "Scrypt"
          ],
          [
           "Scrypt"
          ],
          [
           "X11"
          ],
          [
           "X11"
          ],
          [
           "CryptoNight"
          ],
          [
           "Time Travel"
          ],
          [
           "Keccak"
          ],
          [
           "X11"
          ],
          [
           "SHA-256"
          ],
          [
           "Scrypt"
          ],
          [
           "Scrypt"
          ],
          [
           "Scrypt"
          ],
          [
           "Scrypt"
          ],
          [
           "Scrypt"
          ],
          [
           "Scrypt"
          ],
          [
           "CryptoNight"
          ],
          [
           "Equihash"
          ],
          [
           "X11"
          ],
          [
           "NeoScrypt"
          ],
          [
           "Equihash"
          ],
          [
           "Dagger"
          ],
          [
           "Scrypt"
          ],
          [
           "X11"
          ],
          [
           "NeoScrypt"
          ],
          [
           "Ethash"
          ],
          [
           "NeoScrypt"
          ],
          [
           "Multiple"
          ],
          [
           "CryptoNight"
          ],
          [
           "CryptoNight"
          ],
          [
           "Ethash"
          ],
          [
           "X11"
          ],
          [
           "CryptoNight-V7"
          ],
          [
           "Scrypt"
          ],
          [
           "BLAKE256"
          ],
          [
           "X11"
          ],
          [
           "NeoScrypt"
          ],
          [
           "NeoScrypt"
          ],
          [
           "Scrypt"
          ],
          [
           "X11"
          ],
          [
           "SHA-256"
          ],
          [
           "C11"
          ],
          [
           "SkunkHash"
          ],
          [
           "CryptoNight"
          ],
          [
           "Scrypt"
          ],
          [
           "Dagger"
          ],
          [
           "Lyra2REv2"
          ],
          [
           "Scrypt"
          ],
          [
           "Scrypt"
          ],
          [
           "X11"
          ],
          [
           "Ethash"
          ],
          [
           "CryptoNight"
          ],
          [
           "Scrypt"
          ],
          [
           "IMesh"
          ],
          [
           "Equihash"
          ],
          [
           "Lyra2Z"
          ],
          [
           "X11"
          ],
          [
           "CryptoNight"
          ],
          [
           "NIST5"
          ],
          [
           "Lyra2RE"
          ],
          [
           "Tribus"
          ],
          [
           "Lyra2Z"
          ],
          [
           "CryptoNight"
          ],
          [
           "CryptoNight Heavy"
          ],
          [
           "CryptoNight"
          ],
          [
           "Jump Consistent Hash"
          ],
          [
           "CryptoNight"
          ],
          [
           "X16R"
          ],
          [
           "HMQ1725"
          ],
          [
           "X11"
          ],
          [
           "Scrypt"
          ],
          [
           "CryptoNight-V7"
          ],
          [
           "Cryptonight-GPU"
          ],
          [
           "XEVAN"
          ],
          [
           "SHA-256"
          ],
          [
           "X11"
          ],
          [
           "X16R"
          ],
          [
           "Equihash"
          ],
          [
           "Lyra2Z"
          ],
          [
           "SHA-256"
          ],
          [
           "CryptoNight"
          ],
          [
           "Blake"
          ],
          [
           "Blake"
          ],
          [
           "Exosis"
          ],
          [
           "Scrypt"
          ],
          [
           "Equihash"
          ],
          [
           "Equihash"
          ],
          [
           "QuBit"
          ],
          [
           "SHA-256"
          ],
          [
           "X13"
          ],
          [
           "SHA-256"
          ],
          [
           "Scrypt"
          ],
          [
           "NeoScrypt"
          ],
          [
           "Blake"
          ],
          [
           "Scrypt"
          ],
          [
           "SHA-256"
          ],
          [
           "Scrypt"
          ],
          [
           "Groestl"
          ],
          [
           "Scrypt"
          ],
          [
           "Scrypt"
          ],
          [
           "Multiple"
          ],
          [
           "Equihash+Scrypt"
          ],
          [
           "Ethash"
          ],
          [
           "CryptoNight"
          ],
          [
           "Equihash"
          ]
         ],
         "hovertemplate": "<b>%{hovertext}</b><br><br>Class=%{marker.color}<br>PC 1=%{x}<br>PC 2=%{y}<br>PC 3=%{z}<br>Algorithm=%{customdata[0]}<extra></extra>",
         "hovertext": [
          "Bitcoin",
          "Ethereum",
          "Litecoin",
          "Monero",
          "Ethereum Classic",
          "ZCash",
          "DigiByte",
          "ProsperCoin",
          "Spreadcoin",
          "Argentum",
          "MyriadCoin",
          "ZetaCoin",
          "SexCoin",
          "Quatloo",
          "QuarkCoin",
          "Riecoin",
          "Digitalcoin ",
          "Catcoin",
          "CannaCoin",
          "CryptCoin",
          "Verge",
          "DevCoin",
          "EarthCoin",
          "E-Gulden",
          "Einsteinium",
          "Emerald",
          "Franko",
          "FeatherCoin",
          "GrandCoin",
          "GlobalCoin",
          "GoldCoin",
          "Infinite Coin",
          "IXcoin",
          "KrugerCoin",
          "LuckyCoin",
          "Litebar ",
          "MegaCoin",
          "MediterraneanCoin",
          "MinCoin",
          "NobleCoin",
          "Namecoin",
          "NyanCoin",
          "RonPaulCoin",
          "StableCoin",
          "SmartCoin",
          "SysCoin",
          "TigerCoin",
          "TerraCoin",
          "UnbreakableCoin",
          "Unobtanium",
          "UroCoin",
          "ViaCoin",
          "Vertcoin",
          "WorldCoin",
          "JouleCoin",
          "DigitalNote ",
          "MonaCoin",
          "Gulden",
          "PesetaCoin",
          "Wild Beast Coin",
          "Flo",
          "ArtByte",
          "Folding Coin",
          "Unitus",
          "CypherPunkCoin",
          "OmniCron",
          "GreenCoin",
          "Cryptonite",
          "MasterCoin",
          "SoonCoin",
          "1Credit",
          "MarsCoin ",
          "Crypto",
          "Anarchists Prime",
          "BowsCoin",
          "Song Coin",
          "BitZeny",
          "Expanse",
          "Siacoin",
          "MindCoin",
          "I0coin",
          "Revolution VR",
          "HOdlcoin",
          "Gamecredits",
          "CarpeDiemCoin",
          "Adzcoin",
          "SoilCoin",
          "YoCoin",
          "SibCoin",
          "Francs",
          "BolivarCoin",
          "Omni",
          "PizzaCoin",
          "Komodo",
          "Karbo",
          "ZayedCoin",
          "Circuits of Value",
          "DopeCoin",
          "DollarCoin",
          "Shilling",
          "ZCoin",
          "Elementrem",
          "ZClassic",
          "KiloCoin",
          "ArtexCoin",
          "Kurrent",
          "Cannabis Industry Coin",
          "OsmiumCoin",
          "Bikercoins",
          "HexxCoin",
          "PacCoin",
          "Citadel",
          "BeaverCoin",
          "VaultCoin",
          "Zero",
          "Canada eCoin",
          "Zoin",
          "DubaiCoin",
          "EB3coin",
          "Coinonat",
          "BenjiRolls",
          "ILCoin",
          "EquiTrader",
          "Quantum Resistant Ledger",
          "Dynamic",
          "Nano",
          "ChanCoin",
          "Dinastycoin",
          "DigitalPrice",
          "Unify",
          "SocialCoin",
          "ArcticCoin",
          "DAS",
          "LeviarCoin",
          "Bitcore",
          "SmartCash",
          "Onix",
          "Bitcoin Cash",
          "Sojourn Coin",
          "NewYorkCoin",
          "FrazCoin",
          "Kronecoin",
          "AdCoin",
          "Linx",
          "Sumokoin",
          "BitcoinZ",
          "Elements",
          "VIVO Coin",
          "Bitcoin Gold",
          "Pirl",
          "eBoost",
          "Pura",
          "Innova",
          "Ellaism",
          "GoByte",
          "SHIELD",
          "UltraNote",
          "BitCoal",
          "DaxxCoin",
          "AC3",
          "Lethean",
          "PopularCoin",
          "Photon",
          "Sucre",
          "SparksPay",
          "GunCoin",
          "IrishCoin",
          "Pioneer Coin",
          "UnitedBitcoin",
          "Interzone",
          "MUNcoin",
          "Niobio Cash",
          "ShareChain",
          "Travelflex",
          "KREDS",
          "BitFlip",
          "LottoCoin",
          "Crypto Improvement Fund",
          "Callisto Network",
          "BitTube",
          "Poseidon",
          "Aidos Kuneen",
          "Bitrolium",
          "Alpenschillling",
          "FuturoCoin",
          "Monero Classic",
          "Jumpcoin",
          "Infinex",
          "KEYCO",
          "GINcoin",
          "PlatinCoin",
          "Loki",
          "Newton Coin",
          "MassGrid",
          "PluraCoin",
          "Motion",
          "PlusOneCoin",
          "Axe",
          "HexCoin",
          "Webchain",
          "Ryo",
          "Urals Coin",
          "Project Pai",
          "Azart",
          "Xchange",
          "CrypticCoin",
          "Actinium",
          "Bitcoin SV",
          "FREDEnergy",
          "Universal Molecule",
          "Lithium",
          "Exosis",
          "Block-Logic",
          "Beam",
          "Bithereum",
          "SLICE",
          "BLAST",
          "Bitcoin Rhodium",
          "GlobalToken",
          "SolarCoin",
          "UFO Coin",
          "BlakeCoin",
          "Crypto Escudo",
          "Crown Coin",
          "SmileyCoin",
          "Groestlcoin",
          "Bata",
          "Pakcoin",
          "JoinCoin",
          "Vollar",
          "Reality Clash",
          "Beldex",
          "Horizen"
         ],
         "legendgroup": "1",
         "marker": {
          "color": [
           1,
           1,
           1,
           1,
           1,
           1,
           1,
           1,
           1,
           1,
           1,
           1,
           1,
           1,
           1,
           1,
           1,
           1,
           1,
           1,
           1,
           1,
           1,
           1,
           1,
           1,
           1,
           1,
           1,
           1,
           1,
           1,
           1,
           1,
           1,
           1,
           1,
           1,
           1,
           1,
           1,
           1,
           1,
           1,
           1,
           1,
           1,
           1,
           1,
           1,
           1,
           1,
           1,
           1,
           1,
           1,
           1,
           1,
           1,
           1,
           1,
           1,
           1,
           1,
           1,
           1,
           1,
           1,
           1,
           1,
           1,
           1,
           1,
           1,
           1,
           1,
           1,
           1,
           1,
           1,
           1,
           1,
           1,
           1,
           1,
           1,
           1,
           1,
           1,
           1,
           1,
           1,
           1,
           1,
           1,
           1,
           1,
           1,
           1,
           1,
           1,
           1,
           1,
           1,
           1,
           1,
           1,
           1,
           1,
           1,
           1,
           1,
           1,
           1,
           1,
           1,
           1,
           1,
           1,
           1,
           1,
           1,
           1,
           1,
           1,
           1,
           1,
           1,
           1,
           1,
           1,
           1,
           1,
           1,
           1,
           1,
           1,
           1,
           1,
           1,
           1,
           1,
           1,
           1,
           1,
           1,
           1,
           1,
           1,
           1,
           1,
           1,
           1,
           1,
           1,
           1,
           1,
           1,
           1,
           1,
           1,
           1,
           1,
           1,
           1,
           1,
           1,
           1,
           1,
           1,
           1,
           1,
           1,
           1,
           1,
           1,
           1,
           1,
           1,
           1,
           1,
           1,
           1,
           1,
           1,
           1,
           1,
           1,
           1,
           1,
           1,
           1,
           1,
           1,
           1,
           1,
           1,
           1,
           1,
           1,
           1,
           1,
           1,
           1,
           1,
           1,
           1,
           1,
           1,
           1,
           1,
           1,
           1,
           1,
           1,
           1,
           1,
           1,
           1,
           1,
           1,
           1,
           1,
           1,
           1,
           1,
           1,
           1,
           1,
           1,
           1,
           1,
           1
          ],
          "coloraxis": "coloraxis",
          "symbol": "square"
         },
         "mode": "markers",
         "name": "1",
         "scene": "scene",
         "showlegend": true,
         "type": "scatter3d",
         "x": [
          -0.1435613312540197,
          -0.1337788776945907,
          -0.16636770225060815,
          -0.12930212667208654,
          -0.13222361064530733,
          -0.1378414898270524,
          0.1670732905047387,
          -0.1675118886884629,
          -0.2185799705097141,
          -0.16712910083813837,
          -0.0858817369058013,
          -0.14065149666911245,
          -0.16438939428605756,
          -0.16693346486553295,
          -0.2246251598421201,
          -0.20196364013271909,
          -0.16698218087522074,
          -0.1674941871367248,
          -0.1675804895669489,
          -0.21866915079582913,
          0.19077616137242476,
          0.23360806316159632,
          0.08070380817907533,
          -0.16732724328233756,
          -0.1629404106092212,
          -0.16726664080120082,
          -0.16763738955127175,
          -0.16452486896404747,
          -0.14689679180620627,
          -0.16643465995484008,
          -0.16671159877075103,
          1.5781331022294813,
          -0.1435227713284401,
          -0.16400582003581984,
          -0.1673536371876777,
          -0.1677078143580993,
          -0.16696839216698892,
          -0.16903815715399026,
          -0.16758929219738858,
          -0.032731628369939814,
          -0.14360023994360493,
          -0.1612645782678114,
          -0.1675687639193541,
          -0.16566643276586682,
          -0.16705642555485206,
          -0.13077524154474449,
          -0.14306497142428987,
          -0.14335165445512157,
          -0.14333464535100574,
          -0.14392432425266055,
          -0.21884273909228083,
          -0.16728577046725898,
          -0.17006288561653013,
          -0.16439408942331069,
          -0.14313214447316652,
          0.45899608093327754,
          -0.1661553811716121,
          -0.15078140290306116,
          -0.16487650125558811,
          -0.1677100187840683,
          -0.16474179165656144,
          -0.1509900665482068,
          -0.10269672209072869,
          -0.11982745880656788,
          -0.1651270827374179,
          -0.1675833280167751,
          -0.040747051048926425,
          -0.09367694704385714,
          -0.16771889639456466,
          -0.14362796668717195,
          0.48330586175127155,
          -0.2182310238145288,
          -0.13715607927430423,
          -0.1433682829545437,
          -0.2185154096971854,
          -0.16584597104268098,
          -0.1650396633698259,
          -0.13484437355631518,
          0.379059022285745,
          -0.21855074502903363,
          -0.14352389162816104,
          -0.16368400957591467,
          -0.16242025084999878,
          -0.16628482057217656,
          0.27420906926188454,
          -0.21771295669441654,
          -0.14359219222264544,
          -0.16653173938327154,
          -0.19964195584262354,
          -0.16750917941078866,
          -0.2185140498157783,
          -0.16771895478446128,
          -0.21866374683693734,
          -0.23659064063751983,
          0.3041777418316428,
          -0.14378350863424313,
          -0.09993557033768162,
          -0.16489071467878874,
          -0.14374221331996753,
          -0.16738295103263912,
          -0.13891772374137276,
          -0.13458699562864385,
          -0.13786306739657747,
          -0.0945724119905584,
          -0.20527127017235786,
          -0.21649573524858978,
          0.30417212298911855,
          -0.16770072466899738,
          0.30430260271245774,
          -0.1376955720322229,
          0.4953379752917885,
          -0.12806897056772049,
          -0.1676690693235701,
          -0.21141046215539155,
          -0.1378754221186795,
          -0.16580568430197828,
          -0.1374144595912251,
          -0.15751131256864773,
          -0.13864334269750692,
          -0.18864007282794654,
          -0.16723222574831556,
          -0.11016858834855826,
          -0.1670545928222663,
          -0.12792701627766398,
          -0.1724406663914338,
          -0.0205126945153307,
          -0.14806987684478365,
          0.34022939508409505,
          -0.21772132492313628,
          -0.16737330399138614,
          -0.16713708208048264,
          -0.2181153090395736,
          -0.21869173202918943,
          0.3045664097280629,
          -0.15357170607812,
          -0.12348393407574078,
          -0.2095798571371515,
          -0.14356049699768408,
          -0.09342193895630789,
          1.5761094935889455,
          -0.16747097237881106,
          -0.16692357718117354,
          -0.1666250885709681,
          -0.16661204336435773,
          0.3047497058825614,
          0.07407613096995704,
          -0.1731608644655195,
          -0.169205234888403,
          -0.13772175205678583,
          -0.14235347607330928,
          -0.16580389672734727,
          -0.21424409221791144,
          -0.16905091799131455,
          -0.13295502649229937,
          -0.16915094827309307,
          -0.1100767054386356,
          1.1406367126946595,
          0.30415491887744905,
          -0.05797543430618402,
          -0.2139860150271014,
          -0.11705841657230606,
          -0.0840085222599455,
          1.077548521693699,
          -0.2186657775635521,
          -0.16920280169728752,
          -0.16225309105660352,
          -0.16672331404902202,
          -0.21859131925689862,
          -0.14353993253530364,
          -0.19772403965772387,
          -0.13126995607805725,
          0.3080224731548141,
          0.02497509575663897,
          -0.14185763343446336,
          -0.15564668250568417,
          -0.16729600591497498,
          0.13923083474846465,
          -0.21274263559038248,
          -0.08607549436301962,
          0.31206419157936083,
          -0.16753259549547939,
          -0.10832463187167833,
          -0.1367146552925887,
          -0.13670511324252474,
          -0.21776202296325015,
          0.3043371080832669,
          -0.18869944229261146,
          -0.13754108314477995,
          -0.14442368426962907,
          -0.13900195284213693,
          0.308258505525185,
          0.6293168613754906,
          2.1096331148557086,
          -0.1365188623631988,
          0.31791781822015475,
          -0.16908478951581052,
          -0.12526670870153436,
          -0.21864796960737148,
          -0.16755713182335627,
          -0.11693806292230104,
          -0.18150554344515332,
          -0.06788043580520331,
          -0.10346029804294145,
          -0.2186193850669858,
          -0.1685135095555827,
          -0.03265546920538271,
          -0.13840076000031248,
          -0.14356053449459932,
          0.3839565894362596,
          -0.15120680325891775,
          -0.15159816022688713,
          -0.15246281630353967,
          -0.16645139117215088,
          -0.13578525038679928,
          -0.13755486997715877,
          -0.1643394357413206,
          -0.1428379717098378,
          -0.11390682954584262,
          -0.141707913461253,
          0.5271488454242492,
          -0.09450253985037858,
          -0.10214979357838198,
          -0.1511403779639619,
          -0.143351026054553,
          0.5468435544817888,
          -0.2015254285022221,
          -0.16763384026490386,
          -0.1655931752790121,
          -0.12056100196944272,
          -0.16177764607019704,
          -0.13462009470163513,
          0.3258731793215667,
          -0.13784254484697336
         ],
         "y": [
          -1.3290543872085905,
          -1.9080177608015512,
          -1.1442615384914328,
          -2.0980204964244895,
          -1.9081301383549834,
          -1.9214812100495813,
          -1.8359713198205676,
          -1.144245617063744,
          -0.8381281678230521,
          -1.144266938641387,
          -1.82875091105913,
          -1.329086543856871,
          -1.1443307063149748,
          -1.1442880671117164,
          -0.4370547795918372,
          -1.2871785161897895,
          -1.1442515286408534,
          -1.144245152275952,
          -1.1442416837272824,
          -0.838129050239184,
          -1.8321059255565435,
          -1.3344571722374527,
          -1.1475623959228554,
          -1.144240768848633,
          -1.1443289886142263,
          -1.144247203112835,
          -1.144241788467177,
          -1.516581649483337,
          -1.1447254707171883,
          -1.1442530823236965,
          -1.1442619923189488,
          -1.1644959911370432,
          -1.329053374744647,
          -1.1443318857175935,
          -1.144240732279988,
          -1.1442364250071762,
          -1.144246667936202,
          -2.307166602907214,
          -1.1442396239423707,
          -1.1516352442962967,
          -1.329055408829971,
          -1.1443121327347114,
          -1.1442471104307321,
          -1.1443642373807406,
          -1.1442556916536877,
          -1.3293512192869632,
          -1.329060332429239,
          -1.32906420315057,
          -1.329091480989208,
          -1.3290487792716692,
          -0.8381204754971263,
          -1.1442411390825766,
          -1.1705407882935386,
          -1.1443420804662816,
          -1.329060628271904,
          -2.2937086066940573,
          -1.144271372553721,
          -1.1450167173460983,
          -1.1442824922386523,
          -1.1442374153054153,
          -1.144274296016878,
          -1.1445260745599124,
          -2.153854728292336,
          -1.828183039016969,
          -1.4447852728432407,
          -1.1442346311309217,
          -1.1481977511339272,
          -1.9260970439313394,
          -1.1442361830050234,
          -1.3290561368481766,
          -1.194264182371451,
          -0.8381284902447024,
          -2.1663494762848012,
          -1.3290732197494468,
          -0.8381272022472068,
          -1.144339942974033,
          -1.144347780362279,
          -1.908058072164191,
          -2.0240339615719045,
          -0.8381244820900415,
          -1.32905340416024,
          -1.1442830014762182,
          -2.210057758463966,
          -1.1442593622758777,
          -1.333848043903469,
          -0.8381520965339543,
          -2.180735714417104,
          -1.1443273875175213,
          -2.6152436166075224,
          -1.144244816335869,
          -0.8381300849035646,
          -1.1442361823275011,
          -0.8381340154825887,
          -1.0492190418767566,
          -2.290485044979711,
          -1.3290520027876656,
          -1.8285362485689578,
          -1.14430738989931,
          -1.3290515768091078,
          -1.144248797877103,
          -2.1320015162882386,
          -1.9080580987859774,
          -1.9214817766095653,
          -1.149611038005179,
          -0.8381289261851995,
          -0.8382251971321729,
          -2.29049321801028,
          -1.144237234224268,
          -2.290492710380456,
          -2.166322938482942,
          -0.8923273727364657,
          -2.0981230918449167,
          -1.1442368741600755,
          -0.8386549176345514,
          -1.92147918264359,
          -1.1442584550954429,
          -2.166323582840927,
          -2.432719703544349,
          -1.1463906598896956,
          -0.6546559578338785,
          -1.1442488679313352,
          -1.329986252686316,
          -1.1442708190174524,
          -2.09806099731354,
          -2.4088238839771345,
          -2.034773741173533,
          -2.311815297433454,
          -2.2909903258961304,
          -0.838163989708147,
          -1.1442407210292342,
          -1.1442751737012422,
          -0.8381451508816586,
          -0.8381302997838561,
          -2.2905069417562536,
          -2.2256831822847465,
          -1.3045169556922875,
          -0.8386798106956399,
          -1.3290543653035976,
          -1.1499456254827873,
          -1.0984482114361747,
          -1.1442438131378272,
          -1.1442761340413359,
          -1.1442799701076112,
          -1.144279627580986,
          -2.290527583574964,
          -1.931222993610382,
          -0.838234274473865,
          -1.5164790978492464,
          -1.9214780661074724,
          -2.180795341788663,
          -1.1442584081592826,
          -0.8382550860366356,
          -1.516488178598421,
          -1.9082004144102376,
          -1.5164811744864135,
          -1.828408544338451,
          -2.3305301390930557,
          -2.2904874682162704,
          -1.9133233042729727,
          -0.8383942278619199,
          -2.098428226983627,
          -1.1456857097798339,
          -1.455414472668663,
          -0.8381302749317571,
          -1.5164746564172693,
          -1.5166416525159752,
          -1.1442562839401174,
          -0.8381306545778859,
          -1.3290532168660536,
          -1.2665231300223998,
          -2.180595042489009,
          -2.2906219408252464,
          -1.1464720916008402,
          -2.1807412416343452,
          -1.170903527662531,
          -1.1442538108747988,
          -1.1496057445466934,
          -0.8383251010453562,
          -1.9115075573161924,
          -2.2910002660426017,
          -1.14424616076021,
          -1.8763330968952296,
          -1.9214873728152089,
          -2.132146683962446,
          -0.8381650583123285,
          -2.29048698907822,
          -0.6546376338871597,
          -2.1663307598209864,
          -2.1155570921168185,
          -2.131995775344782,
          -2.290808355658949,
          -2.0086310094344553,
          -2.3773167768208046,
          -2.2591319927453752,
          -2.2908465679802767,
          -1.131409288584867,
          -2.0230219630740276,
          -0.8381306828589009,
          -1.1442476113975608,
          -2.0989726381430778,
          -2.4412358294504966,
          -0.5145238625530645,
          -1.329518277547387,
          -0.8381328506802359,
          -1.1314511413878265,
          -1.924248919287699,
          -2.1320336148004024,
          -1.32905436628815,
          -2.294278096713555,
          -2.22270644239978,
          -2.2226584303447243,
          -2.128365113089601,
          -1.1442900011662904,
          -1.921603634606194,
          -1.921480897035386,
          -1.4448375507440074,
          -1.3290667664308855,
          -0.37689348190609023,
          -1.3291129720378385,
          -1.197563504733901,
          -1.5174163006747206,
          -2.2264487976459506,
          -1.1445300212710312,
          -1.329064186650722,
          -1.1619530722927551,
          -1.287182331516615,
          -1.1442371456830425,
          -1.1443127017020036,
          -1.8282043424368923,
          -2.4833207029601496,
          -1.9080577147236117,
          -2.2909296835724398,
          -1.9214812377511277
         ],
         "z": [
          0.209930133937326,
          0.3443137489873089,
          0.01201725838982574,
          0.4305939354251255,
          0.3443000102282521,
          0.35721740261559237,
          0.3518360023442558,
          0.01203813158103487,
          0.040377600338845965,
          0.012033728100575061,
          0.35585380339094075,
          0.2098757062663985,
          0.011987884007266775,
          0.012033127659800115,
          0.08098742249327999,
          0.19897239792311844,
          0.012028232855346958,
          0.012037693969020812,
          0.012038902647883433,
          0.04037956969113103,
          0.3507269983200463,
          0.20307440842928032,
          0.0074878557988444895,
          0.012033566837262677,
          0.011957921627239944,
          0.012033362978245728,
          0.012040085251048164,
          0.20487994655882516,
          0.011693179567272905,
          0.012017266359925793,
          0.012024376995950875,
          -0.020458987373425035,
          0.20992918067136435,
          0.011980215926858185,
          0.012034101671925219,
          0.01204066303733557,
          0.01202716644130629,
          0.4294155315479323,
          0.012038750789605108,
          0.010468670168641331,
          0.20993109582531275,
          0.011920870340202751,
          0.012039537632024346,
          0.012019454537884323,
          0.012030425309567163,
          0.20971605757723075,
          0.20992092383829322,
          0.20992742138037818,
          0.20993147222883207,
          0.2099366661442973,
          0.0403817430805217,
          0.012032776893585014,
          0.29487507160443094,
          0.011989814596576524,
          0.2099223477265681,
          0.4174282523751142,
          0.012014494581879991,
          0.011819735322661347,
          0.011990087507851506,
          0.012040867912730293,
          0.011986005840097111,
          0.011744880349069797,
          0.3910141213852976,
          0.35645766471529367,
          0.2649128163490556,
          0.012037823370876857,
          0.01007849037130263,
          0.3557964888398278,
          0.012040851045587211,
          0.2099317812768638,
          0.006771709805868946,
          0.04037050346159015,
          0.36073538077022116,
          0.2099292162274243,
          0.04037612195429762,
          0.012019214589126661,
          0.01200395974840024,
          0.3443420791532513,
          0.2748172659428162,
          0.04037640716842345,
          0.20992920836705037,
          0.011965739039723026,
          0.5002444215891797,
          0.012015209415890708,
          0.20214437596331672,
          0.040363696986108775,
          0.4037868565132525,
          0.012031239018103159,
          0.619392395200825,
          0.012037946936257343,
          0.04037655900333038,
          0.01204085213255247,
          0.04038025976447782,
          0.24192370020616075,
          0.4200801288026107,
          0.20993430113446854,
          0.3561071041816335,
          0.011994394142486512,
          0.2099333864157224,
          0.012036003028229623,
          0.40934998182586013,
          0.34433681054086257,
          0.35721793604925695,
          0.01140914346631871,
          0.04010506708021771,
          0.04035054926563384,
          0.42008156204565367,
          0.012040648299641158,
          0.4200788070358822,
          0.3607421534047194,
          0.03449268884921275,
          0.43058521811588313,
          0.012039941705631938,
          0.040315671638306426,
          0.35721777081110573,
          0.012005247034921139,
          0.36073649817019654,
          0.5387306764778701,
          0.011792649335687052,
          -0.012204168124086765,
          0.012032926415019999,
          0.20939630562274175,
          0.012032827472759114,
          0.4305722954164352,
          0.5616694068765731,
          0.28473538814604044,
          0.43598759848182705,
          0.4194230286582716,
          0.04036578653305877,
          0.012034502771561992,
          0.01203521974609939,
          0.04037081980465849,
          0.04038023383725492,
          0.420075697624455,
          0.4670046116578752,
          0.15486914123471435,
          0.040282182704960645,
          0.20993011331310915,
          0.011439535292951719,
          -0.031069581047304645,
          0.012037002394419242,
          0.012031000549361221,
          0.012025504081181878,
          0.012025181581820052,
          0.4200752715035577,
          0.35444697779435425,
          0.039464211020481234,
          0.20495929397490206,
          0.3572144424973145,
          0.40377109549587614,
          0.0120052028430815,
          0.04030924023894996,
          0.20495759700678856,
          0.3443263287359525,
          0.20495851671992124,
          0.35629426990737173,
          0.4094019711297862,
          0.42008098719151,
          0.3436164298228485,
          0.04032639351740313,
          0.4304088562862241,
          0.010559651940550556,
          0.22353416037171348,
          0.040379698099588766,
          0.20495852782097254,
          0.2048430817738381,
          0.012023696371341574,
          0.04037823389957312,
          0.20992950679095748,
          0.17008043030210213,
          0.5185757213023019,
          0.4200234400110083,
          0.008453728799285172,
          0.403752211996774,
          0.29463822847748206,
          0.012035030268211547,
          0.00661835873356191,
          0.04028977174997869,
          0.34389927625108874,
          0.4200016527786969,
          0.012038643487994091,
          0.3818102660114147,
          0.35719531105598057,
          0.40932806438448033,
          0.040366792656791016,
          0.4200771774038036,
          -0.012205907069676966,
          0.36074024979777486,
          0.3366861944675018,
          0.40935078154118476,
          0.4200486690165732,
          0.4292553551579683,
          0.3970957793142523,
          0.515406276126093,
          0.4198569413216738,
          0.1710525015346597,
          0.40840098616058745,
          0.040379399057352466,
          0.012039380119989495,
          0.4304941921218779,
          0.5232100914611808,
          0.11746493062700199,
          0.20918339869020058,
          0.040379163067206215,
          0.17104754764740018,
          0.3555088253655566,
          0.409344567563737,
          0.20993011424009564,
          0.41905743387903244,
          0.45844030661210994,
          0.45844058106239466,
          0.3463205243784543,
          0.0120235633283876,
          0.357195020787015,
          0.357211480147654,
          0.2649051110852638,
          0.20991731095403834,
          -0.06325231501093972,
          0.20990161137802954,
          0.006405605858536263,
          0.20358000877871862,
          0.4580388342680935,
          0.011748596299081161,
          0.20992740584526348,
          0.0002589420162320925,
          0.19896403560227652,
          0.012039263757990632,
          0.012009642141235559,
          0.35647612859847555,
          0.4015809547502242,
          0.3443374267013271,
          0.419707364419542,
          0.3572174286974497
         ]
        },
        {
         "customdata": [
          [
           "Proof-of-BibleHash"
          ],
          [
           "SHA-256 + Hive"
          ],
          [
           "Proof-of-Authority"
          ],
          [
           "Leased POS"
          ]
         ],
         "hovertemplate": "<b>%{hovertext}</b><br><br>Class=%{marker.color}<br>PC 1=%{x}<br>PC 2=%{y}<br>PC 3=%{z}<br>Algorithm=%{customdata[0]}<extra></extra>",
         "hovertext": [
          "BiblePay",
          "LitecoinCash",
          "Poa Network",
          "Waves"
         ],
         "legendgroup": "3",
         "marker": {
          "color": [
           3,
           3,
           3,
           3
          ],
          "coloraxis": "coloraxis",
          "symbol": "x"
         },
         "mode": "markers",
         "name": "3",
         "scene": "scene",
         "showlegend": true,
         "type": "scatter3d",
         "x": [
          -0.23170149659964692,
          -0.2519340058241879,
          -0.3718114107313702,
          -0.5007612371766499
         ],
         "y": [
          2.9034064591333792,
          5.577289475303652,
          3.385345470317351,
          2.2363969272424815
         ],
         "z": [
          16.198320864451677,
          7.810957280553576,
          17.755288926919015,
          17.938331401039008
         ]
        },
        {
         "customdata": [
          [
           "TRC10"
          ]
         ],
         "hovertemplate": "<b>%{hovertext}</b><br><br>Class=%{marker.color}<br>PC 1=%{x}<br>PC 2=%{y}<br>PC 3=%{z}<br>Algorithm=%{customdata[0]}<extra></extra>",
         "hovertext": [
          "BitTorrent"
         ],
         "legendgroup": "2",
         "marker": {
          "color": [
           2
          ],
          "coloraxis": "coloraxis",
          "symbol": "cross"
         },
         "mode": "markers",
         "name": "2",
         "scene": "scene",
         "showlegend": true,
         "type": "scatter3d",
         "x": [
          34.028848549540136
         ],
         "y": [
          1.651402246240317
         ],
         "z": [
          -0.7389525599171739
         ]
        }
       ],
       "layout": {
        "autosize": true,
        "coloraxis": {
         "colorbar": {
          "title": {
           "text": "Class"
          }
         },
         "colorscale": [
          [
           0,
           "#0d0887"
          ],
          [
           0.1111111111111111,
           "#46039f"
          ],
          [
           0.2222222222222222,
           "#7201a8"
          ],
          [
           0.3333333333333333,
           "#9c179e"
          ],
          [
           0.4444444444444444,
           "#bd3786"
          ],
          [
           0.5555555555555556,
           "#d8576b"
          ],
          [
           0.6666666666666666,
           "#ed7953"
          ],
          [
           0.7777777777777778,
           "#fb9f3a"
          ],
          [
           0.8888888888888888,
           "#fdca26"
          ],
          [
           1,
           "#f0f921"
          ]
         ]
        },
        "legend": {
         "title": {
          "text": "Class"
         },
         "tracegroupgap": 0,
         "x": 0,
         "y": 1
        },
        "margin": {
         "t": 60
        },
        "scene": {
         "aspectmode": "auto",
         "aspectratio": {
          "x": 1,
          "y": 1,
          "z": 1
         },
         "domain": {
          "x": [
           0,
           1
          ],
          "y": [
           0,
           1
          ]
         },
         "xaxis": {
          "title": {
           "text": "PC 1"
          },
          "type": "linear"
         },
         "yaxis": {
          "title": {
           "text": "PC 2"
          },
          "type": "linear"
         },
         "zaxis": {
          "title": {
           "text": "PC 3"
          },
          "type": "linear"
         }
        },
        "template": {
         "data": {
          "bar": [
           {
            "error_x": {
             "color": "#2a3f5f"
            },
            "error_y": {
             "color": "#2a3f5f"
            },
            "marker": {
             "line": {
              "color": "#E5ECF6",
              "width": 0.5
             },
             "pattern": {
              "fillmode": "overlay",
              "size": 10,
              "solidity": 0.2
             }
            },
            "type": "bar"
           }
          ],
          "barpolar": [
           {
            "marker": {
             "line": {
              "color": "#E5ECF6",
              "width": 0.5
             },
             "pattern": {
              "fillmode": "overlay",
              "size": 10,
              "solidity": 0.2
             }
            },
            "type": "barpolar"
           }
          ],
          "carpet": [
           {
            "aaxis": {
             "endlinecolor": "#2a3f5f",
             "gridcolor": "white",
             "linecolor": "white",
             "minorgridcolor": "white",
             "startlinecolor": "#2a3f5f"
            },
            "baxis": {
             "endlinecolor": "#2a3f5f",
             "gridcolor": "white",
             "linecolor": "white",
             "minorgridcolor": "white",
             "startlinecolor": "#2a3f5f"
            },
            "type": "carpet"
           }
          ],
          "choropleth": [
           {
            "colorbar": {
             "outlinewidth": 0,
             "ticks": ""
            },
            "type": "choropleth"
           }
          ],
          "contour": [
           {
            "colorbar": {
             "outlinewidth": 0,
             "ticks": ""
            },
            "colorscale": [
             [
              0,
              "#0d0887"
             ],
             [
              0.1111111111111111,
              "#46039f"
             ],
             [
              0.2222222222222222,
              "#7201a8"
             ],
             [
              0.3333333333333333,
              "#9c179e"
             ],
             [
              0.4444444444444444,
              "#bd3786"
             ],
             [
              0.5555555555555556,
              "#d8576b"
             ],
             [
              0.6666666666666666,
              "#ed7953"
             ],
             [
              0.7777777777777778,
              "#fb9f3a"
             ],
             [
              0.8888888888888888,
              "#fdca26"
             ],
             [
              1,
              "#f0f921"
             ]
            ],
            "type": "contour"
           }
          ],
          "contourcarpet": [
           {
            "colorbar": {
             "outlinewidth": 0,
             "ticks": ""
            },
            "type": "contourcarpet"
           }
          ],
          "heatmap": [
           {
            "colorbar": {
             "outlinewidth": 0,
             "ticks": ""
            },
            "colorscale": [
             [
              0,
              "#0d0887"
             ],
             [
              0.1111111111111111,
              "#46039f"
             ],
             [
              0.2222222222222222,
              "#7201a8"
             ],
             [
              0.3333333333333333,
              "#9c179e"
             ],
             [
              0.4444444444444444,
              "#bd3786"
             ],
             [
              0.5555555555555556,
              "#d8576b"
             ],
             [
              0.6666666666666666,
              "#ed7953"
             ],
             [
              0.7777777777777778,
              "#fb9f3a"
             ],
             [
              0.8888888888888888,
              "#fdca26"
             ],
             [
              1,
              "#f0f921"
             ]
            ],
            "type": "heatmap"
           }
          ],
          "heatmapgl": [
           {
            "colorbar": {
             "outlinewidth": 0,
             "ticks": ""
            },
            "colorscale": [
             [
              0,
              "#0d0887"
             ],
             [
              0.1111111111111111,
              "#46039f"
             ],
             [
              0.2222222222222222,
              "#7201a8"
             ],
             [
              0.3333333333333333,
              "#9c179e"
             ],
             [
              0.4444444444444444,
              "#bd3786"
             ],
             [
              0.5555555555555556,
              "#d8576b"
             ],
             [
              0.6666666666666666,
              "#ed7953"
             ],
             [
              0.7777777777777778,
              "#fb9f3a"
             ],
             [
              0.8888888888888888,
              "#fdca26"
             ],
             [
              1,
              "#f0f921"
             ]
            ],
            "type": "heatmapgl"
           }
          ],
          "histogram": [
           {
            "marker": {
             "pattern": {
              "fillmode": "overlay",
              "size": 10,
              "solidity": 0.2
             }
            },
            "type": "histogram"
           }
          ],
          "histogram2d": [
           {
            "colorbar": {
             "outlinewidth": 0,
             "ticks": ""
            },
            "colorscale": [
             [
              0,
              "#0d0887"
             ],
             [
              0.1111111111111111,
              "#46039f"
             ],
             [
              0.2222222222222222,
              "#7201a8"
             ],
             [
              0.3333333333333333,
              "#9c179e"
             ],
             [
              0.4444444444444444,
              "#bd3786"
             ],
             [
              0.5555555555555556,
              "#d8576b"
             ],
             [
              0.6666666666666666,
              "#ed7953"
             ],
             [
              0.7777777777777778,
              "#fb9f3a"
             ],
             [
              0.8888888888888888,
              "#fdca26"
             ],
             [
              1,
              "#f0f921"
             ]
            ],
            "type": "histogram2d"
           }
          ],
          "histogram2dcontour": [
           {
            "colorbar": {
             "outlinewidth": 0,
             "ticks": ""
            },
            "colorscale": [
             [
              0,
              "#0d0887"
             ],
             [
              0.1111111111111111,
              "#46039f"
             ],
             [
              0.2222222222222222,
              "#7201a8"
             ],
             [
              0.3333333333333333,
              "#9c179e"
             ],
             [
              0.4444444444444444,
              "#bd3786"
             ],
             [
              0.5555555555555556,
              "#d8576b"
             ],
             [
              0.6666666666666666,
              "#ed7953"
             ],
             [
              0.7777777777777778,
              "#fb9f3a"
             ],
             [
              0.8888888888888888,
              "#fdca26"
             ],
             [
              1,
              "#f0f921"
             ]
            ],
            "type": "histogram2dcontour"
           }
          ],
          "mesh3d": [
           {
            "colorbar": {
             "outlinewidth": 0,
             "ticks": ""
            },
            "type": "mesh3d"
           }
          ],
          "parcoords": [
           {
            "line": {
             "colorbar": {
              "outlinewidth": 0,
              "ticks": ""
             }
            },
            "type": "parcoords"
           }
          ],
          "pie": [
           {
            "automargin": true,
            "type": "pie"
           }
          ],
          "scatter": [
           {
            "marker": {
             "colorbar": {
              "outlinewidth": 0,
              "ticks": ""
             }
            },
            "type": "scatter"
           }
          ],
          "scatter3d": [
           {
            "line": {
             "colorbar": {
              "outlinewidth": 0,
              "ticks": ""
             }
            },
            "marker": {
             "colorbar": {
              "outlinewidth": 0,
              "ticks": ""
             }
            },
            "type": "scatter3d"
           }
          ],
          "scattercarpet": [
           {
            "marker": {
             "colorbar": {
              "outlinewidth": 0,
              "ticks": ""
             }
            },
            "type": "scattercarpet"
           }
          ],
          "scattergeo": [
           {
            "marker": {
             "colorbar": {
              "outlinewidth": 0,
              "ticks": ""
             }
            },
            "type": "scattergeo"
           }
          ],
          "scattergl": [
           {
            "marker": {
             "colorbar": {
              "outlinewidth": 0,
              "ticks": ""
             }
            },
            "type": "scattergl"
           }
          ],
          "scattermapbox": [
           {
            "marker": {
             "colorbar": {
              "outlinewidth": 0,
              "ticks": ""
             }
            },
            "type": "scattermapbox"
           }
          ],
          "scatterpolar": [
           {
            "marker": {
             "colorbar": {
              "outlinewidth": 0,
              "ticks": ""
             }
            },
            "type": "scatterpolar"
           }
          ],
          "scatterpolargl": [
           {
            "marker": {
             "colorbar": {
              "outlinewidth": 0,
              "ticks": ""
             }
            },
            "type": "scatterpolargl"
           }
          ],
          "scatterternary": [
           {
            "marker": {
             "colorbar": {
              "outlinewidth": 0,
              "ticks": ""
             }
            },
            "type": "scatterternary"
           }
          ],
          "surface": [
           {
            "colorbar": {
             "outlinewidth": 0,
             "ticks": ""
            },
            "colorscale": [
             [
              0,
              "#0d0887"
             ],
             [
              0.1111111111111111,
              "#46039f"
             ],
             [
              0.2222222222222222,
              "#7201a8"
             ],
             [
              0.3333333333333333,
              "#9c179e"
             ],
             [
              0.4444444444444444,
              "#bd3786"
             ],
             [
              0.5555555555555556,
              "#d8576b"
             ],
             [
              0.6666666666666666,
              "#ed7953"
             ],
             [
              0.7777777777777778,
              "#fb9f3a"
             ],
             [
              0.8888888888888888,
              "#fdca26"
             ],
             [
              1,
              "#f0f921"
             ]
            ],
            "type": "surface"
           }
          ],
          "table": [
           {
            "cells": {
             "fill": {
              "color": "#EBF0F8"
             },
             "line": {
              "color": "white"
             }
            },
            "header": {
             "fill": {
              "color": "#C8D4E3"
             },
             "line": {
              "color": "white"
             }
            },
            "type": "table"
           }
          ]
         },
         "layout": {
          "annotationdefaults": {
           "arrowcolor": "#2a3f5f",
           "arrowhead": 0,
           "arrowwidth": 1
          },
          "autotypenumbers": "strict",
          "coloraxis": {
           "colorbar": {
            "outlinewidth": 0,
            "ticks": ""
           }
          },
          "colorscale": {
           "diverging": [
            [
             0,
             "#8e0152"
            ],
            [
             0.1,
             "#c51b7d"
            ],
            [
             0.2,
             "#de77ae"
            ],
            [
             0.3,
             "#f1b6da"
            ],
            [
             0.4,
             "#fde0ef"
            ],
            [
             0.5,
             "#f7f7f7"
            ],
            [
             0.6,
             "#e6f5d0"
            ],
            [
             0.7,
             "#b8e186"
            ],
            [
             0.8,
             "#7fbc41"
            ],
            [
             0.9,
             "#4d9221"
            ],
            [
             1,
             "#276419"
            ]
           ],
           "sequential": [
            [
             0,
             "#0d0887"
            ],
            [
             0.1111111111111111,
             "#46039f"
            ],
            [
             0.2222222222222222,
             "#7201a8"
            ],
            [
             0.3333333333333333,
             "#9c179e"
            ],
            [
             0.4444444444444444,
             "#bd3786"
            ],
            [
             0.5555555555555556,
             "#d8576b"
            ],
            [
             0.6666666666666666,
             "#ed7953"
            ],
            [
             0.7777777777777778,
             "#fb9f3a"
            ],
            [
             0.8888888888888888,
             "#fdca26"
            ],
            [
             1,
             "#f0f921"
            ]
           ],
           "sequentialminus": [
            [
             0,
             "#0d0887"
            ],
            [
             0.1111111111111111,
             "#46039f"
            ],
            [
             0.2222222222222222,
             "#7201a8"
            ],
            [
             0.3333333333333333,
             "#9c179e"
            ],
            [
             0.4444444444444444,
             "#bd3786"
            ],
            [
             0.5555555555555556,
             "#d8576b"
            ],
            [
             0.6666666666666666,
             "#ed7953"
            ],
            [
             0.7777777777777778,
             "#fb9f3a"
            ],
            [
             0.8888888888888888,
             "#fdca26"
            ],
            [
             1,
             "#f0f921"
            ]
           ]
          },
          "colorway": [
           "#636efa",
           "#EF553B",
           "#00cc96",
           "#ab63fa",
           "#FFA15A",
           "#19d3f3",
           "#FF6692",
           "#B6E880",
           "#FF97FF",
           "#FECB52"
          ],
          "font": {
           "color": "#2a3f5f"
          },
          "geo": {
           "bgcolor": "white",
           "lakecolor": "white",
           "landcolor": "#E5ECF6",
           "showlakes": true,
           "showland": true,
           "subunitcolor": "white"
          },
          "hoverlabel": {
           "align": "left"
          },
          "hovermode": "closest",
          "mapbox": {
           "style": "light"
          },
          "paper_bgcolor": "white",
          "plot_bgcolor": "#E5ECF6",
          "polar": {
           "angularaxis": {
            "gridcolor": "white",
            "linecolor": "white",
            "ticks": ""
           },
           "bgcolor": "#E5ECF6",
           "radialaxis": {
            "gridcolor": "white",
            "linecolor": "white",
            "ticks": ""
           }
          },
          "scene": {
           "xaxis": {
            "backgroundcolor": "#E5ECF6",
            "gridcolor": "white",
            "gridwidth": 2,
            "linecolor": "white",
            "showbackground": true,
            "ticks": "",
            "zerolinecolor": "white"
           },
           "yaxis": {
            "backgroundcolor": "#E5ECF6",
            "gridcolor": "white",
            "gridwidth": 2,
            "linecolor": "white",
            "showbackground": true,
            "ticks": "",
            "zerolinecolor": "white"
           },
           "zaxis": {
            "backgroundcolor": "#E5ECF6",
            "gridcolor": "white",
            "gridwidth": 2,
            "linecolor": "white",
            "showbackground": true,
            "ticks": "",
            "zerolinecolor": "white"
           }
          },
          "shapedefaults": {
           "line": {
            "color": "#2a3f5f"
           }
          },
          "ternary": {
           "aaxis": {
            "gridcolor": "white",
            "linecolor": "white",
            "ticks": ""
           },
           "baxis": {
            "gridcolor": "white",
            "linecolor": "white",
            "ticks": ""
           },
           "bgcolor": "#E5ECF6",
           "caxis": {
            "gridcolor": "white",
            "linecolor": "white",
            "ticks": ""
           }
          },
          "title": {
           "x": 0.05
          },
          "xaxis": {
           "automargin": true,
           "gridcolor": "white",
           "linecolor": "white",
           "ticks": "",
           "title": {
            "standoff": 15
           },
           "zerolinecolor": "white",
           "zerolinewidth": 2
          },
          "yaxis": {
           "automargin": true,
           "gridcolor": "white",
           "linecolor": "white",
           "ticks": "",
           "title": {
            "standoff": 15
           },
           "zerolinecolor": "white",
           "zerolinewidth": 2
          }
         }
        }
       }
      },
      "image/png": "[encoded data removed]",
      "text/html": [
       "<div>                            <div id=\"d0fd4117-c627-482b-b27a-a83d0633f2fe\" class=\"plotly-graph-div\" style=\"height:525px; width:800px;\"></div>            <script type=\"text/javascript\">                require([\"plotly\"], function(Plotly) {                    window.PLOTLYENV=window.PLOTLYENV || {};                                    if (document.getElementById(\"d0fd4117-c627-482b-b27a-a83d0633f2fe\")) {                    Plotly.newPlot(                        \"d0fd4117-c627-482b-b27a-a83d0633f2fe\",                        [{\"customdata\":[[\"Scrypt\"],[\"Scrypt\"],[\"X11\"],[\"SHA-512\"],[\"SHA-256\"],[\"SHA-256\"],[\"X15\"],[\"Scrypt\"],[\"Scrypt\"],[\"Scrypt\"],[\"Scrypt\"],[\"Scrypt\"],[\"Scrypt\"],[\"Groestl\"],[\"PoS\"],[\"Scrypt\"],[\"Scrypt\"],[\"X11\"],[\"X11\"],[\"SHA3\"],[\"Scrypt\"],[\"SHA-256\"],[\"Scrypt\"],[\"X13\"],[\"X13\"],[\"NeoScrypt\"],[\"Scrypt\"],[\"Scrypt\"],[\"Scrypt\"],[\"X11\"],[\"X11\"],[\"Multiple\"],[\"PHI1612\"],[\"X11\"],[\"Scrypt\"],[\"Scrypt\"],[\"Scrypt\"],[\"X11\"],[\"Multiple\"],[\"X13\"],[\"Scrypt\"],[\"Shabal256\"],[\"Counterparty\"],[\"SHA-256\"],[\"Groestl\"],[\"Scrypt\"],[\"X13\"],[\"Scrypt\"],[\"Scrypt\"],[\"X13\"],[\"X11\"],[\"Scrypt\"],[\"X11\"],[\"SHA3\"],[\"QUAIT\"],[\"X11\"],[\"Scrypt\"],[\"X13\"],[\"SHA-256\"],[\"X15\"],[\"BLAKE256\"],[\"SHA-256\"],[\"X11\"],[\"SHA-256\"],[\"NIST5\"],[\"Scrypt\"],[\"Scrypt\"],[\"X11\"],[\"Scrypt\"],[\"SHA-256\"],[\"Scrypt\"],[\"PoS\"],[\"X11\"],[\"SHA-256\"],[\"SHA-256\"],[\"NIST5\"],[\"X11\"],[\"POS 3.0\"],[\"Scrypt\"],[\"Scrypt\"],[\"Scrypt\"],[\"X13\"],[\"X11\"],[\"X11\"],[\"Scrypt\"],[\"SHA-256\"],[\"X11\"],[\"Scrypt\"],[\"Scrypt\"],[\"Scrypt\"],[\"Scrypt\"],[\"SHA-256D\"],[\"PoS\"],[\"Scrypt\"],[\"X11\"],[\"PoS\"],[\"X13\"],[\"X14\"],[\"PoS\"],[\"SHA-256D\"],[\"X11\"],[\"X13\"],[\"X11\"],[\"PoS\"],[\"Scrypt\"],[\"Scrypt\"],[\"PoS\"],[\"X11\"],[\"SHA-256\"],[\"Scrypt\"],[\"X11\"],[\"Scrypt\"],[\"Scrypt\"],[\"X11\"],[\"Scrypt\"],[\"Scrypt\"],[\"Scrypt\"],[\"Scrypt\"],[\"Quark\"],[\"QuBit\"],[\"Scrypt\"],[\"SHA-256\"],[\"X11\"],[\"Scrypt\"],[\"Scrypt\"],[\"Scrypt\"],[\"Scrypt\"],[\"X13\"],[\"Scrypt\"],[\"Scrypt\"],[\"X11\"],[\"Blake2S\"],[\"X11\"],[\"PoS\"],[\"X11\"],[\"PoS\"],[\"X11\"],[\"Scrypt\"],[\"Scrypt\"],[\"Scrypt\"],[\"SHA-256\"],[\"X11\"],[\"Scrypt\"],[\"PoS\"],[\"Scrypt\"],[\"X15\"],[\"SHA-256\"],[\"POS 3.0\"],[\"536\"],[\"NIST5\"],[\"NIST5\"],[\"Skein\"],[\"X13\"],[\"Scrypt\"],[\"X13\"],[\"SkunkHash v2 Raptor\"],[\"Skein\"],[\"X11\"],[\"Scrypt\"],[\"PoS\"],[\"Scrypt\"],[\"Scrypt\"],[\"SHA-512\"],[\"Ouroboros\"],[\"X11\"],[\"NeoScrypt\"],[\"Scrypt\"],[\"Lyra2REv2\"],[\"Scrypt\"],[\"SHA-256\"],[\"NIST5\"],[\"PHI1612\"],[\"Scrypt\"],[\"Quark\"],[\"POS 2.0\"],[\"Scrypt\"],[\"SHA-256\"],[\"X11\"],[\"NIST5\"],[\"X13\"],[\"Scrypt\"],[\"NIST5\"],[\"Quark\"],[\"Scrypt\"],[\"Scrypt\"],[\"X11\"],[\"Quark\"],[\"Scrypt\"],[\"Scrypt\"],[\"X11\"],[\"POS 3.0\"],[\"Ethash\"],[\"Scrypt\"],[\"Scrypt\"],[\"X13\"],[\"C11\"],[\"X11\"],[\"XEVAN\"],[\"Scrypt\"],[\"VBFT\"],[\"NIST5\"],[\"Scrypt\"],[\"Scrypt\"],[\"Scrypt\"],[\"Green Protocol\"],[\"PoS\"],[\"Scrypt\"],[\"Quark\"],[\"PoS\"],[\"X16R\"],[\"Scrypt\"],[\"XEVAN\"],[\"Scrypt\"],[\"Scrypt\"],[\"Scrypt\"],[\"SHA-256D\"],[\"Scrypt\"],[\"X15\"],[\"Quark\"],[\"SHA-256\"],[\"DPoS\"],[\"X16R\"],[\"Quark\"],[\"Quark\"],[\"Scrypt\"],[\"Lyra2REv2\"],[\"Quark\"],[\"Scrypt\"],[\"X11\"],[\"X11\"],[\"Scrypt\"],[\"PoS\"],[\"Keccak\"],[\"X11\"],[\"Scrypt\"],[\"SHA-512\"],[\"ECC 256K1\"],[\"XEVAN\"],[\"XEVAN\"],[\"X11\"],[\"Quark\"],[\"Equihash\"],[\"Scrypt\"],[\"Quark\"],[\"Quark\"],[\"Scrypt\"],[\"X11\"],[\"Scrypt\"],[\"XEVAN\"],[\"SHA-256D\"],[\"X11\"],[\"X11\"],[\"Scrypt\"],[\"X11\"],[\"Scrypt\"],[\"Scrypt\"],[\"SHA-256\"],[\"Scrypt\"],[\"X11\"],[\"Scrypt\"],[\"SHA-256\"],[\"X11\"],[\"Scrypt\"],[\"Scrypt\"],[\"X11\"],[\"Scrypt\"],[\"PoS\"],[\"X11\"],[\"SHA-256\"],[\"Scrypt\"],[\"Scrypt\"],[\"NeoScrypt\"],[\"X13\"],[\"SHA-256\"],[\"PoS\"],[\"PoS\"],[\"Scrypt\"],[\"Scrypt\"]],\"hovertemplate\":\"<b>%{hovertext}</b><br><br>Class=%{marker.color}<br>PC 1=%{x}<br>PC 2=%{y}<br>PC 3=%{z}<br>Algorithm=%{customdata[0]}<extra></extra>\",\"hovertext\":[\"42 Coin\",\"404Coin\",\"Dash\",\"Bitshares\",\"BitcoinDark\",\"PayCoin\",\"KoboCoin\",\"Aurora Coin\",\"BlueCoin\",\"EnergyCoin\",\"BitBar\",\"CryptoBullion\",\"CasinoCoin\",\"Diamond\",\"Exclusive Coin\",\"FlutterCoin\",\"HoboNickels\",\"HyperStake\",\"IOCoin\",\"MaxCoin\",\"MintCoin\",\"MazaCoin\",\"Nautilus Coin\",\"NavCoin\",\"OpalCoin\",\"Orbitcoin\",\"PotCoin\",\"PhoenixCoin\",\"Reddcoin\",\"SuperCoin\",\"SyncCoin\",\"TeslaCoin\",\"TittieCoin\",\"TorCoin\",\"UnitaryStatus Dollar\",\"UltraCoin\",\"VeriCoin\",\"X11 Coin\",\"Crypti\",\"StealthCoin\",\"ZCC Coin\",\"BurstCoin\",\"StorjCoin\",\"Neutron\",\"FairCoin\",\"RubyCoin\",\"Kore\",\"Dnotes\",\"8BIT Coin\",\"Sativa Coin\",\"Ucoin\",\"Vtorrent\",\"IslaCoin\",\"Nexus\",\"Droidz\",\"Squall Coin\",\"Diggits\",\"Paycon\",\"Emercoin\",\"EverGreenCoin\",\"Decred\",\"EDRCoin\",\"Hitcoin\",\"DubaiCoin\",\"PWR Coin\",\"BillaryCoin\",\"GPU Coin\",\"EuropeCoin\",\"ZeitCoin\",\"SwingCoin\",\"SafeExchangeCoin\",\"Nebuchadnezzar\",\"Ratecoin\",\"Revenu\",\"Clockcoin\",\"VIP Tokens\",\"BitSend\",\"Let it Ride\",\"PutinCoin\",\"iBankCoin\",\"Frankywillcoin\",\"MudraCoin\",\"Lutetium Coin\",\"GoldBlocks\",\"CarterCoin\",\"BitTokens\",\"MustangCoin\",\"ZoneCoin\",\"RootCoin\",\"BitCurrency\",\"Swiscoin\",\"BuzzCoin\",\"Opair\",\"PesoBit\",\"Halloween Coin\",\"CoffeeCoin\",\"RoyalCoin\",\"GanjaCoin V2\",\"TeamUP\",\"LanaCoin\",\"InsaneCoin\",\"EmberCoin\",\"XenixCoin\",\"FreeCoin\",\"PLNCoin\",\"AquariusCoin\",\"Creatio\",\"Eternity\",\"Eurocoin\",\"BitcoinFast\",\"Stakenet\",\"BitConnect Coin\",\"MoneyCoin\",\"Enigma\",\"Russiacoin\",\"PandaCoin\",\"GameUnits\",\"GAKHcoin\",\"Allsafe\",\"LiteCreed\",\"Klingon Empire Darsek\",\"Internet of People\",\"KushCoin\",\"Printerium\",\"Impeach\",\"Zilbercoin\",\"FirstCoin\",\"FindCoin\",\"OpenChat\",\"RenosCoin\",\"VirtacoinPlus\",\"TajCoin\",\"Impact\",\"Atmos\",\"HappyCoin\",\"MacronCoin\",\"Condensate\",\"Independent Money System\",\"ArgusCoin\",\"LomoCoin\",\"ProCurrency\",\"GoldReserve\",\"GrowthCoin\",\"Phreak\",\"Degas Coin\",\"HTML5 Coin\",\"Ultimate Secure Cash\",\"QTUM\",\"Espers\",\"Denarius\",\"Virta Unique Coin\",\"Bitcoin Planet\",\"BritCoin\",\"Linda\",\"DeepOnion\",\"Signatum\",\"Cream\",\"Monoeci\",\"Draftcoin\",\"Stakecoin\",\"CoinonatX\",\"Ethereum Dark\",\"Obsidian\",\"Cardano\",\"Regalcoin\",\"TrezarCoin\",\"TerraNovaCoin\",\"Rupee\",\"WomenCoin\",\"Theresa May Coin\",\"NamoCoin\",\"LUXCoin\",\"Xios\",\"Bitcloud 2.0\",\"KekCoin\",\"BlackholeCoin\",\"Infinity Economics\",\"Magnet\",\"Electra\",\"Bitcoin Diamond\",\"Cash & Back Coin\",\"Bulwark\",\"Kalkulus\",\"GermanCoin\",\"LiteCoin Ultra\",\"PhantomX\",\"Digiwage\",\"Trollcoin\",\"Litecoin Plus\",\"Monkey Project\",\"TokenPay\",\"1717 Masonic Commemorative Token\",\"My Big Coin\",\"Unified Society USDEX\",\"Tokyo Coin\",\"Stipend\",\"Pushi\",\"Ellerium\",\"Velox\",\"Ontology\",\"Bitspace\",\"Briacoin\",\"Ignition\",\"MedicCoin\",\"Bitcoin Green\",\"Deviant Coin\",\"Abjcoin\",\"Carebit\",\"Zealium\",\"Proton\",\"iDealCash\",\"Bitcoin Incognito\",\"HollyWoodCoin\",\"Swisscoin\",\"Xt3ch\",\"TheVig\",\"EmaratCoin\",\"Dekado\",\"Poseidon Quark\",\"BitcoinWSpectrum\",\"Muse\",\"Trivechain\",\"Dystem\",\"Giant\",\"Peony Coin\",\"Absolute Coin\",\"Vitae\",\"TPCash\",\"ARENON\",\"EUNO\",\"MMOCoin\",\"Ketan\",\"XDNA\",\"PAXEX\",\"ThunderStake\",\"Kcash\",\"Acute Angle Cloud\",\"Bettex coin\",\"BitMoney\",\"Junson Ming Chan Coin\",\"HerbCoin\",\"PirateCash\",\"Oduwa\",\"Galilel\",\"Crypto Sports\",\"Credit\",\"Dash Platinum\",\"Nasdacoin\",\"Beetle Coin\",\"Titan Coin\",\"Award\",\"Insane Coin\",\"LiteDoge\",\"TruckCoin\",\"OrangeCoin\",\"BitstarCoin\",\"NeosCoin\",\"HyperCoin\",\"PinkCoin\",\"AudioCoin\",\"IncaKoin\",\"Piggy Coin\",\"Genstake\",\"XiaoMiCoin\",\"CapriCoin\",\" ClubCoin\",\"Radium\",\"Creditbit \",\"OKCash\",\"HiCoin\",\"WhiteCoin\",\"FriendshipCoin\",\"Triangles Coin\",\"TigerCash\",\"Particl\",\"Nxt\",\"Gapcoin\",\"BitcoinPlus\"],\"legendgroup\":\"0\",\"marker\":{\"color\":[0,0,0,0,0,0,0,0,0,0,0,0,0,0,0,0,0,0,0,0,0,0,0,0,0,0,0,0,0,0,0,0,0,0,0,0,0,0,0,0,0,0,0,0,0,0,0,0,0,0,0,0,0,0,0,0,0,0,0,0,0,0,0,0,0,0,0,0,0,0,0,0,0,0,0,0,0,0,0,0,0,0,0,0,0,0,0,0,0,0,0,0,0,0,0,0,0,0,0,0,0,0,0,0,0,0,0,0,0,0,0,0,0,0,0,0,0,0,0,0,0,0,0,0,0,0,0,0,0,0,0,0,0,0,0,0,0,0,0,0,0,0,0,0,0,0,0,0,0,0,0,0,0,0,0,0,0,0,0,0,0,0,0,0,0,0,0,0,0,0,0,0,0,0,0,0,0,0,0,0,0,0,0,0,0,0,0,0,0,0,0,0,0,0,0,0,0,0,0,0,0,0,0,0,0,0,0,0,0,0,0,0,0,0,0,0,0,0,0,0,0,0,0,0,0,0,0,0,0,0,0,0,0,0,0,0,0,0,0,0,0,0,0,0,0,0,0,0,0,0,0,0,0,0,0,0,0,0,0,0,0,0,0,0,0,0,0,0,0,0,0,0,0,0,0,0,0,0],\"coloraxis\":\"coloraxis\",\"symbol\":\"circle\"},\"mode\":\"markers\",\"name\":\"0\",\"scene\":\"scene\",\"showlegend\":true,\"type\":\"scatter3d\",\"x\":[-0.3439305738711416,-0.32729884033407564,-0.39479139064352564,-0.3164690550372665,-0.3199568849236752,-0.2742653560745148,-0.24900720438858517,-0.3435907706648597,-0.3361821401214713,-0.3424299322570834,-0.34392651722423995,-0.3439108270944254,0.5866561117215783,-0.3792907156005775,-0.36368130361836454,-0.3114929272678982,-0.34199286618557806,-0.3289609289158274,-0.3946862819776663,-0.3577539661803017,-0.03864171758722998,-0.2833295684563876,-0.29799057713543736,-0.2893298274990528,-0.28995088289686416,-0.34558088968609807,-0.33824310298491544,-0.3423352120304342,0.013546935640927281,-0.3488106671467367,-0.395057180322504,-0.24950664632984967,-0.34128516299029416,-0.3949689768488577,-0.31920745754011004,-0.3426103531319731,-0.2647845005882355,-0.39493352188319913,-0.24997358749172902,-0.2897321525839134,-0.33504948999709266,-0.18695526561655934,-0.35415493028079903,-0.31917002906361075,-0.37871335397612504,-0.2979708844231369,-0.290026121538104,-0.29263448279314114,-0.34391267565289607,-0.2899783970262971,-0.34925467303102936,-0.34364753583853014,-0.3950387434649706,-0.2644952071172557,-0.4258819592954966,-0.2971166865020526,-0.2963753160313542,-0.2895008934464113,-0.31252673350300725,-0.2514443487198364,-0.10217592313254353,-0.31992785280157576,-0.07308640368654762,-0.31999143710629313,-0.2425166526534377,-0.3435236310223339,-0.29624452023672726,-0.3922129281999019,0.8531002102911661,-0.31979185027232837,-0.142784291485633,-0.3633651507564689,-0.3928856872467904,-0.3185375978159346,-0.31620994656401014,-0.3636502241348255,-0.39377618503592615,-0.36124650175118556,-0.3198626818002791,-0.34356165646350756,-0.3420035153819121,-0.24303123663360884,-0.33676822280912205,-0.3945135903276546,-0.342767326771222,-0.3199724172022265,-0.3950279530332995,-0.3437504838746728,-0.34390691944347934,-0.29623426964903515,-0.2265575291605659,0.019839333921405737,-0.36232412649115125,-0.34352179175852515,-0.38121496997459264,-0.36165403384285777,-0.24445932318232466,-0.44114852321618475,-0.36140326077421653,-0.2941119788185662,-0.3946212330856541,0.8400895393434615,-0.39498294585949295,-0.36278703296689013,-0.34344945475388705,-0.3436034923288064,-0.3633651507564689,-0.3945586013176865,-0.31983534547312514,-0.3434501930037905,-0.35639708831402483,-0.34359731375915414,-0.3391931054930269,-0.3950118851857935,-0.3428094016263499,0.3441100875919489,-0.34379623054930925,-0.34386667746026184,-0.35987525901522965,-0.3404779663270923,-0.3401001010198034,-0.3199488746330606,-0.3949220007115208,-0.34364488964157425,-0.34377160604554363,-0.2978775305506287,-0.30358532061896176,-0.2442275995532384,-0.32465998169454763,-0.29761915520259524,-0.39418904621143,-0.40019245298591616,-0.3929297494986278,-0.36161489446791695,-0.3940871207797466,-0.3560249926890711,-0.39003536170756453,-0.34371499823564644,-0.3437141847209851,-0.33684800348875066,0.25746154214912254,-0.3945647529131735,-0.2805505101105506,-0.36339937462291816,-0.34292709358983076,0.8808881552121933,-0.27295806872561595,-0.36002707304943227,0.5523380478733529,-0.3651830798700853,-0.36368801089997677,-0.4194127036123742,-0.28966406153929314,0.12018809488080226,-0.2897347101460381,-0.3596059571578677,-0.4189185071863589,-0.3948366527128896,-0.2979516205250698,-0.36326587558189855,-0.34335085259225206,-0.343849638189967,-0.3744278649981579,0.6595552474499609,-0.3947775783562121,-0.3405891365614988,-0.34380532789936236,-0.3013903749093698,0.423901845316035,-0.31829815808199574,-0.34997736745085034,-0.4224462248299785,-0.34375575517275897,-0.4039480653248284,-0.3330529058409944,-0.34362639900961583,-0.10106474778873885,-0.3935723912709501,0.19329212600905918,-0.28641160612392014,-0.34109124866158674,-0.3193188415016908,-0.35976137100295497,0.06978454997085079,-0.34276643636807974,-0.3941525183088887,-0.35892758865960595,-0.3303547463270997,-0.3438717287812508,-0.34922665388941304,-0.3615279012291045,-0.26563235267629365,-0.2682233921577953,-0.33942508940452876,-0.2360380302851652,-0.37395778801481877,-0.3948538551568362,-0.24531635115226882,-0.29711308875828646,-0.32847850187553895,-0.3647827564946164,-0.34389903345010653,-0.34388077698956426,-0.2915046786295311,-0.3453193010977417,-0.36286106719234534,-0.3435977964362831,-0.4026185643738023,-0.3630493917208575,-0.29953949483008946,-0.2905627555616606,-0.14752796897592646,-0.2976463915674299,-0.14737052622371075,-0.2978979693410867,-0.35931105567650923,-0.3430727659382623,-0.20516106793730682,-0.35547683045438144,-0.27308562742305736,1.0420264641642356,-0.3445054524310567,-0.35987469160845914,-0.4056292265685882,-0.17883878555251695,-0.3469469740718359,-0.3585965448503285,-0.3367882059382808,-0.34880482162916004,-0.39432815127742693,-0.29514840664202924,-0.3621507668971403,-0.3597462105110323,-0.3486664248843061,-0.20362883426234746,-0.4282754822999724,-0.2963174481157083,-0.19968126281137594,0.7590609755237938,-0.13956914699578038,-0.4049251298555432,-0.26774431012219446,-0.34360176953005234,-0.40538042697609455,-0.35999145665674803,0.5612820619057182,-0.349280869024192,-0.3430856040464192,-0.23978193985097154,-0.3141113081725101,-0.39189704644315826,-0.39455498064147543,0.09054634972229453,-0.3920992242815434,-0.3424721474265389,-0.3432957199810804,-0.2742979188645702,-0.3438131306830892,-0.3861980167260434,-0.25766842726903527,-0.10002461440161625,-0.3819538981952757,-0.34309278043730546,-0.3361697018702939,-0.3911298345903989,-0.3415347613455181,-0.36364027762425627,-0.3861282844379083,-0.31847464529559794,-0.1055309366988677,-0.3387346466392689,-0.3452074001416719,-0.2901331355673485,-0.25522949155448205,-0.3635762636651323,-0.3921251069059377,-0.34197938519600657,-0.2982937340211726],\"y\":[0.9633104254214062,0.9633589809109023,1.2694165362443666,1.5297138828557633,0.7784862116745068,0.5671847004810555,1.89996630893411,0.9633071134270909,0.9635138752663985,0.9633498276419122,0.9633101671716687,0.9633102143504382,0.03683028070137233,0.8203964434215334,1.4441000354882738,0.09631554826137818,0.9632737527613768,1.0586529307878452,1.2694192960716089,2.4784635878507943,0.7588182030157923,0.777698956572008,0.7519967023658644,1.730674915001729,1.7306586080151212,0.5910797014980191,0.963153332704825,0.963280814816763,0.9726966750214432,1.0581317382877162,1.2694256076973989,0.06800379713225033,1.4055598629367148,1.2694206284698155,0.9627922326824387,0.9632721312843332,0.442226219079082,1.2694248425650896,0.06806449577255454,1.7306643511940658,0.9628140244867984,-0.1256564821592935,1.3927989594070491,0.7784733108963574,0.8204147987523762,0.7520090242121559,1.730647877394124,0.7517843462237708,0.9633108954036872,1.7306505896729485,1.058105488258554,0.9633032653389467,1.269426092521629,3.4043238017401993,1.9045939037762878,1.125723772618011,0.7519779598189548,1.7306339438082743,0.7779677647220438,1.9001384870447096,0.6914303916584356,0.7784869739678996,1.2585089295243765,0.7784936947339998,1.4561375427269527,0.9632904677003234,0.7518930752413294,1.2692201268457373,0.7100031026388562,0.7784774123402842,0.045294282560841385,1.4440937448677857,1.2694279057943494,0.7783770306633048,0.7782176105433495,1.4528912880540845,1.2693578302851136,1.4924771838374176,0.9624831922654172,0.9632877668923399,0.9632880649596517,1.5192364941298209,1.0579685944282442,1.2694034018798455,0.9632753055504633,0.7784865334357491,1.2694241870728988,0.9632998326524765,0.9633110465438756,0.7520546223246016,0.47311213798273555,1.873130133003205,1.4440816810376198,0.9633211588012089,1.2686946759128457,1.4441240817468861,1.5193430910746888,1.7110055385428304,1.4439402430336312,1.8740022518777586,1.2694151673283185,1.7597098091044945,1.26942474624231,1.4440870367264442,0.9632949397225122,0.9632883707903547,1.4440937448677857,1.2693949241244344,0.7784908621044553,0.9632989622705926,0.9812153509901187,0.9632987472895872,0.9629601013296175,1.2694231497833792,0.9632348029000014,0.7451454975918221,0.9633044682120694,0.9633096840047491,1.4592280058106004,0.6627259679982629,0.9630462064492611,0.7784871515905246,1.2694223332329027,0.9633033348198635,0.9632985970988104,0.7519713479089718,0.30630529086902897,1.5193404022889703,0.96308682071939,0.7519931423329829,1.2693754438679812,1.9345771253295612,1.269401213183473,1.4440738264018838,1.269378120113378,1.4440092301812029,1.2691926704652887,0.9633006096336885,0.9632952408665758,0.9627668011062012,0.5264360187471212,1.269409354415744,0.751007247847188,1.4440855503487504,0.96326016670999,1.864226050927451,0.5670821661087881,1.492460684470682,1.7144277449926837,1.4529094072738387,1.4528684081712824,1.9316890045846604,1.730644251333838,0.9390172080121311,1.7306504960993312,1.4194702432694535,1.9317019806485183,1.2694244623812847,0.7519968308467454,1.4440660005799284,0.9632904429247094,0.9633094862910039,1.5307523305174753,1.5110261536616254,1.2694132509588718,0.5909216837321968,0.9633022351296859,0.7257195030734246,0.9652315545695507,0.7784728566205366,1.4524404491941174,1.6175712684924841,0.9632996942445539,1.670443976472401,1.6674965462221683,0.9633076227515878,0.5651752147176587,1.269359533323403,1.4456928085730705,1.7305983243974448,0.963231763279393,1.2415925742686083,1.4592273482029474,0.9376937674064464,0.9632315534903603,1.2694128825100683,1.459176281673167,0.9630102529457389,0.9633090521787904,1.0581054943635686,1.4924759966813361,-0.011816236126875525,0.3626802777593549,0.9632594604542796,1.5189823596240577,0.8410251168249279,1.269412707348208,1.5930995878512642,0.7519410780219165,1.384800515577679,1.452890734896611,0.9633090648336121,0.9633080850102758,0.7518140113734989,1.5063954379924973,1.4440573683726246,0.9632972754346736,1.6704788850397856,1.4440582602804246,0.7648134185853268,0.9609747709266289,1.449422212098325,0.7519985750300799,0.961029657374495,0.7519788367469988,1.877693674931621,0.9632716632101408,1.6887991059247083,1.458880204822984,0.5671516460081716,1.764589935892515,0.9761135185161236,1.4592236431650079,1.670541994407118,0.7428215730055561,0.9370106948790902,1.4591995656689434,0.9627683712042283,1.058091764286811,1.269408270933587,0.7518934401455684,1.4439870085932063,0.8048333816020385,1.0580625665761692,0.9538616817535506,1.7286354833495448,5.041593166118405,1.381796959500621,1.5496812107391267,1.0636257709923138,1.6705248420269265,-0.025288572352168352,0.963303737429465,1.6705383967464693,1.4592261440540517,0.9325051179043605,1.0581050193102992,0.9632713261212781,1.592923884421429,1.875305485761649,1.2692021556563822,1.2694169069118135,0.9491827676418354,1.2695032751693078,0.9632028010715398,0.9632875099867968,0.5671776439627132,0.9633135091455453,1.2692934272310215,0.9579146997290443,0.7841383790630646,1.2690400692795696,0.9633214794467575,0.9632223655940894,1.2693769734766867,0.9632565975460208,1.4440945463876103,0.8915774194894581,0.7784645746609553,0.7497595468363075,0.9632279771731669,0.5910483606143391,1.7306537350749398,0.5669640524120734,1.444096494123476,1.2778479442571047,0.9631792599451051,0.7519998175933801],\"z\":[-0.5519409899719394,-0.5522895555046939,-0.5236039388197213,-0.1003801017914219,-0.35404697079865854,-0.0522302976770546,-0.6904721057426285,-0.5519474173741942,-0.5521325442399654,-0.5519780883515731,-0.5519410314305392,-0.5519413604833858,-0.2339378459729945,-0.3649911643385117,-0.06238045139167464,-0.20129871739991803,-0.5519747733296917,-0.22228660469340822,-0.5236065372820289,-0.796588101003685,-0.256540879852116,-0.3546703883424995,-0.25012743771182505,-0.627253827720909,-0.6272384741910337,-0.35902115376339216,-0.5520321736894722,-0.5519688986385675,-0.5607784328868619,-0.22179588591047478,-0.5235999566076047,0.09428466426412624,-0.22435861616370475,-0.5236009605939576,-0.5523639197990269,-0.5519618613558096,-0.3143012881265444,-0.5236023666011325,0.09428444114242453,-0.6272438815708044,-0.552042878353738,-0.00406293373034247,-0.07564639858721392,-0.3540610105165619,-0.3650059530661098,-0.25012982839902215,-0.6272352021630386,-0.2502029197398774,-0.5519414324508187,-0.6272366173267119,-0.22178255600328514,-0.5519456338133166,-0.5236004125152769,-0.87129509413688,-0.7277787733243165,-0.3389670477376199,-0.25015750683320964,-0.6272437153393665,-0.3541155783662379,-0.6904499444610446,-0.32622664051307393,-0.3540476885213539,-0.5284355576576992,-0.35404746978011004,-0.5792159424769594,-0.551946108276263,-0.2501464964370568,-0.5236250873150545,-0.26693721164052403,-0.35404893272761273,-0.2203588452488704,-0.06238591388216928,-0.5236448146548514,-0.3540584392662047,-0.35408041494399123,-0.5762107276367835,-0.5236152693764033,-0.12473864999111672,-0.5523006547997084,-0.551944893667605,-0.5519768634016144,-0.32542751097488415,-0.2220162881590754,-0.5236075118358694,-0.5519591573734205,-0.3540467044816068,-0.5236003262721405,-0.551942971098502,-0.5519415747539587,-0.2501727604255535,-0.43885476324311157,-0.7642973569923572,-0.0624052957336949,-0.5519510957555274,-0.5237656590124357,-0.06242586223297925,-0.3254154454800894,-0.6905146667558575,-0.06240135069180415,-0.7580060847688662,-0.5236072040644562,-0.6550749497021013,-0.5236013385165645,-0.06239667591559257,-0.5519483491653407,-0.5519441339709767,-0.06238591388216928,-0.5236052224198418,-0.35405021079127824,-0.5519489827891638,-0.2839033015285932,-0.5519459340520967,-0.551981547009646,-0.5236004881624593,-0.5519517632001952,-0.2621772163861862,-0.551942781499225,-0.5519421794446049,-0.18108692109814375,-0.2990809557551271,-0.5519768522354741,-0.35404728649335687,-0.5236021979355848,-0.5519456992317389,-0.5519423391006566,-0.25012566458392993,-0.4218643827359529,-0.3254197591640584,-0.5522997244043102,-0.2501344728843049,-0.5236096517653844,-0.6141428788861957,-0.5236396070208511,-0.06241855900232791,-0.523612171532809,-0.06252266146638649,-0.5236652710469802,-0.5519438234033278,-0.5519429742059916,-0.551998416087211,-0.056551931118067535,-0.5236074236799917,-0.25032515544641465,-0.06238389114190813,-0.5519534426665883,-0.7078561748032954,-0.052240543560062476,-0.12476097146300444,-0.6549013169511246,-0.5761822462266301,-0.5762062634778012,-0.7345226030306261,-0.6272420348886547,-0.5575314362566611,-0.6272415946525287,-0.24988677783169908,-0.7345348203941949,-0.5236042898461702,-0.2501282565376864,-0.062383473192093135,-0.5519496439950806,-0.5519424966415493,-0.09936017740897844,-0.09709065362436459,-0.5236036919481302,-0.3590979351094855,-0.5519422349746844,0.03272399323120435,-0.5679814213431201,-0.35407879928722147,-0.576418133306635,-0.5255631146882618,-0.5519428407831825,-0.4829229612127006,-0.27898436846403046,-0.5519467695985185,-0.055454575656271654,-0.5236197191652109,-0.5864598587428993,-0.6273012609942299,-0.5519864728048137,-0.2743666403372317,-0.18108914826612746,-0.5562853761864472,-0.5519521193719898,-0.52361643814107,-0.18109799407299282,-0.5521707069717503,-0.5519419740585039,-0.22178313101651068,-0.12473269349320622,0.08218292426409107,-0.1944496126798709,-0.5520250743812455,-0.32552979461450987,-0.3939012227901111,-0.5236020415916234,-0.44650422232653386,-0.2501364438499487,-0.19989053279524172,-0.5761874362153332,-0.5519414167082414,-0.5519416327047413,-0.25023085039153986,-0.08566018474289848,-0.062390374323508115,-0.5519456867857198,-0.482955828703496,-0.06238665996082602,-0.09111039607578933,-0.5526576477561023,-0.26187214189310803,-0.25013479106676645,-0.5556000813207584,-0.250126453638632,-0.757265695385189,-0.5519523124068845,-0.38863928698654954,-0.18112093914256355,-0.052249135839550404,-0.04728466691562478,-0.3929417063820876,-0.18108622912402084,-0.4829043273671257,-0.25108875627834526,-0.26909377990729844,-0.18110853136844518,-0.5519998943828363,-0.22178955874224765,-0.5236120961998533,-0.250169011385561,-0.062393578775591256,-0.4081733438784246,-0.22178768513136762,-0.5532914799181363,-0.03225076691692563,4.859071561449827,-0.1446862127344587,0.028086162069541613,-0.2269686868266949,-0.4829159859072868,0.09504804807087329,-0.5519466475662391,-0.4829088443051445,-0.18108424029482045,-0.5655178790860899,-0.22178194369451695,-0.5519519950273433,-0.44658926881187366,-0.757806541081153,-0.5236286604330584,-0.5236088419358677,-0.558563646080243,-0.5236730823540083,-0.5519535113429005,-0.5519503004795521,-0.05222849250172684,-0.5519438933692378,-0.52376013664355,-0.5528380323586318,-0.3594642969357227,-0.523806224916313,-0.5519599366306795,-0.552085784976449,-0.5236725725770524,-0.5519813917729995,-0.062380406620925546,-0.3020653693426393,-0.35407384789316176,-0.2537095576877081,-0.5520341419342405,-0.3590237508560347,-0.6272339544796676,-0.05258470007976597,-0.062382032202846736,0.21430842339645817,-0.5519598099060131,-0.25012172934920035]},{\"customdata\":[[\"X13\"],[\"Scrypt\"],[\"CryptoNight\"],[\"DPoS\"],[\"Scrypt\"],[\"VeChainThor Authority\"],[\"DPoS\"],[\"CryptoNight\"],[\"Semux BFT consensus\"],[\"Scrypt\"],[\"CryptoNight Heavy\"],[\"DPoS\"],[\"DPoS\"],[\"DPoS\"],[\"DPoS\"],[\"SHA-256\"]],\"hovertemplate\":\"<b>%{hovertext}</b><br><br>Class=%{marker.color}<br>PC 1=%{x}<br>PC 2=%{y}<br>PC 3=%{z}<br>Algorithm=%{customdata[0]}<extra></extra>\",\"hovertext\":[\"EliteCoin\",\"MoonCoin\",\"ByteCoin\",\"ARK\",\"gCn Coin\",\"Vechain\",\"Lamden Tau\",\"TurtleCoin\",\"Semux\",\"Lynx\",\"Qwertycoin\",\"ALAX\",\"Lisk\",\"EOS\",\"Oxycoin\",\"ZEPHYR\"],\"legendgroup\":\"4\",\"marker\":{\"color\":[4,4,4,4,4,4,4,4,4,4,4,4,4,4,4,4],\"coloraxis\":\"coloraxis\",\"symbol\":\"diamond\"},\"mode\":\"markers\",\"name\":\"4\",\"scene\":\"scene\",\"showlegend\":true,\"type\":\"scatter3d\",\"x\":[2.2900409971527944,2.549635233785132,3.853923449603082,3.769204795791611,3.235877230968376,4.332590556483327,3.7740520551393573,8.028479188205743,3.951765172731041,2.214034447971467,3.1473814738183656,3.7862714004385234,3.7695959081724846,3.7794454486623246,3.780687270415185,2.4893652713071037],\"y\":[1.5691935205810092,-1.353049259604272,-2.3318581683741972,2.082747888930138,-1.2007859946784425,2.0284401276896578,2.0826015664159465,-2.817252229503137,2.1577634520967024,0.13819067999674936,-2.0769925999427272,2.0825576131594175,2.0827326821886625,2.0831079755131543,2.0831405818970032,0.8849277227223901],\"z\":[-0.6540540504442058,-0.009952680666760352,0.3540290023647575,-0.0029012619542587597,-0.04856844112910468,3.3922170524086583,-0.0029769692402992027,0.3467881748210162,-0.1313801536246524,-0.3680110563080534,0.38869294152661116,-0.0032202184795115125,-0.0029068221678378698,-0.0031691364110331883,-0.0031998363251623447,-0.00852677231298623]},{\"customdata\":[[\"SHA-256\"],[\"Ethash\"],[\"Scrypt\"],[\"CryptoNight-V7\"],[\"Ethash\"],[\"Equihash\"],[\"Multiple\"],[\"Scrypt\"],[\"X11\"],[\"Scrypt\"],[\"Multiple\"],[\"SHA-256\"],[\"Scrypt\"],[\"Scrypt\"],[\"Quark\"],[\"Groestl\"],[\"Scrypt\"],[\"Scrypt\"],[\"Scrypt\"],[\"X11\"],[\"Multiple\"],[\"SHA-256\"],[\"Scrypt\"],[\"Scrypt\"],[\"Scrypt\"],[\"Scrypt\"],[\"Scrypt\"],[\"NeoScrypt\"],[\"Scrypt\"],[\"Scrypt\"],[\"Scrypt\"],[\"Scrypt\"],[\"SHA-256\"],[\"Scrypt\"],[\"Scrypt\"],[\"Scrypt\"],[\"Scrypt\"],[\"HybridScryptHash256\"],[\"Scrypt\"],[\"Scrypt\"],[\"SHA-256\"],[\"Scrypt\"],[\"Scrypt\"],[\"Scrypt\"],[\"Scrypt\"],[\"SHA-256\"],[\"SHA-256\"],[\"SHA-256\"],[\"SHA-256\"],[\"SHA-256\"],[\"X11\"],[\"Scrypt\"],[\"Lyra2REv2\"],[\"Scrypt\"],[\"SHA-256\"],[\"CryptoNight\"],[\"Scrypt\"],[\"Scrypt\"],[\"Scrypt\"],[\"Scrypt\"],[\"Scrypt\"],[\"Scrypt\"],[\"Stanford Folding\"],[\"Multiple\"],[\"QuBit\"],[\"Scrypt\"],[\"Scrypt\"],[\"M7 POW\"],[\"Scrypt\"],[\"SHA-256\"],[\"Scrypt\"],[\"X11\"],[\"Lyra2RE\"],[\"SHA-256\"],[\"X11\"],[\"Scrypt\"],[\"Scrypt\"],[\"Ethash\"],[\"Blake2b\"],[\"X11\"],[\"SHA-256\"],[\"Scrypt\"],[\"1GB AES Pattern Search\"],[\"Scrypt\"],[\"SHA-256\"],[\"X11\"],[\"Dagger\"],[\"Scrypt\"],[\"X11GOST\"],[\"Scrypt\"],[\"X11\"],[\"Scrypt\"],[\"X11\"],[\"Equihash\"],[\"CryptoNight\"],[\"SHA-256\"],[\"Multiple\"],[\"Scrypt\"],[\"SHA-256\"],[\"Scrypt\"],[\"Lyra2Z\"],[\"Ethash\"],[\"Equihash\"],[\"Scrypt\"],[\"X11\"],[\"X11\"],[\"CryptoNight\"],[\"Scrypt\"],[\"CryptoNight\"],[\"Lyra2RE\"],[\"X11\"],[\"CryptoNight-V7\"],[\"Scrypt\"],[\"X11\"],[\"Equihash\"],[\"Scrypt\"],[\"Lyra2RE\"],[\"Dagger-Hashimoto\"],[\"Scrypt\"],[\"NIST5\"],[\"Scrypt\"],[\"SHA-256\"],[\"Scrypt\"],[\"CryptoNight-V7\"],[\"Argon2d\"],[\"Blake2b\"],[\"Cloverhash\"],[\"CryptoNight\"],[\"X11\"],[\"Scrypt\"],[\"Scrypt\"],[\"X11\"],[\"X11\"],[\"CryptoNight\"],[\"Time Travel\"],[\"Keccak\"],[\"X11\"],[\"SHA-256\"],[\"Scrypt\"],[\"Scrypt\"],[\"Scrypt\"],[\"Scrypt\"],[\"Scrypt\"],[\"Scrypt\"],[\"CryptoNight\"],[\"Equihash\"],[\"X11\"],[\"NeoScrypt\"],[\"Equihash\"],[\"Dagger\"],[\"Scrypt\"],[\"X11\"],[\"NeoScrypt\"],[\"Ethash\"],[\"NeoScrypt\"],[\"Multiple\"],[\"CryptoNight\"],[\"CryptoNight\"],[\"Ethash\"],[\"X11\"],[\"CryptoNight-V7\"],[\"Scrypt\"],[\"BLAKE256\"],[\"X11\"],[\"NeoScrypt\"],[\"NeoScrypt\"],[\"Scrypt\"],[\"X11\"],[\"SHA-256\"],[\"C11\"],[\"SkunkHash\"],[\"CryptoNight\"],[\"Scrypt\"],[\"Dagger\"],[\"Lyra2REv2\"],[\"Scrypt\"],[\"Scrypt\"],[\"X11\"],[\"Ethash\"],[\"CryptoNight\"],[\"Scrypt\"],[\"IMesh\"],[\"Equihash\"],[\"Lyra2Z\"],[\"X11\"],[\"CryptoNight\"],[\"NIST5\"],[\"Lyra2RE\"],[\"Tribus\"],[\"Lyra2Z\"],[\"CryptoNight\"],[\"CryptoNight Heavy\"],[\"CryptoNight\"],[\"Jump Consistent Hash\"],[\"CryptoNight\"],[\"X16R\"],[\"HMQ1725\"],[\"X11\"],[\"Scrypt\"],[\"CryptoNight-V7\"],[\"Cryptonight-GPU\"],[\"XEVAN\"],[\"SHA-256\"],[\"X11\"],[\"X16R\"],[\"Equihash\"],[\"Lyra2Z\"],[\"SHA-256\"],[\"CryptoNight\"],[\"Blake\"],[\"Blake\"],[\"Exosis\"],[\"Scrypt\"],[\"Equihash\"],[\"Equihash\"],[\"QuBit\"],[\"SHA-256\"],[\"X13\"],[\"SHA-256\"],[\"Scrypt\"],[\"NeoScrypt\"],[\"Blake\"],[\"Scrypt\"],[\"SHA-256\"],[\"Scrypt\"],[\"Groestl\"],[\"Scrypt\"],[\"Scrypt\"],[\"Multiple\"],[\"Equihash+Scrypt\"],[\"Ethash\"],[\"CryptoNight\"],[\"Equihash\"]],\"hovertemplate\":\"<b>%{hovertext}</b><br><br>Class=%{marker.color}<br>PC 1=%{x}<br>PC 2=%{y}<br>PC 3=%{z}<br>Algorithm=%{customdata[0]}<extra></extra>\",\"hovertext\":[\"Bitcoin\",\"Ethereum\",\"Litecoin\",\"Monero\",\"Ethereum Classic\",\"ZCash\",\"DigiByte\",\"ProsperCoin\",\"Spreadcoin\",\"Argentum\",\"MyriadCoin\",\"ZetaCoin\",\"SexCoin\",\"Quatloo\",\"QuarkCoin\",\"Riecoin\",\"Digitalcoin \",\"Catcoin\",\"CannaCoin\",\"CryptCoin\",\"Verge\",\"DevCoin\",\"EarthCoin\",\"E-Gulden\",\"Einsteinium\",\"Emerald\",\"Franko\",\"FeatherCoin\",\"GrandCoin\",\"GlobalCoin\",\"GoldCoin\",\"Infinite Coin\",\"IXcoin\",\"KrugerCoin\",\"LuckyCoin\",\"Litebar \",\"MegaCoin\",\"MediterraneanCoin\",\"MinCoin\",\"NobleCoin\",\"Namecoin\",\"NyanCoin\",\"RonPaulCoin\",\"StableCoin\",\"SmartCoin\",\"SysCoin\",\"TigerCoin\",\"TerraCoin\",\"UnbreakableCoin\",\"Unobtanium\",\"UroCoin\",\"ViaCoin\",\"Vertcoin\",\"WorldCoin\",\"JouleCoin\",\"DigitalNote \",\"MonaCoin\",\"Gulden\",\"PesetaCoin\",\"Wild Beast Coin\",\"Flo\",\"ArtByte\",\"Folding Coin\",\"Unitus\",\"CypherPunkCoin\",\"OmniCron\",\"GreenCoin\",\"Cryptonite\",\"MasterCoin\",\"SoonCoin\",\"1Credit\",\"MarsCoin \",\"Crypto\",\"Anarchists Prime\",\"BowsCoin\",\"Song Coin\",\"BitZeny\",\"Expanse\",\"Siacoin\",\"MindCoin\",\"I0coin\",\"Revolution VR\",\"HOdlcoin\",\"Gamecredits\",\"CarpeDiemCoin\",\"Adzcoin\",\"SoilCoin\",\"YoCoin\",\"SibCoin\",\"Francs\",\"BolivarCoin\",\"Omni\",\"PizzaCoin\",\"Komodo\",\"Karbo\",\"ZayedCoin\",\"Circuits of Value\",\"DopeCoin\",\"DollarCoin\",\"Shilling\",\"ZCoin\",\"Elementrem\",\"ZClassic\",\"KiloCoin\",\"ArtexCoin\",\"Kurrent\",\"Cannabis Industry Coin\",\"OsmiumCoin\",\"Bikercoins\",\"HexxCoin\",\"PacCoin\",\"Citadel\",\"BeaverCoin\",\"VaultCoin\",\"Zero\",\"Canada eCoin\",\"Zoin\",\"DubaiCoin\",\"EB3coin\",\"Coinonat\",\"BenjiRolls\",\"ILCoin\",\"EquiTrader\",\"Quantum Resistant Ledger\",\"Dynamic\",\"Nano\",\"ChanCoin\",\"Dinastycoin\",\"DigitalPrice\",\"Unify\",\"SocialCoin\",\"ArcticCoin\",\"DAS\",\"LeviarCoin\",\"Bitcore\",\"SmartCash\",\"Onix\",\"Bitcoin Cash\",\"Sojourn Coin\",\"NewYorkCoin\",\"FrazCoin\",\"Kronecoin\",\"AdCoin\",\"Linx\",\"Sumokoin\",\"BitcoinZ\",\"Elements\",\"VIVO Coin\",\"Bitcoin Gold\",\"Pirl\",\"eBoost\",\"Pura\",\"Innova\",\"Ellaism\",\"GoByte\",\"SHIELD\",\"UltraNote\",\"BitCoal\",\"DaxxCoin\",\"AC3\",\"Lethean\",\"PopularCoin\",\"Photon\",\"Sucre\",\"SparksPay\",\"GunCoin\",\"IrishCoin\",\"Pioneer Coin\",\"UnitedBitcoin\",\"Interzone\",\"MUNcoin\",\"Niobio Cash\",\"ShareChain\",\"Travelflex\",\"KREDS\",\"BitFlip\",\"LottoCoin\",\"Crypto Improvement Fund\",\"Callisto Network\",\"BitTube\",\"Poseidon\",\"Aidos Kuneen\",\"Bitrolium\",\"Alpenschillling\",\"FuturoCoin\",\"Monero Classic\",\"Jumpcoin\",\"Infinex\",\"KEYCO\",\"GINcoin\",\"PlatinCoin\",\"Loki\",\"Newton Coin\",\"MassGrid\",\"PluraCoin\",\"Motion\",\"PlusOneCoin\",\"Axe\",\"HexCoin\",\"Webchain\",\"Ryo\",\"Urals Coin\",\"Project Pai\",\"Azart\",\"Xchange\",\"CrypticCoin\",\"Actinium\",\"Bitcoin SV\",\"FREDEnergy\",\"Universal Molecule\",\"Lithium\",\"Exosis\",\"Block-Logic\",\"Beam\",\"Bithereum\",\"SLICE\",\"BLAST\",\"Bitcoin Rhodium\",\"GlobalToken\",\"SolarCoin\",\"UFO Coin\",\"BlakeCoin\",\"Crypto Escudo\",\"Crown Coin\",\"SmileyCoin\",\"Groestlcoin\",\"Bata\",\"Pakcoin\",\"JoinCoin\",\"Vollar\",\"Reality Clash\",\"Beldex\",\"Horizen\"],\"legendgroup\":\"1\",\"marker\":{\"color\":[1,1,1,1,1,1,1,1,1,1,1,1,1,1,1,1,1,1,1,1,1,1,1,1,1,1,1,1,1,1,1,1,1,1,1,1,1,1,1,1,1,1,1,1,1,1,1,1,1,1,1,1,1,1,1,1,1,1,1,1,1,1,1,1,1,1,1,1,1,1,1,1,1,1,1,1,1,1,1,1,1,1,1,1,1,1,1,1,1,1,1,1,1,1,1,1,1,1,1,1,1,1,1,1,1,1,1,1,1,1,1,1,1,1,1,1,1,1,1,1,1,1,1,1,1,1,1,1,1,1,1,1,1,1,1,1,1,1,1,1,1,1,1,1,1,1,1,1,1,1,1,1,1,1,1,1,1,1,1,1,1,1,1,1,1,1,1,1,1,1,1,1,1,1,1,1,1,1,1,1,1,1,1,1,1,1,1,1,1,1,1,1,1,1,1,1,1,1,1,1,1,1,1,1,1,1,1,1,1,1,1,1,1,1,1,1,1,1,1,1,1,1,1,1,1,1,1,1,1,1,1,1,1],\"coloraxis\":\"coloraxis\",\"symbol\":\"square\"},\"mode\":\"markers\",\"name\":\"1\",\"scene\":\"scene\",\"showlegend\":true,\"type\":\"scatter3d\",\"x\":[-0.1435613312540197,-0.1337788776945907,-0.16636770225060815,-0.12930212667208654,-0.13222361064530733,-0.1378414898270524,0.1670732905047387,-0.1675118886884629,-0.2185799705097141,-0.16712910083813837,-0.0858817369058013,-0.14065149666911245,-0.16438939428605756,-0.16693346486553295,-0.2246251598421201,-0.20196364013271909,-0.16698218087522074,-0.1674941871367248,-0.1675804895669489,-0.21866915079582913,0.19077616137242476,0.23360806316159632,0.08070380817907533,-0.16732724328233756,-0.1629404106092212,-0.16726664080120082,-0.16763738955127175,-0.16452486896404747,-0.14689679180620627,-0.16643465995484008,-0.16671159877075103,1.5781331022294813,-0.1435227713284401,-0.16400582003581984,-0.1673536371876777,-0.1677078143580993,-0.16696839216698892,-0.16903815715399026,-0.16758929219738858,-0.032731628369939814,-0.14360023994360493,-0.1612645782678114,-0.1675687639193541,-0.16566643276586682,-0.16705642555485206,-0.13077524154474449,-0.14306497142428987,-0.14335165445512157,-0.14333464535100574,-0.14392432425266055,-0.21884273909228083,-0.16728577046725898,-0.17006288561653013,-0.16439408942331069,-0.14313214447316652,0.45899608093327754,-0.1661553811716121,-0.15078140290306116,-0.16487650125558811,-0.1677100187840683,-0.16474179165656144,-0.1509900665482068,-0.10269672209072869,-0.11982745880656788,-0.1651270827374179,-0.1675833280167751,-0.040747051048926425,-0.09367694704385714,-0.16771889639456466,-0.14362796668717195,0.48330586175127155,-0.2182310238145288,-0.13715607927430423,-0.1433682829545437,-0.2185154096971854,-0.16584597104268098,-0.1650396633698259,-0.13484437355631518,0.379059022285745,-0.21855074502903363,-0.14352389162816104,-0.16368400957591467,-0.16242025084999878,-0.16628482057217656,0.27420906926188454,-0.21771295669441654,-0.14359219222264544,-0.16653173938327154,-0.19964195584262354,-0.16750917941078866,-0.2185140498157783,-0.16771895478446128,-0.21866374683693734,-0.23659064063751983,0.3041777418316428,-0.14378350863424313,-0.09993557033768162,-0.16489071467878874,-0.14374221331996753,-0.16738295103263912,-0.13891772374137276,-0.13458699562864385,-0.13786306739657747,-0.0945724119905584,-0.20527127017235786,-0.21649573524858978,0.30417212298911855,-0.16770072466899738,0.30430260271245774,-0.1376955720322229,0.4953379752917885,-0.12806897056772049,-0.1676690693235701,-0.21141046215539155,-0.1378754221186795,-0.16580568430197828,-0.1374144595912251,-0.15751131256864773,-0.13864334269750692,-0.18864007282794654,-0.16723222574831556,-0.11016858834855826,-0.1670545928222663,-0.12792701627766398,-0.1724406663914338,-0.0205126945153307,-0.14806987684478365,0.34022939508409505,-0.21772132492313628,-0.16737330399138614,-0.16713708208048264,-0.2181153090395736,-0.21869173202918943,0.3045664097280629,-0.15357170607812,-0.12348393407574078,-0.2095798571371515,-0.14356049699768408,-0.09342193895630789,1.5761094935889455,-0.16747097237881106,-0.16692357718117354,-0.1666250885709681,-0.16661204336435773,0.3047497058825614,0.07407613096995704,-0.1731608644655195,-0.169205234888403,-0.13772175205678583,-0.14235347607330928,-0.16580389672734727,-0.21424409221791144,-0.16905091799131455,-0.13295502649229937,-0.16915094827309307,-0.1100767054386356,1.1406367126946595,0.30415491887744905,-0.05797543430618402,-0.2139860150271014,-0.11705841657230606,-0.0840085222599455,1.077548521693699,-0.2186657775635521,-0.16920280169728752,-0.16225309105660352,-0.16672331404902202,-0.21859131925689862,-0.14353993253530364,-0.19772403965772387,-0.13126995607805725,0.3080224731548141,0.02497509575663897,-0.14185763343446336,-0.15564668250568417,-0.16729600591497498,0.13923083474846465,-0.21274263559038248,-0.08607549436301962,0.31206419157936083,-0.16753259549547939,-0.10832463187167833,-0.1367146552925887,-0.13670511324252474,-0.21776202296325015,0.3043371080832669,-0.18869944229261146,-0.13754108314477995,-0.14442368426962907,-0.13900195284213693,0.308258505525185,0.6293168613754906,2.1096331148557086,-0.1365188623631988,0.31791781822015475,-0.16908478951581052,-0.12526670870153436,-0.21864796960737148,-0.16755713182335627,-0.11693806292230104,-0.18150554344515332,-0.06788043580520331,-0.10346029804294145,-0.2186193850669858,-0.1685135095555827,-0.03265546920538271,-0.13840076000031248,-0.14356053449459932,0.3839565894362596,-0.15120680325891775,-0.15159816022688713,-0.15246281630353967,-0.16645139117215088,-0.13578525038679928,-0.13755486997715877,-0.1643394357413206,-0.1428379717098378,-0.11390682954584262,-0.141707913461253,0.5271488454242492,-0.09450253985037858,-0.10214979357838198,-0.1511403779639619,-0.143351026054553,0.5468435544817888,-0.2015254285022221,-0.16763384026490386,-0.1655931752790121,-0.12056100196944272,-0.16177764607019704,-0.13462009470163513,0.3258731793215667,-0.13784254484697336],\"y\":[-1.3290543872085905,-1.9080177608015512,-1.1442615384914328,-2.0980204964244895,-1.9081301383549834,-1.9214812100495813,-1.8359713198205676,-1.144245617063744,-0.8381281678230521,-1.144266938641387,-1.82875091105913,-1.329086543856871,-1.1443307063149748,-1.1442880671117164,-0.4370547795918372,-1.2871785161897895,-1.1442515286408534,-1.144245152275952,-1.1442416837272824,-0.838129050239184,-1.8321059255565435,-1.3344571722374527,-1.1475623959228554,-1.144240768848633,-1.1443289886142263,-1.144247203112835,-1.144241788467177,-1.516581649483337,-1.1447254707171883,-1.1442530823236965,-1.1442619923189488,-1.1644959911370432,-1.329053374744647,-1.1443318857175935,-1.144240732279988,-1.1442364250071762,-1.144246667936202,-2.307166602907214,-1.1442396239423707,-1.1516352442962967,-1.329055408829971,-1.1443121327347114,-1.1442471104307321,-1.1443642373807406,-1.1442556916536877,-1.3293512192869632,-1.329060332429239,-1.32906420315057,-1.329091480989208,-1.3290487792716692,-0.8381204754971263,-1.1442411390825766,-1.1705407882935386,-1.1443420804662816,-1.329060628271904,-2.2937086066940573,-1.144271372553721,-1.1450167173460983,-1.1442824922386523,-1.1442374153054153,-1.144274296016878,-1.1445260745599124,-2.153854728292336,-1.828183039016969,-1.4447852728432407,-1.1442346311309217,-1.1481977511339272,-1.9260970439313394,-1.1442361830050234,-1.3290561368481766,-1.194264182371451,-0.8381284902447024,-2.1663494762848012,-1.3290732197494468,-0.8381272022472068,-1.144339942974033,-1.144347780362279,-1.908058072164191,-2.0240339615719045,-0.8381244820900415,-1.32905340416024,-1.1442830014762182,-2.210057758463966,-1.1442593622758777,-1.333848043903469,-0.8381520965339543,-2.180735714417104,-1.1443273875175213,-2.6152436166075224,-1.144244816335869,-0.8381300849035646,-1.1442361823275011,-0.8381340154825887,-1.0492190418767566,-2.290485044979711,-1.3290520027876656,-1.8285362485689578,-1.14430738989931,-1.3290515768091078,-1.144248797877103,-2.1320015162882386,-1.9080580987859774,-1.9214817766095653,-1.149611038005179,-0.8381289261851995,-0.8382251971321729,-2.29049321801028,-1.144237234224268,-2.290492710380456,-2.166322938482942,-0.8923273727364657,-2.0981230918449167,-1.1442368741600755,-0.8386549176345514,-1.92147918264359,-1.1442584550954429,-2.166323582840927,-2.432719703544349,-1.1463906598896956,-0.6546559578338785,-1.1442488679313352,-1.329986252686316,-1.1442708190174524,-2.09806099731354,-2.4088238839771345,-2.034773741173533,-2.311815297433454,-2.2909903258961304,-0.838163989708147,-1.1442407210292342,-1.1442751737012422,-0.8381451508816586,-0.8381302997838561,-2.2905069417562536,-2.2256831822847465,-1.3045169556922875,-0.8386798106956399,-1.3290543653035976,-1.1499456254827873,-1.0984482114361747,-1.1442438131378272,-1.1442761340413359,-1.1442799701076112,-1.144279627580986,-2.290527583574964,-1.931222993610382,-0.838234274473865,-1.5164790978492464,-1.9214780661074724,-2.180795341788663,-1.1442584081592826,-0.8382550860366356,-1.516488178598421,-1.9082004144102376,-1.5164811744864135,-1.828408544338451,-2.3305301390930557,-2.2904874682162704,-1.9133233042729727,-0.8383942278619199,-2.098428226983627,-1.1456857097798339,-1.455414472668663,-0.8381302749317571,-1.5164746564172693,-1.5166416525159752,-1.1442562839401174,-0.8381306545778859,-1.3290532168660536,-1.2665231300223998,-2.180595042489009,-2.2906219408252464,-1.1464720916008402,-2.1807412416343452,-1.170903527662531,-1.1442538108747988,-1.1496057445466934,-0.8383251010453562,-1.9115075573161924,-2.2910002660426017,-1.14424616076021,-1.8763330968952296,-1.9214873728152089,-2.132146683962446,-0.8381650583123285,-2.29048698907822,-0.6546376338871597,-2.1663307598209864,-2.1155570921168185,-2.131995775344782,-2.290808355658949,-2.0086310094344553,-2.3773167768208046,-2.2591319927453752,-2.2908465679802767,-1.131409288584867,-2.0230219630740276,-0.8381306828589009,-1.1442476113975608,-2.0989726381430778,-2.4412358294504966,-0.5145238625530645,-1.329518277547387,-0.8381328506802359,-1.1314511413878265,-1.924248919287699,-2.1320336148004024,-1.32905436628815,-2.294278096713555,-2.22270644239978,-2.2226584303447243,-2.128365113089601,-1.1442900011662904,-1.921603634606194,-1.921480897035386,-1.4448375507440074,-1.3290667664308855,-0.37689348190609023,-1.3291129720378385,-1.197563504733901,-1.5174163006747206,-2.2264487976459506,-1.1445300212710312,-1.329064186650722,-1.1619530722927551,-1.287182331516615,-1.1442371456830425,-1.1443127017020036,-1.8282043424368923,-2.4833207029601496,-1.9080577147236117,-2.2909296835724398,-1.9214812377511277],\"z\":[0.209930133937326,0.3443137489873089,0.01201725838982574,0.4305939354251255,0.3443000102282521,0.35721740261559237,0.3518360023442558,0.01203813158103487,0.040377600338845965,0.012033728100575061,0.35585380339094075,0.2098757062663985,0.011987884007266775,0.012033127659800115,0.08098742249327999,0.19897239792311844,0.012028232855346958,0.012037693969020812,0.012038902647883433,0.04037956969113103,0.3507269983200463,0.20307440842928032,0.0074878557988444895,0.012033566837262677,0.011957921627239944,0.012033362978245728,0.012040085251048164,0.20487994655882516,0.011693179567272905,0.012017266359925793,0.012024376995950875,-0.020458987373425035,0.20992918067136435,0.011980215926858185,0.012034101671925219,0.01204066303733557,0.01202716644130629,0.4294155315479323,0.012038750789605108,0.010468670168641331,0.20993109582531275,0.011920870340202751,0.012039537632024346,0.012019454537884323,0.012030425309567163,0.20971605757723075,0.20992092383829322,0.20992742138037818,0.20993147222883207,0.2099366661442973,0.0403817430805217,0.012032776893585014,0.29487507160443094,0.011989814596576524,0.2099223477265681,0.4174282523751142,0.012014494581879991,0.011819735322661347,0.011990087507851506,0.012040867912730293,0.011986005840097111,0.011744880349069797,0.3910141213852976,0.35645766471529367,0.2649128163490556,0.012037823370876857,0.01007849037130263,0.3557964888398278,0.012040851045587211,0.2099317812768638,0.006771709805868946,0.04037050346159015,0.36073538077022116,0.2099292162274243,0.04037612195429762,0.012019214589126661,0.01200395974840024,0.3443420791532513,0.2748172659428162,0.04037640716842345,0.20992920836705037,0.011965739039723026,0.5002444215891797,0.012015209415890708,0.20214437596331672,0.040363696986108775,0.4037868565132525,0.012031239018103159,0.619392395200825,0.012037946936257343,0.04037655900333038,0.01204085213255247,0.04038025976447782,0.24192370020616075,0.4200801288026107,0.20993430113446854,0.3561071041816335,0.011994394142486512,0.2099333864157224,0.012036003028229623,0.40934998182586013,0.34433681054086257,0.35721793604925695,0.01140914346631871,0.04010506708021771,0.04035054926563384,0.42008156204565367,0.012040648299641158,0.4200788070358822,0.3607421534047194,0.03449268884921275,0.43058521811588313,0.012039941705631938,0.040315671638306426,0.35721777081110573,0.012005247034921139,0.36073649817019654,0.5387306764778701,0.011792649335687052,-0.012204168124086765,0.012032926415019999,0.20939630562274175,0.012032827472759114,0.4305722954164352,0.5616694068765731,0.28473538814604044,0.43598759848182705,0.4194230286582716,0.04036578653305877,0.012034502771561992,0.01203521974609939,0.04037081980465849,0.04038023383725492,0.420075697624455,0.4670046116578752,0.15486914123471435,0.040282182704960645,0.20993011331310915,0.011439535292951719,-0.031069581047304645,0.012037002394419242,0.012031000549361221,0.012025504081181878,0.012025181581820052,0.4200752715035577,0.35444697779435425,0.039464211020481234,0.20495929397490206,0.3572144424973145,0.40377109549587614,0.0120052028430815,0.04030924023894996,0.20495759700678856,0.3443263287359525,0.20495851671992124,0.35629426990737173,0.4094019711297862,0.42008098719151,0.3436164298228485,0.04032639351740313,0.4304088562862241,0.010559651940550556,0.22353416037171348,0.040379698099588766,0.20495852782097254,0.2048430817738381,0.012023696371341574,0.04037823389957312,0.20992950679095748,0.17008043030210213,0.5185757213023019,0.4200234400110083,0.008453728799285172,0.403752211996774,0.29463822847748206,0.012035030268211547,0.00661835873356191,0.04028977174997869,0.34389927625108874,0.4200016527786969,0.012038643487994091,0.3818102660114147,0.35719531105598057,0.40932806438448033,0.040366792656791016,0.4200771774038036,-0.012205907069676966,0.36074024979777486,0.3366861944675018,0.40935078154118476,0.4200486690165732,0.4292553551579683,0.3970957793142523,0.515406276126093,0.4198569413216738,0.1710525015346597,0.40840098616058745,0.040379399057352466,0.012039380119989495,0.4304941921218779,0.5232100914611808,0.11746493062700199,0.20918339869020058,0.040379163067206215,0.17104754764740018,0.3555088253655566,0.409344567563737,0.20993011424009564,0.41905743387903244,0.45844030661210994,0.45844058106239466,0.3463205243784543,0.0120235633283876,0.357195020787015,0.357211480147654,0.2649051110852638,0.20991731095403834,-0.06325231501093972,0.20990161137802954,0.006405605858536263,0.20358000877871862,0.4580388342680935,0.011748596299081161,0.20992740584526348,0.0002589420162320925,0.19896403560227652,0.012039263757990632,0.012009642141235559,0.35647612859847555,0.4015809547502242,0.3443374267013271,0.419707364419542,0.3572174286974497]},{\"customdata\":[[\"Proof-of-BibleHash\"],[\"SHA-256 + Hive\"],[\"Proof-of-Authority\"],[\"Leased POS\"]],\"hovertemplate\":\"<b>%{hovertext}</b><br><br>Class=%{marker.color}<br>PC 1=%{x}<br>PC 2=%{y}<br>PC 3=%{z}<br>Algorithm=%{customdata[0]}<extra></extra>\",\"hovertext\":[\"BiblePay\",\"LitecoinCash\",\"Poa Network\",\"Waves\"],\"legendgroup\":\"3\",\"marker\":{\"color\":[3,3,3,3],\"coloraxis\":\"coloraxis\",\"symbol\":\"x\"},\"mode\":\"markers\",\"name\":\"3\",\"scene\":\"scene\",\"showlegend\":true,\"type\":\"scatter3d\",\"x\":[-0.23170149659964692,-0.2519340058241879,-0.3718114107313702,-0.5007612371766499],\"y\":[2.9034064591333792,5.577289475303652,3.385345470317351,2.2363969272424815],\"z\":[16.198320864451677,7.810957280553576,17.755288926919015,17.938331401039008]},{\"customdata\":[[\"TRC10\"]],\"hovertemplate\":\"<b>%{hovertext}</b><br><br>Class=%{marker.color}<br>PC 1=%{x}<br>PC 2=%{y}<br>PC 3=%{z}<br>Algorithm=%{customdata[0]}<extra></extra>\",\"hovertext\":[\"BitTorrent\"],\"legendgroup\":\"2\",\"marker\":{\"color\":[2],\"coloraxis\":\"coloraxis\",\"symbol\":\"cross\"},\"mode\":\"markers\",\"name\":\"2\",\"scene\":\"scene\",\"showlegend\":true,\"type\":\"scatter3d\",\"x\":[34.028848549540136],\"y\":[1.651402246240317],\"z\":[-0.7389525599171739]}],                        {\"coloraxis\":{\"colorbar\":{\"title\":{\"text\":\"Class\"}},\"colorscale\":[[0.0,\"#0d0887\"],[0.1111111111111111,\"#46039f\"],[0.2222222222222222,\"#7201a8\"],[0.3333333333333333,\"#9c179e\"],[0.4444444444444444,\"#bd3786\"],[0.5555555555555556,\"#d8576b\"],[0.6666666666666666,\"#ed7953\"],[0.7777777777777778,\"#fb9f3a\"],[0.8888888888888888,\"#fdca26\"],[1.0,\"#f0f921\"]]},\"legend\":{\"title\":{\"text\":\"Class\"},\"tracegroupgap\":0,\"x\":0,\"y\":1},\"margin\":{\"t\":60},\"scene\":{\"domain\":{\"x\":[0.0,1.0],\"y\":[0.0,1.0]},\"xaxis\":{\"title\":{\"text\":\"PC 1\"}},\"yaxis\":{\"title\":{\"text\":\"PC 2\"}},\"zaxis\":{\"title\":{\"text\":\"PC 3\"}}},\"template\":{\"data\":{\"bar\":[{\"error_x\":{\"color\":\"#2a3f5f\"},\"error_y\":{\"color\":\"#2a3f5f\"},\"marker\":{\"line\":{\"color\":\"#E5ECF6\",\"width\":0.5},\"pattern\":{\"fillmode\":\"overlay\",\"size\":10,\"solidity\":0.2}},\"type\":\"bar\"}],\"barpolar\":[{\"marker\":{\"line\":{\"color\":\"#E5ECF6\",\"width\":0.5},\"pattern\":{\"fillmode\":\"overlay\",\"size\":10,\"solidity\":0.2}},\"type\":\"barpolar\"}],\"carpet\":[{\"aaxis\":{\"endlinecolor\":\"#2a3f5f\",\"gridcolor\":\"white\",\"linecolor\":\"white\",\"minorgridcolor\":\"white\",\"startlinecolor\":\"#2a3f5f\"},\"baxis\":{\"endlinecolor\":\"#2a3f5f\",\"gridcolor\":\"white\",\"linecolor\":\"white\",\"minorgridcolor\":\"white\",\"startlinecolor\":\"#2a3f5f\"},\"type\":\"carpet\"}],\"choropleth\":[{\"colorbar\":{\"outlinewidth\":0,\"ticks\":\"\"},\"type\":\"choropleth\"}],\"contour\":[{\"colorbar\":{\"outlinewidth\":0,\"ticks\":\"\"},\"colorscale\":[[0.0,\"#0d0887\"],[0.1111111111111111,\"#46039f\"],[0.2222222222222222,\"#7201a8\"],[0.3333333333333333,\"#9c179e\"],[0.4444444444444444,\"#bd3786\"],[0.5555555555555556,\"#d8576b\"],[0.6666666666666666,\"#ed7953\"],[0.7777777777777778,\"#fb9f3a\"],[0.8888888888888888,\"#fdca26\"],[1.0,\"#f0f921\"]],\"type\":\"contour\"}],\"contourcarpet\":[{\"colorbar\":{\"outlinewidth\":0,\"ticks\":\"\"},\"type\":\"contourcarpet\"}],\"heatmap\":[{\"colorbar\":{\"outlinewidth\":0,\"ticks\":\"\"},\"colorscale\":[[0.0,\"#0d0887\"],[0.1111111111111111,\"#46039f\"],[0.2222222222222222,\"#7201a8\"],[0.3333333333333333,\"#9c179e\"],[0.4444444444444444,\"#bd3786\"],[0.5555555555555556,\"#d8576b\"],[0.6666666666666666,\"#ed7953\"],[0.7777777777777778,\"#fb9f3a\"],[0.8888888888888888,\"#fdca26\"],[1.0,\"#f0f921\"]],\"type\":\"heatmap\"}],\"heatmapgl\":[{\"colorbar\":{\"outlinewidth\":0,\"ticks\":\"\"},\"colorscale\":[[0.0,\"#0d0887\"],[0.1111111111111111,\"#46039f\"],[0.2222222222222222,\"#7201a8\"],[0.3333333333333333,\"#9c179e\"],[0.4444444444444444,\"#bd3786\"],[0.5555555555555556,\"#d8576b\"],[0.6666666666666666,\"#ed7953\"],[0.7777777777777778,\"#fb9f3a\"],[0.8888888888888888,\"#fdca26\"],[1.0,\"#f0f921\"]],\"type\":\"heatmapgl\"}],\"histogram\":[{\"marker\":{\"pattern\":{\"fillmode\":\"overlay\",\"size\":10,\"solidity\":0.2}},\"type\":\"histogram\"}],\"histogram2d\":[{\"colorbar\":{\"outlinewidth\":0,\"ticks\":\"\"},\"colorscale\":[[0.0,\"#0d0887\"],[0.1111111111111111,\"#46039f\"],[0.2222222222222222,\"#7201a8\"],[0.3333333333333333,\"#9c179e\"],[0.4444444444444444,\"#bd3786\"],[0.5555555555555556,\"#d8576b\"],[0.6666666666666666,\"#ed7953\"],[0.7777777777777778,\"#fb9f3a\"],[0.8888888888888888,\"#fdca26\"],[1.0,\"#f0f921\"]],\"type\":\"histogram2d\"}],\"histogram2dcontour\":[{\"colorbar\":{\"outlinewidth\":0,\"ticks\":\"\"},\"colorscale\":[[0.0,\"#0d0887\"],[0.1111111111111111,\"#46039f\"],[0.2222222222222222,\"#7201a8\"],[0.3333333333333333,\"#9c179e\"],[0.4444444444444444,\"#bd3786\"],[0.5555555555555556,\"#d8576b\"],[0.6666666666666666,\"#ed7953\"],[0.7777777777777778,\"#fb9f3a\"],[0.8888888888888888,\"#fdca26\"],[1.0,\"#f0f921\"]],\"type\":\"histogram2dcontour\"}],\"mesh3d\":[{\"colorbar\":{\"outlinewidth\":0,\"ticks\":\"\"},\"type\":\"mesh3d\"}],\"parcoords\":[{\"line\":{\"colorbar\":{\"outlinewidth\":0,\"ticks\":\"\"}},\"type\":\"parcoords\"}],\"pie\":[{\"automargin\":true,\"type\":\"pie\"}],\"scatter\":[{\"marker\":{\"colorbar\":{\"outlinewidth\":0,\"ticks\":\"\"}},\"type\":\"scatter\"}],\"scatter3d\":[{\"line\":{\"colorbar\":{\"outlinewidth\":0,\"ticks\":\"\"}},\"marker\":{\"colorbar\":{\"outlinewidth\":0,\"ticks\":\"\"}},\"type\":\"scatter3d\"}],\"scattercarpet\":[{\"marker\":{\"colorbar\":{\"outlinewidth\":0,\"ticks\":\"\"}},\"type\":\"scattercarpet\"}],\"scattergeo\":[{\"marker\":{\"colorbar\":{\"outlinewidth\":0,\"ticks\":\"\"}},\"type\":\"scattergeo\"}],\"scattergl\":[{\"marker\":{\"colorbar\":{\"outlinewidth\":0,\"ticks\":\"\"}},\"type\":\"scattergl\"}],\"scattermapbox\":[{\"marker\":{\"colorbar\":{\"outlinewidth\":0,\"ticks\":\"\"}},\"type\":\"scattermapbox\"}],\"scatterpolar\":[{\"marker\":{\"colorbar\":{\"outlinewidth\":0,\"ticks\":\"\"}},\"type\":\"scatterpolar\"}],\"scatterpolargl\":[{\"marker\":{\"colorbar\":{\"outlinewidth\":0,\"ticks\":\"\"}},\"type\":\"scatterpolargl\"}],\"scatterternary\":[{\"marker\":{\"colorbar\":{\"outlinewidth\":0,\"ticks\":\"\"}},\"type\":\"scatterternary\"}],\"surface\":[{\"colorbar\":{\"outlinewidth\":0,\"ticks\":\"\"},\"colorscale\":[[0.0,\"#0d0887\"],[0.1111111111111111,\"#46039f\"],[0.2222222222222222,\"#7201a8\"],[0.3333333333333333,\"#9c179e\"],[0.4444444444444444,\"#bd3786\"],[0.5555555555555556,\"#d8576b\"],[0.6666666666666666,\"#ed7953\"],[0.7777777777777778,\"#fb9f3a\"],[0.8888888888888888,\"#fdca26\"],[1.0,\"#f0f921\"]],\"type\":\"surface\"}],\"table\":[{\"cells\":{\"fill\":{\"color\":\"#EBF0F8\"},\"line\":{\"color\":\"white\"}},\"header\":{\"fill\":{\"color\":\"#C8D4E3\"},\"line\":{\"color\":\"white\"}},\"type\":\"table\"}]},\"layout\":{\"annotationdefaults\":{\"arrowcolor\":\"#2a3f5f\",\"arrowhead\":0,\"arrowwidth\":1},\"autotypenumbers\":\"strict\",\"coloraxis\":{\"colorbar\":{\"outlinewidth\":0,\"ticks\":\"\"}},\"colorscale\":{\"diverging\":[[0,\"#8e0152\"],[0.1,\"#c51b7d\"],[0.2,\"#de77ae\"],[0.3,\"#f1b6da\"],[0.4,\"#fde0ef\"],[0.5,\"#f7f7f7\"],[0.6,\"#e6f5d0\"],[0.7,\"#b8e186\"],[0.8,\"#7fbc41\"],[0.9,\"#4d9221\"],[1,\"#276419\"]],\"sequential\":[[0.0,\"#0d0887\"],[0.1111111111111111,\"#46039f\"],[0.2222222222222222,\"#7201a8\"],[0.3333333333333333,\"#9c179e\"],[0.4444444444444444,\"#bd3786\"],[0.5555555555555556,\"#d8576b\"],[0.6666666666666666,\"#ed7953\"],[0.7777777777777778,\"#fb9f3a\"],[0.8888888888888888,\"#fdca26\"],[1.0,\"#f0f921\"]],\"sequentialminus\":[[0.0,\"#0d0887\"],[0.1111111111111111,\"#46039f\"],[0.2222222222222222,\"#7201a8\"],[0.3333333333333333,\"#9c179e\"],[0.4444444444444444,\"#bd3786\"],[0.5555555555555556,\"#d8576b\"],[0.6666666666666666,\"#ed7953\"],[0.7777777777777778,\"#fb9f3a\"],[0.8888888888888888,\"#fdca26\"],[1.0,\"#f0f921\"]]},\"colorway\":[\"#636efa\",\"#EF553B\",\"#00cc96\",\"#ab63fa\",\"#FFA15A\",\"#19d3f3\",\"#FF6692\",\"#B6E880\",\"#FF97FF\",\"#FECB52\"],\"font\":{\"color\":\"#2a3f5f\"},\"geo\":{\"bgcolor\":\"white\",\"lakecolor\":\"white\",\"landcolor\":\"#E5ECF6\",\"showlakes\":true,\"showland\":true,\"subunitcolor\":\"white\"},\"hoverlabel\":{\"align\":\"left\"},\"hovermode\":\"closest\",\"mapbox\":{\"style\":\"light\"},\"paper_bgcolor\":\"white\",\"plot_bgcolor\":\"#E5ECF6\",\"polar\":{\"angularaxis\":{\"gridcolor\":\"white\",\"linecolor\":\"white\",\"ticks\":\"\"},\"bgcolor\":\"#E5ECF6\",\"radialaxis\":{\"gridcolor\":\"white\",\"linecolor\":\"white\",\"ticks\":\"\"}},\"scene\":{\"xaxis\":{\"backgroundcolor\":\"#E5ECF6\",\"gridcolor\":\"white\",\"gridwidth\":2,\"linecolor\":\"white\",\"showbackground\":true,\"ticks\":\"\",\"zerolinecolor\":\"white\"},\"yaxis\":{\"backgroundcolor\":\"#E5ECF6\",\"gridcolor\":\"white\",\"gridwidth\":2,\"linecolor\":\"white\",\"showbackground\":true,\"ticks\":\"\",\"zerolinecolor\":\"white\"},\"zaxis\":{\"backgroundcolor\":\"#E5ECF6\",\"gridcolor\":\"white\",\"gridwidth\":2,\"linecolor\":\"white\",\"showbackground\":true,\"ticks\":\"\",\"zerolinecolor\":\"white\"}},\"shapedefaults\":{\"line\":{\"color\":\"#2a3f5f\"}},\"ternary\":{\"aaxis\":{\"gridcolor\":\"white\",\"linecolor\":\"white\",\"ticks\":\"\"},\"baxis\":{\"gridcolor\":\"white\",\"linecolor\":\"white\",\"ticks\":\"\"},\"bgcolor\":\"#E5ECF6\",\"caxis\":{\"gridcolor\":\"white\",\"linecolor\":\"white\",\"ticks\":\"\"}},\"title\":{\"x\":0.05},\"xaxis\":{\"automargin\":true,\"gridcolor\":\"white\",\"linecolor\":\"white\",\"ticks\":\"\",\"title\":{\"standoff\":15},\"zerolinecolor\":\"white\",\"zerolinewidth\":2},\"yaxis\":{\"automargin\":true,\"gridcolor\":\"white\",\"linecolor\":\"white\",\"ticks\":\"\",\"title\":{\"standoff\":15},\"zerolinecolor\":\"white\",\"zerolinewidth\":2}}},\"width\":800},                        {\"responsive\": true}                    ).then(function(){\n",
       "                            \n",
       "var gd = document.getElementById('d0fd4117-c627-482b-b27a-a83d0633f2fe');\n",
       "var x = new MutationObserver(function (mutations, observer) {{\n",
       "        var display = window.getComputedStyle(gd).display;\n",
       "        if (!display || display === 'none') {{\n",
       "            console.log([gd, 'removed!']);\n",
       "            Plotly.purge(gd);\n",
       "            observer.disconnect();\n",
       "        }}\n",
       "}});\n",
       "\n",
       "// Listen for the removal of the full notebook cells\n",
       "var notebookContainer = gd.closest('#notebook-container');\n",
       "if (notebookContainer) {{\n",
       "    x.observe(notebookContainer, {childList: true});\n",
       "}}\n",
       "\n",
       "// Listen for the clearing of the current output cell\n",
       "var outputEl = gd.closest('.output');\n",
       "if (outputEl) {{\n",
       "    x.observe(outputEl, {childList: true});\n",
       "}}\n",
       "\n",
       "                        })                };                });            </script>        </div>"
      ]
     },
     "metadata": {},
     "output_type": "display_data"
    }
   ],
   "source": [
    "# Create a 3D-Scatter with the PCA data and the clusters\n",
    "fig = px.scatter_3d(\n",
    "    df_merged,\n",
    "    x=\"PC 1\",\n",
    "    y=\"PC 2\",\n",
    "    z=\"PC 3\",\n",
    "    hover_name='CoinName',\n",
    "    hover_data= ['Algorithm'],\n",
    "    color=\"Class\",\n",
    "    symbol=\"Class\",\n",
    "    width=800\n",
    ")\n",
    "fig.update_layout(legend=dict(x=0, y=1))\n",
    "fig.show()"
   ]
  },
  {
   "cell_type": "code",
   "execution_count": 136,
   "id": "0541b159-2c82-4e27-b96e-d1b65562bb37",
   "metadata": {},
   "outputs": [],
   "source": [
    "# Table with tradable cryptos\n",
    "columns = ['CoinName', 'Algorithm', 'ProofType', 'TotalCoinSupply', 'TotalCoinsMined', 'class']"
   ]
  },
  {
   "cell_type": "code",
   "execution_count": 137,
   "id": "f7f4b656-a8ba-4626-a0ad-dc1a915eeec3",
   "metadata": {},
   "outputs": [
    {
     "data": {
      "text/plain": [
       "532"
      ]
     },
     "execution_count": 137,
     "metadata": {},
     "output_type": "execute_result"
    }
   ],
   "source": [
    "# Print the total number of tradable cryptocurrencies\n",
    "len(df_merged.CoinName)"
   ]
  },
  {
   "cell_type": "code",
   "execution_count": 138,
   "id": "910e666e-4d4e-4303-b4ff-d5d98ef8743b",
   "metadata": {},
   "outputs": [],
   "source": [
    "#Scale data to create the scatter plot\n",
    "df_merged['TotalCoinsMined'] = df_merged['TotalCoinsMined'].astype(float) / 1000000\n",
    "df_merged['TotalCoinSupply'] = df_merged['TotalCoinSupply'].astype(float) / 1000000"
   ]
  },
  {
   "cell_type": "code",
   "execution_count": 139,
   "id": "4c439900-dc0c-40db-8956-3b8ff68db002",
   "metadata": {},
   "outputs": [
    {
     "data": {},
     "metadata": {},
     "output_type": "display_data"
    },
    {
     "data": {
      "application/vnd.holoviews_exec.v0+json": "",
      "text/html": [
       "<div id='2566'>\n",
       "\n",
       "\n",
       "\n",
       "\n",
       "\n",
       "  <div class=\"bk-root\" id=\"9b99180c-851a-41fe-8697-334ba4acc653\" data-root-id=\"2566\"></div>\n",
       "</div>\n",
       "<script type=\"application/javascript\">(function(root) {\n",
       "  function embed_document(root) {\n",
       "    var docs_json = {\"2efc0523-e095-4bd9-b9e5-8c61aab7eef5\":{\"defs\":[],\"roots\":{\"references\":[{\"attributes\":{},\"id\":\"2624\",\"type\":\"UnionRenderers\"},{\"attributes\":{\"axis_label\":\"TotalCoinsMined\",\"formatter\":{\"id\":\"2610\"},\"major_label_policy\":{\"id\":\"2611\"},\"ticker\":{\"id\":\"2581\"}},\"id\":\"2580\",\"type\":\"LinearAxis\"},{\"attributes\":{},\"id\":\"2585\",\"type\":\"BasicTicker\"},{\"attributes\":{\"active_multi\":null,\"tools\":[{\"id\":\"2570\"},{\"id\":\"2588\"},{\"id\":\"2589\"},{\"id\":\"2590\"},{\"id\":\"2591\"},{\"id\":\"2592\"}]},\"id\":\"2594\",\"type\":\"Toolbar\"},{\"attributes\":{},\"id\":\"2602\",\"type\":\"Selection\"},{\"attributes\":{},\"id\":\"2590\",\"type\":\"WheelZoomTool\"},{\"attributes\":{\"source\":{\"id\":\"2601\"}},\"id\":\"2608\",\"type\":\"CDSView\"},{\"attributes\":{\"callback\":null,\"renderers\":[{\"id\":\"2607\"}],\"tags\":[\"hv_created\"],\"tooltips\":[[\"TotalCoinsMined\",\"@{TotalCoinsMined}\"],[\"TotalCoinSupply\",\"@{TotalCoinSupply}\"],[\"CoinName\",\"@{CoinName}\"]]},\"id\":\"2570\",\"type\":\"HoverTool\"},{\"attributes\":{\"end\":1100000.0,\"reset_end\":1100000.0,\"reset_start\":-100000.0,\"start\":-100000.0,\"tags\":[[[\"TotalCoinSupply\",\"TotalCoinSupply\",null]]]},\"id\":\"2569\",\"type\":\"Range1d\"},{\"attributes\":{},\"id\":\"2613\",\"type\":\"BasicTickFormatter\"},{\"attributes\":{},\"id\":\"2611\",\"type\":\"AllLabels\"},{\"attributes\":{\"axis_label\":\"TotalCoinSupply\",\"formatter\":{\"id\":\"2613\"},\"major_label_policy\":{\"id\":\"2614\"},\"ticker\":{\"id\":\"2585\"}},\"id\":\"2584\",\"type\":\"LinearAxis\"},{\"attributes\":{},\"id\":\"2588\",\"type\":\"SaveTool\"},{\"attributes\":{\"angle\":{\"value\":0.0},\"fill_alpha\":{\"value\":1.0},\"fill_color\":{\"field\":\"class\"},\"hatch_alpha\":{\"value\":1.0},\"hatch_color\":{\"value\":\"black\"},\"hatch_scale\":{\"value\":12.0},\"hatch_weight\":{\"value\":1.0},\"line_alpha\":{\"value\":1.0},\"line_cap\":{\"value\":\"butt\"},\"line_color\":{\"field\":\"class\"},\"line_dash\":{\"value\":[]},\"line_dash_offset\":{\"value\":0},\"line_join\":{\"value\":\"bevel\"},\"line_width\":{\"value\":1},\"marker\":{\"value\":\"circle\"},\"size\":{\"value\":5.477225575051661},\"x\":{\"field\":\"TotalCoinsMined\"},\"y\":{\"field\":\"TotalCoinSupply\"}},\"id\":\"2609\",\"type\":\"Scatter\"},{\"attributes\":{\"fill_alpha\":{\"value\":0.1},\"fill_color\":{\"field\":\"class\"},\"line_alpha\":{\"value\":0.1},\"line_color\":{\"field\":\"class\"},\"size\":{\"value\":5.477225575051661},\"x\":{\"field\":\"TotalCoinsMined\"},\"y\":{\"field\":\"TotalCoinSupply\"}},\"id\":\"2605\",\"type\":\"Scatter\"},{\"attributes\":{\"margin\":[5,5,5,5],\"name\":\"HSpacer04173\",\"sizing_mode\":\"stretch_width\"},\"id\":\"2567\",\"type\":\"Spacer\"},{\"attributes\":{},\"id\":\"2589\",\"type\":\"PanTool\"},{\"attributes\":{\"children\":[{\"id\":\"2567\"},{\"id\":\"2571\"},{\"id\":\"2636\"}],\"margin\":[0,0,0,0],\"name\":\"Row04169\",\"tags\":[\"embedded\"]},\"id\":\"2566\",\"type\":\"Row\"},{\"attributes\":{\"bottom_units\":\"screen\",\"fill_alpha\":0.5,\"fill_color\":\"lightgrey\",\"left_units\":\"screen\",\"level\":\"overlay\",\"line_alpha\":1.0,\"line_color\":\"black\",\"line_dash\":[4,4],\"line_width\":2,\"right_units\":\"screen\",\"syncable\":false,\"top_units\":\"screen\"},\"id\":\"2593\",\"type\":\"BoxAnnotation\"},{\"attributes\":{\"end\":1027113.290192061,\"reset_end\":1027113.290192061,\"reset_start\":-37124.57671041189,\"start\":-37124.57671041189,\"tags\":[[[\"TotalCoinsMined\",\"TotalCoinsMined\",null]]]},\"id\":\"2568\",\"type\":\"Range1d\"},{\"attributes\":{\"axis\":{\"id\":\"2584\"},\"dimension\":1,\"grid_line_color\":null,\"ticker\":null},\"id\":\"2587\",\"type\":\"Grid\"},{\"attributes\":{\"fill_alpha\":{\"value\":0.2},\"fill_color\":{\"field\":\"class\"},\"line_alpha\":{\"value\":0.2},\"line_color\":{\"field\":\"class\"},\"size\":{\"value\":5.477225575051661},\"x\":{\"field\":\"TotalCoinsMined\"},\"y\":{\"field\":\"TotalCoinSupply\"}},\"id\":\"2606\",\"type\":\"Scatter\"},{\"attributes\":{},\"id\":\"2581\",\"type\":\"BasicTicker\"},{\"attributes\":{\"overlay\":{\"id\":\"2593\"}},\"id\":\"2591\",\"type\":\"BoxZoomTool\"},{\"attributes\":{},\"id\":\"2578\",\"type\":\"LinearScale\"},{\"attributes\":{\"data_source\":{\"id\":\"2601\"},\"glyph\":{\"id\":\"2604\"},\"hover_glyph\":null,\"muted_glyph\":{\"id\":\"2606\"},\"nonselection_glyph\":{\"id\":\"2605\"},\"selection_glyph\":{\"id\":\"2609\"},\"view\":{\"id\":\"2608\"}},\"id\":\"2607\",\"type\":\"GlyphRenderer\"},{\"attributes\":{},\"id\":\"2592\",\"type\":\"ResetTool\"},{\"attributes\":{\"fill_color\":{\"field\":\"class\"},\"line_color\":{\"field\":\"class\"},\"size\":{\"value\":5.477225575051661},\"x\":{\"field\":\"TotalCoinsMined\"},\"y\":{\"field\":\"TotalCoinSupply\"}},\"id\":\"2604\",\"type\":\"Scatter\"},{\"attributes\":{\"data\":{\"CoinName\":[\"42 Coin\",\"404Coin\",\"EliteCoin\",\"Bitcoin\",\"Ethereum\",\"Litecoin\",\"Dash\",\"Monero\",\"Ethereum Classic\",\"ZCash\",\"Bitshares\",\"DigiByte\",\"BitcoinDark\",\"PayCoin\",\"ProsperCoin\",\"KoboCoin\",\"Spreadcoin\",\"Argentum\",\"Aurora Coin\",\"BlueCoin\",\"MyriadCoin\",\"MoonCoin\",\"ZetaCoin\",\"SexCoin\",\"Quatloo\",\"EnergyCoin\",\"QuarkCoin\",\"Riecoin\",\"Digitalcoin \",\"BitBar\",\"Catcoin\",\"CryptoBullion\",\"CannaCoin\",\"CryptCoin\",\"CasinoCoin\",\"Diamond\",\"Verge\",\"DevCoin\",\"EarthCoin\",\"E-Gulden\",\"Einsteinium\",\"Emerald\",\"Exclusive Coin\",\"FlutterCoin\",\"Franko\",\"FeatherCoin\",\"GrandCoin\",\"GlobalCoin\",\"GoldCoin\",\"HoboNickels\",\"HyperStake\",\"Infinite Coin\",\"IOCoin\",\"IXcoin\",\"KrugerCoin\",\"LuckyCoin\",\"Litebar \",\"MaxCoin\",\"MegaCoin\",\"MediterraneanCoin\",\"MintCoin\",\"MinCoin\",\"MazaCoin\",\"Nautilus Coin\",\"NavCoin\",\"NobleCoin\",\"Namecoin\",\"NyanCoin\",\"OpalCoin\",\"Orbitcoin\",\"PotCoin\",\"PhoenixCoin\",\"Reddcoin\",\"RonPaulCoin\",\"StableCoin\",\"SmartCoin\",\"SuperCoin\",\"SyncCoin\",\"SysCoin\",\"TeslaCoin\",\"TigerCoin\",\"TittieCoin\",\"TorCoin\",\"TerraCoin\",\"UnbreakableCoin\",\"Unobtanium\",\"UroCoin\",\"UnitaryStatus Dollar\",\"UltraCoin\",\"ViaCoin\",\"VeriCoin\",\"Vertcoin\",\"WorldCoin\",\"X11 Coin\",\"Crypti\",\"JouleCoin\",\"StealthCoin\",\"ZCC Coin\",\"ByteCoin\",\"DigitalNote \",\"BurstCoin\",\"StorjCoin\",\"MonaCoin\",\"Neutron\",\"FairCoin\",\"Gulden\",\"RubyCoin\",\"PesetaCoin\",\"Kore\",\"Wild Beast Coin\",\"Dnotes\",\"Flo\",\"8BIT Coin\",\"Sativa Coin\",\"ArtByte\",\"Folding Coin\",\"Ucoin\",\"Unitus\",\"CypherPunkCoin\",\"OmniCron\",\"Vtorrent\",\"GreenCoin\",\"Cryptonite\",\"MasterCoin\",\"SoonCoin\",\"1Credit\",\"IslaCoin\",\"Nexus\",\"MarsCoin \",\"Crypto\",\"Anarchists Prime\",\"Droidz\",\"BowsCoin\",\"Squall Coin\",\"Song Coin\",\"BitZeny\",\"Diggits\",\"Expanse\",\"Paycon\",\"Siacoin\",\"Emercoin\",\"EverGreenCoin\",\"MindCoin\",\"I0coin\",\"Decred\",\"Revolution VR\",\"HOdlcoin\",\"EDRCoin\",\"Hitcoin\",\"Gamecredits\",\"DubaiCoin\",\"CarpeDiemCoin\",\"PWR Coin\",\"BillaryCoin\",\"GPU Coin\",\"Adzcoin\",\"SoilCoin\",\"YoCoin\",\"SibCoin\",\"EuropeCoin\",\"ZeitCoin\",\"SwingCoin\",\"SafeExchangeCoin\",\"Nebuchadnezzar\",\"Francs\",\"BolivarCoin\",\"Ratecoin\",\"Revenu\",\"Clockcoin\",\"VIP Tokens\",\"BitSend\",\"Omni\",\"Let it Ride\",\"PutinCoin\",\"iBankCoin\",\"Frankywillcoin\",\"MudraCoin\",\"PizzaCoin\",\"Lutetium Coin\",\"Komodo\",\"GoldBlocks\",\"CarterCoin\",\"Karbo\",\"BitTokens\",\"ZayedCoin\",\"MustangCoin\",\"ZoneCoin\",\"Circuits of Value\",\"RootCoin\",\"DopeCoin\",\"BitCurrency\",\"DollarCoin\",\"Swiscoin\",\"Shilling\",\"BuzzCoin\",\"Opair\",\"PesoBit\",\"Halloween Coin\",\"ZCoin\",\"CoffeeCoin\",\"RoyalCoin\",\"GanjaCoin V2\",\"TeamUP\",\"LanaCoin\",\"Elementrem\",\"ZClassic\",\"ARK\",\"InsaneCoin\",\"KiloCoin\",\"ArtexCoin\",\"EmberCoin\",\"XenixCoin\",\"FreeCoin\",\"PLNCoin\",\"AquariusCoin\",\"Kurrent\",\"Creatio\",\"Eternity\",\"Eurocoin\",\"BitcoinFast\",\"Stakenet\",\"BitConnect Coin\",\"MoneyCoin\",\"Enigma\",\"Cannabis Industry Coin\",\"Russiacoin\",\"PandaCoin\",\"GameUnits\",\"GAKHcoin\",\"Allsafe\",\"LiteCreed\",\"OsmiumCoin\",\"Bikercoins\",\"HexxCoin\",\"Klingon Empire Darsek\",\"Internet of People\",\"KushCoin\",\"Printerium\",\"PacCoin\",\"Impeach\",\"Citadel\",\"Zilbercoin\",\"FirstCoin\",\"BeaverCoin\",\"FindCoin\",\"VaultCoin\",\"Zero\",\"OpenChat\",\"Canada eCoin\",\"Zoin\",\"RenosCoin\",\"DubaiCoin\",\"VirtacoinPlus\",\"TajCoin\",\"Impact\",\"EB3coin\",\"Atmos\",\"HappyCoin\",\"Coinonat\",\"MacronCoin\",\"Condensate\",\"Independent Money System\",\"ArgusCoin\",\"LomoCoin\",\"ProCurrency\",\"GoldReserve\",\"BenjiRolls\",\"GrowthCoin\",\"ILCoin\",\"Phreak\",\"Degas Coin\",\"HTML5 Coin\",\"Ultimate Secure Cash\",\"EquiTrader\",\"QTUM\",\"Quantum Resistant Ledger\",\"Espers\",\"Dynamic\",\"Nano\",\"ChanCoin\",\"Dinastycoin\",\"Denarius\",\"DigitalPrice\",\"Virta Unique Coin\",\"Bitcoin Planet\",\"Unify\",\"BritCoin\",\"SocialCoin\",\"ArcticCoin\",\"DAS\",\"Linda\",\"LeviarCoin\",\"DeepOnion\",\"Bitcore\",\"gCn Coin\",\"SmartCash\",\"Signatum\",\"Onix\",\"Cream\",\"Bitcoin Cash\",\"Monoeci\",\"Draftcoin\",\"Vechain\",\"Sojourn Coin\",\"Stakecoin\",\"NewYorkCoin\",\"FrazCoin\",\"Kronecoin\",\"AdCoin\",\"Linx\",\"CoinonatX\",\"Ethereum Dark\",\"Sumokoin\",\"Obsidian\",\"Cardano\",\"Regalcoin\",\"BitcoinZ\",\"TrezarCoin\",\"Elements\",\"TerraNovaCoin\",\"VIVO Coin\",\"Rupee\",\"Bitcoin Gold\",\"WomenCoin\",\"Theresa May Coin\",\"NamoCoin\",\"LUXCoin\",\"Pirl\",\"Xios\",\"Bitcloud 2.0\",\"eBoost\",\"KekCoin\",\"BlackholeCoin\",\"Infinity Economics\",\"Pura\",\"Innova\",\"Ellaism\",\"GoByte\",\"Magnet\",\"Lamden Tau\",\"Electra\",\"Bitcoin Diamond\",\"SHIELD\",\"Cash & Back Coin\",\"UltraNote\",\"BitCoal\",\"DaxxCoin\",\"Bulwark\",\"Kalkulus\",\"AC3\",\"Lethean\",\"GermanCoin\",\"LiteCoin Ultra\",\"PopularCoin\",\"PhantomX\",\"Photon\",\"Sucre\",\"SparksPay\",\"Digiwage\",\"GunCoin\",\"IrishCoin\",\"Trollcoin\",\"Litecoin Plus\",\"Monkey Project\",\"Pioneer Coin\",\"UnitedBitcoin\",\"Interzone\",\"TokenPay\",\"1717 Masonic Commemorative Token\",\"My Big Coin\",\"TurtleCoin\",\"MUNcoin\",\"Unified Society USDEX\",\"Niobio Cash\",\"ShareChain\",\"Travelflex\",\"KREDS\",\"Tokyo Coin\",\"BiblePay\",\"LitecoinCash\",\"BitFlip\",\"LottoCoin\",\"Crypto Improvement Fund\",\"Stipend\",\"Poa Network\",\"Pushi\",\"Ellerium\",\"Velox\",\"Ontology\",\"Callisto Network\",\"BitTube\",\"Poseidon\",\"Aidos Kuneen\",\"Bitspace\",\"Briacoin\",\"Ignition\",\"Bitrolium\",\"MedicCoin\",\"Alpenschillling\",\"Bitcoin Green\",\"Deviant Coin\",\"Abjcoin\",\"Semux\",\"FuturoCoin\",\"Carebit\",\"Zealium\",\"Monero Classic\",\"Proton\",\"iDealCash\",\"Jumpcoin\",\"Infinex\",\"Bitcoin Incognito\",\"KEYCO\",\"HollyWoodCoin\",\"GINcoin\",\"PlatinCoin\",\"Loki\",\"Newton Coin\",\"Swisscoin\",\"Xt3ch\",\"MassGrid\",\"TheVig\",\"PluraCoin\",\"EmaratCoin\",\"Dekado\",\"Lynx\",\"Poseidon Quark\",\"BitcoinWSpectrum\",\"Muse\",\"Motion\",\"PlusOneCoin\",\"Axe\",\"Trivechain\",\"Dystem\",\"Giant\",\"Peony Coin\",\"Absolute Coin\",\"Vitae\",\"HexCoin\",\"TPCash\",\"Webchain\",\"Ryo\",\"Urals Coin\",\"Qwertycoin\",\"ARENON\",\"EUNO\",\"MMOCoin\",\"Ketan\",\"Project Pai\",\"XDNA\",\"PAXEX\",\"Azart\",\"ThunderStake\",\"Kcash\",\"Xchange\",\"Acute Angle Cloud\",\"CrypticCoin\",\"Bettex coin\",\"Actinium\",\"Bitcoin SV\",\"BitMoney\",\"Junson Ming Chan Coin\",\"FREDEnergy\",\"HerbCoin\",\"Universal Molecule\",\"Lithium\",\"PirateCash\",\"Exosis\",\"Block-Logic\",\"Oduwa\",\"Beam\",\"Galilel\",\"Bithereum\",\"Crypto Sports\",\"Credit\",\"SLICE\",\"Dash Platinum\",\"Nasdacoin\",\"Beetle Coin\",\"Titan Coin\",\"Award\",\"BLAST\",\"Bitcoin Rhodium\",\"GlobalToken\",\"Insane Coin\",\"ALAX\",\"LiteDoge\",\"SolarCoin\",\"TruckCoin\",\"UFO Coin\",\"OrangeCoin\",\"BlakeCoin\",\"BitstarCoin\",\"NeosCoin\",\"HyperCoin\",\"PinkCoin\",\"Crypto Escudo\",\"AudioCoin\",\"IncaKoin\",\"Piggy Coin\",\"Crown Coin\",\"Genstake\",\"SmileyCoin\",\"XiaoMiCoin\",\"Groestlcoin\",\"CapriCoin\",\" ClubCoin\",\"Radium\",\"Bata\",\"Pakcoin\",\"Creditbit \",\"OKCash\",\"Lisk\",\"HiCoin\",\"WhiteCoin\",\"FriendshipCoin\",\"JoinCoin\",\"Triangles Coin\",\"Vollar\",\"EOS\",\"Reality Clash\",\"Oxycoin\",\"TigerCash\",\"Waves\",\"Particl\",\"BitTorrent\",\"Nxt\",\"ZEPHYR\",\"Gapcoin\",\"Beldex\",\"Horizen\",\"BitcoinPlus\"],\"TotalCoinSupply\":{\"__ndarray__\":\"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\",\"dtype\":\"float64\",\"order\":\"little\",\"shape\":[532]},\"TotalCoinsMined\":{\"__ndarray__\":\"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\",\"dtype\":\"float64\",\"order\":\"little\",\"shape\":[532]}},\"selected\":{\"id\":\"2602\"},\"selection_policy\":{\"id\":\"2624\"}},\"id\":\"2601\",\"type\":\"ColumnDataSource\"},{\"attributes\":{\"axis\":{\"id\":\"2580\"},\"grid_line_color\":null,\"ticker\":null},\"id\":\"2583\",\"type\":\"Grid\"},{\"attributes\":{\"margin\":[5,5,5,5],\"name\":\"HSpacer04174\",\"sizing_mode\":\"stretch_width\"},\"id\":\"2636\",\"type\":\"Spacer\"},{\"attributes\":{},\"id\":\"2576\",\"type\":\"LinearScale\"},{\"attributes\":{},\"id\":\"2614\",\"type\":\"AllLabels\"},{\"attributes\":{},\"id\":\"2610\",\"type\":\"BasicTickFormatter\"},{\"attributes\":{\"text_color\":\"black\",\"text_font_size\":\"12pt\"},\"id\":\"2572\",\"type\":\"Title\"},{\"attributes\":{\"below\":[{\"id\":\"2580\"}],\"center\":[{\"id\":\"2583\"},{\"id\":\"2587\"}],\"height\":300,\"left\":[{\"id\":\"2584\"}],\"margin\":[5,5,5,5],\"min_border_bottom\":10,\"min_border_left\":10,\"min_border_right\":10,\"min_border_top\":10,\"renderers\":[{\"id\":\"2607\"}],\"sizing_mode\":\"fixed\",\"title\":{\"id\":\"2572\"},\"toolbar\":{\"id\":\"2594\"},\"width\":800,\"x_range\":{\"id\":\"2568\"},\"x_scale\":{\"id\":\"2576\"},\"y_range\":{\"id\":\"2569\"},\"y_scale\":{\"id\":\"2578\"}},\"id\":\"2571\",\"subtype\":\"Figure\",\"type\":\"Plot\"}],\"root_ids\":[\"2566\"]},\"title\":\"Bokeh Application\",\"version\":\"2.3.3\"}};\n",
       "    var render_items = [{\"docid\":\"2efc0523-e095-4bd9-b9e5-8c61aab7eef5\",\"root_ids\":[\"2566\"],\"roots\":{\"2566\":\"9b99180c-851a-41fe-8697-334ba4acc653\"}}];\n",
       "    root.Bokeh.embed.embed_items_notebook(docs_json, render_items);\n",
       "  }\n",
       "  if (root.Bokeh !== undefined && root.Bokeh.Panel !== undefined) {\n",
       "    embed_document(root);\n",
       "  } else {\n",
       "    var attempts = 0;\n",
       "    var timer = setInterval(function(root) {\n",
       "      if (root.Bokeh !== undefined && root.Bokeh.Panel !== undefined) {\n",
       "        clearInterval(timer);\n",
       "        embed_document(root);\n",
       "      } else if (document.readyState == \"complete\") {\n",
       "        attempts++;\n",
       "        if (attempts > 100) {\n",
       "          clearInterval(timer);\n",
       "          console.log(\"Bokeh: ERROR: Unable to run BokehJS code because BokehJS library is missing\");\n",
       "        }\n",
       "      }\n",
       "    }, 10, root)\n",
       "  }\n",
       "})(window);</script>"
      ],
      "text/plain": [
       ":Scatter   [TotalCoinsMined]   (TotalCoinSupply,CoinName)"
      ]
     },
     "execution_count": 139,
     "metadata": {
      "application/vnd.holoviews_exec.v0+json": {
       "id": "2566"
      }
     },
     "output_type": "execute_result"
    }
   ],
   "source": [
    "# Plot the scatter with x=\"TotalCoinsMined\" and y=\"TotalCoinSupply\"\n",
    "df_merged.hvplot(\n",
    "    kind=\"scatter\", \n",
    "    x=\"TotalCoinsMined\", \n",
    "    y=\"TotalCoinSupply\", \n",
    "    c='class', \n",
    "    colormap=\"viridis\", \n",
    "    hover_cols=['CoinName'],\n",
    "    width=800\n",
    ")"
   ]
  },
  {
   "cell_type": "code",
   "execution_count": null,
   "id": "0873a2f4-55d0-4dec-86c2-dc22a66bba86",
   "metadata": {},
   "outputs": [],
   "source": []
  }
 ],
 "metadata": {
  "kernelspec": {
   "display_name": "Python [conda env:pyvizenv2]",
   "language": "python",
   "name": "conda-env-pyvizenv2-py"
  },
  "language_info": {
   "codemirror_mode": {
    "name": "ipython",
    "version": 3
   },
   "file_extension": ".py",
   "mimetype": "text/x-python",
   "name": "python",
   "nbconvert_exporter": "python",
   "pygments_lexer": "ipython3",
   "version": "3.7.10"
  }
 },
 "nbformat": 4,
 "nbformat_minor": 5
}
